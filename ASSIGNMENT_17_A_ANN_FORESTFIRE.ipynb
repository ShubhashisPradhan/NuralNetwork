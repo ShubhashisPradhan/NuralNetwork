{
  "nbformat": 4,
  "nbformat_minor": 0,
  "metadata": {
    "colab": {
      "provenance": []
    },
    "kernelspec": {
      "name": "python3",
      "display_name": "Python 3"
    },
    "language_info": {
      "name": "python"
    }
  },
  "cells": [
    {
      "cell_type": "code",
      "execution_count": 1,
      "metadata": {
        "colab": {
          "base_uri": "https://localhost:8080/"
        },
        "id": "en561OOy_6iL",
        "outputId": "e7915ca3-1b3b-463f-a648-bb9f31862d60"
      },
      "outputs": [
        {
          "output_type": "stream",
          "name": "stdout",
          "text": [
            "Looking in indexes: https://pypi.org/simple, https://us-python.pkg.dev/colab-wheels/public/simple/\n",
            "Requirement already satisfied: keras in /usr/local/lib/python3.10/dist-packages (2.12.0)\n"
          ]
        }
      ],
      "source": [
        "!pip install keras"
      ]
    },
    {
      "cell_type": "code",
      "source": [
        "import pandas as pd\n",
        "import numpy as np\n",
        "import seaborn as sns\n",
        "from sklearn.preprocessing import LabelEncoder,MinMaxScaler,StandardScaler\n",
        "import matplotlib.pyplot as plt\n",
        "import warnings\n",
        "warnings.filterwarnings(\"ignore\")\n",
        "from keras.models import Sequential\n",
        "from keras.layers import Dense\n",
        "from keras.optimizers import Adam\n",
        "import numpy\n",
        "\n",
        "from keras.wrappers.scikit_learn import KerasRegressor,KerasClassifier\n",
        "from sklearn.model_selection import cross_val_score,train_test_split\n",
        "from sklearn.model_selection import KFold,GridSearchCV\n",
        "\n",
        "from sklearn.metrics import accuracy_score, confusion_matrix, classification_report\n",
        "\n"
      ],
      "metadata": {
        "id": "MAN4hdi3ASe_"
      },
      "execution_count": 2,
      "outputs": []
    },
    {
      "cell_type": "code",
      "source": [
        "forest=pd.read_csv(\"/content/sample_data/forestfires.csv\")\n",
        "forest.head()"
      ],
      "metadata": {
        "colab": {
          "base_uri": "https://localhost:8080/",
          "height": 299
        },
        "id": "HxdMfq3ABN1H",
        "outputId": "73e1561c-4796-4416-a440-af8bfc8bc59a"
      },
      "execution_count": 3,
      "outputs": [
        {
          "output_type": "execute_result",
          "data": {
            "text/plain": [
              "  month  day  FFMC   DMC     DC  ISI  temp  RH  wind  rain  ...  monthfeb  \\\n",
              "0   mar  fri  86.2  26.2   94.3  5.1   8.2  51   6.7   0.0  ...         0   \n",
              "1   oct  tue  90.6  35.4  669.1  6.7  18.0  33   0.9   0.0  ...         0   \n",
              "2   oct  sat  90.6  43.7  686.9  6.7  14.6  33   1.3   0.0  ...         0   \n",
              "3   mar  fri  91.7  33.3   77.5  9.0   8.3  97   4.0   0.2  ...         0   \n",
              "4   mar  sun  89.3  51.3  102.2  9.6  11.4  99   1.8   0.0  ...         0   \n",
              "\n",
              "   monthjan  monthjul  monthjun  monthmar  monthmay  monthnov  monthoct  \\\n",
              "0         0         0         0         1         0         0         0   \n",
              "1         0         0         0         0         0         0         1   \n",
              "2         0         0         0         0         0         0         1   \n",
              "3         0         0         0         1         0         0         0   \n",
              "4         0         0         0         1         0         0         0   \n",
              "\n",
              "   monthsep  size_category  \n",
              "0         0          small  \n",
              "1         0          small  \n",
              "2         0          small  \n",
              "3         0          small  \n",
              "4         0          small  \n",
              "\n",
              "[5 rows x 31 columns]"
            ],
            "text/html": [
              "\n",
              "  <div id=\"df-33838f02-7f9c-4aeb-b200-dc0949d8ca78\">\n",
              "    <div class=\"colab-df-container\">\n",
              "      <div>\n",
              "<style scoped>\n",
              "    .dataframe tbody tr th:only-of-type {\n",
              "        vertical-align: middle;\n",
              "    }\n",
              "\n",
              "    .dataframe tbody tr th {\n",
              "        vertical-align: top;\n",
              "    }\n",
              "\n",
              "    .dataframe thead th {\n",
              "        text-align: right;\n",
              "    }\n",
              "</style>\n",
              "<table border=\"1\" class=\"dataframe\">\n",
              "  <thead>\n",
              "    <tr style=\"text-align: right;\">\n",
              "      <th></th>\n",
              "      <th>month</th>\n",
              "      <th>day</th>\n",
              "      <th>FFMC</th>\n",
              "      <th>DMC</th>\n",
              "      <th>DC</th>\n",
              "      <th>ISI</th>\n",
              "      <th>temp</th>\n",
              "      <th>RH</th>\n",
              "      <th>wind</th>\n",
              "      <th>rain</th>\n",
              "      <th>...</th>\n",
              "      <th>monthfeb</th>\n",
              "      <th>monthjan</th>\n",
              "      <th>monthjul</th>\n",
              "      <th>monthjun</th>\n",
              "      <th>monthmar</th>\n",
              "      <th>monthmay</th>\n",
              "      <th>monthnov</th>\n",
              "      <th>monthoct</th>\n",
              "      <th>monthsep</th>\n",
              "      <th>size_category</th>\n",
              "    </tr>\n",
              "  </thead>\n",
              "  <tbody>\n",
              "    <tr>\n",
              "      <th>0</th>\n",
              "      <td>mar</td>\n",
              "      <td>fri</td>\n",
              "      <td>86.2</td>\n",
              "      <td>26.2</td>\n",
              "      <td>94.3</td>\n",
              "      <td>5.1</td>\n",
              "      <td>8.2</td>\n",
              "      <td>51</td>\n",
              "      <td>6.7</td>\n",
              "      <td>0.0</td>\n",
              "      <td>...</td>\n",
              "      <td>0</td>\n",
              "      <td>0</td>\n",
              "      <td>0</td>\n",
              "      <td>0</td>\n",
              "      <td>1</td>\n",
              "      <td>0</td>\n",
              "      <td>0</td>\n",
              "      <td>0</td>\n",
              "      <td>0</td>\n",
              "      <td>small</td>\n",
              "    </tr>\n",
              "    <tr>\n",
              "      <th>1</th>\n",
              "      <td>oct</td>\n",
              "      <td>tue</td>\n",
              "      <td>90.6</td>\n",
              "      <td>35.4</td>\n",
              "      <td>669.1</td>\n",
              "      <td>6.7</td>\n",
              "      <td>18.0</td>\n",
              "      <td>33</td>\n",
              "      <td>0.9</td>\n",
              "      <td>0.0</td>\n",
              "      <td>...</td>\n",
              "      <td>0</td>\n",
              "      <td>0</td>\n",
              "      <td>0</td>\n",
              "      <td>0</td>\n",
              "      <td>0</td>\n",
              "      <td>0</td>\n",
              "      <td>0</td>\n",
              "      <td>1</td>\n",
              "      <td>0</td>\n",
              "      <td>small</td>\n",
              "    </tr>\n",
              "    <tr>\n",
              "      <th>2</th>\n",
              "      <td>oct</td>\n",
              "      <td>sat</td>\n",
              "      <td>90.6</td>\n",
              "      <td>43.7</td>\n",
              "      <td>686.9</td>\n",
              "      <td>6.7</td>\n",
              "      <td>14.6</td>\n",
              "      <td>33</td>\n",
              "      <td>1.3</td>\n",
              "      <td>0.0</td>\n",
              "      <td>...</td>\n",
              "      <td>0</td>\n",
              "      <td>0</td>\n",
              "      <td>0</td>\n",
              "      <td>0</td>\n",
              "      <td>0</td>\n",
              "      <td>0</td>\n",
              "      <td>0</td>\n",
              "      <td>1</td>\n",
              "      <td>0</td>\n",
              "      <td>small</td>\n",
              "    </tr>\n",
              "    <tr>\n",
              "      <th>3</th>\n",
              "      <td>mar</td>\n",
              "      <td>fri</td>\n",
              "      <td>91.7</td>\n",
              "      <td>33.3</td>\n",
              "      <td>77.5</td>\n",
              "      <td>9.0</td>\n",
              "      <td>8.3</td>\n",
              "      <td>97</td>\n",
              "      <td>4.0</td>\n",
              "      <td>0.2</td>\n",
              "      <td>...</td>\n",
              "      <td>0</td>\n",
              "      <td>0</td>\n",
              "      <td>0</td>\n",
              "      <td>0</td>\n",
              "      <td>1</td>\n",
              "      <td>0</td>\n",
              "      <td>0</td>\n",
              "      <td>0</td>\n",
              "      <td>0</td>\n",
              "      <td>small</td>\n",
              "    </tr>\n",
              "    <tr>\n",
              "      <th>4</th>\n",
              "      <td>mar</td>\n",
              "      <td>sun</td>\n",
              "      <td>89.3</td>\n",
              "      <td>51.3</td>\n",
              "      <td>102.2</td>\n",
              "      <td>9.6</td>\n",
              "      <td>11.4</td>\n",
              "      <td>99</td>\n",
              "      <td>1.8</td>\n",
              "      <td>0.0</td>\n",
              "      <td>...</td>\n",
              "      <td>0</td>\n",
              "      <td>0</td>\n",
              "      <td>0</td>\n",
              "      <td>0</td>\n",
              "      <td>1</td>\n",
              "      <td>0</td>\n",
              "      <td>0</td>\n",
              "      <td>0</td>\n",
              "      <td>0</td>\n",
              "      <td>small</td>\n",
              "    </tr>\n",
              "  </tbody>\n",
              "</table>\n",
              "<p>5 rows × 31 columns</p>\n",
              "</div>\n",
              "      <button class=\"colab-df-convert\" onclick=\"convertToInteractive('df-33838f02-7f9c-4aeb-b200-dc0949d8ca78')\"\n",
              "              title=\"Convert this dataframe to an interactive table.\"\n",
              "              style=\"display:none;\">\n",
              "        \n",
              "  <svg xmlns=\"http://www.w3.org/2000/svg\" height=\"24px\"viewBox=\"0 0 24 24\"\n",
              "       width=\"24px\">\n",
              "    <path d=\"M0 0h24v24H0V0z\" fill=\"none\"/>\n",
              "    <path d=\"M18.56 5.44l.94 2.06.94-2.06 2.06-.94-2.06-.94-.94-2.06-.94 2.06-2.06.94zm-11 1L8.5 8.5l.94-2.06 2.06-.94-2.06-.94L8.5 2.5l-.94 2.06-2.06.94zm10 10l.94 2.06.94-2.06 2.06-.94-2.06-.94-.94-2.06-.94 2.06-2.06.94z\"/><path d=\"M17.41 7.96l-1.37-1.37c-.4-.4-.92-.59-1.43-.59-.52 0-1.04.2-1.43.59L10.3 9.45l-7.72 7.72c-.78.78-.78 2.05 0 2.83L4 21.41c.39.39.9.59 1.41.59.51 0 1.02-.2 1.41-.59l7.78-7.78 2.81-2.81c.8-.78.8-2.07 0-2.86zM5.41 20L4 18.59l7.72-7.72 1.47 1.35L5.41 20z\"/>\n",
              "  </svg>\n",
              "      </button>\n",
              "      \n",
              "  <style>\n",
              "    .colab-df-container {\n",
              "      display:flex;\n",
              "      flex-wrap:wrap;\n",
              "      gap: 12px;\n",
              "    }\n",
              "\n",
              "    .colab-df-convert {\n",
              "      background-color: #E8F0FE;\n",
              "      border: none;\n",
              "      border-radius: 50%;\n",
              "      cursor: pointer;\n",
              "      display: none;\n",
              "      fill: #1967D2;\n",
              "      height: 32px;\n",
              "      padding: 0 0 0 0;\n",
              "      width: 32px;\n",
              "    }\n",
              "\n",
              "    .colab-df-convert:hover {\n",
              "      background-color: #E2EBFA;\n",
              "      box-shadow: 0px 1px 2px rgba(60, 64, 67, 0.3), 0px 1px 3px 1px rgba(60, 64, 67, 0.15);\n",
              "      fill: #174EA6;\n",
              "    }\n",
              "\n",
              "    [theme=dark] .colab-df-convert {\n",
              "      background-color: #3B4455;\n",
              "      fill: #D2E3FC;\n",
              "    }\n",
              "\n",
              "    [theme=dark] .colab-df-convert:hover {\n",
              "      background-color: #434B5C;\n",
              "      box-shadow: 0px 1px 3px 1px rgba(0, 0, 0, 0.15);\n",
              "      filter: drop-shadow(0px 1px 2px rgba(0, 0, 0, 0.3));\n",
              "      fill: #FFFFFF;\n",
              "    }\n",
              "  </style>\n",
              "\n",
              "      <script>\n",
              "        const buttonEl =\n",
              "          document.querySelector('#df-33838f02-7f9c-4aeb-b200-dc0949d8ca78 button.colab-df-convert');\n",
              "        buttonEl.style.display =\n",
              "          google.colab.kernel.accessAllowed ? 'block' : 'none';\n",
              "\n",
              "        async function convertToInteractive(key) {\n",
              "          const element = document.querySelector('#df-33838f02-7f9c-4aeb-b200-dc0949d8ca78');\n",
              "          const dataTable =\n",
              "            await google.colab.kernel.invokeFunction('convertToInteractive',\n",
              "                                                     [key], {});\n",
              "          if (!dataTable) return;\n",
              "\n",
              "          const docLinkHtml = 'Like what you see? Visit the ' +\n",
              "            '<a target=\"_blank\" href=https://colab.research.google.com/notebooks/data_table.ipynb>data table notebook</a>'\n",
              "            + ' to learn more about interactive tables.';\n",
              "          element.innerHTML = '';\n",
              "          dataTable['output_type'] = 'display_data';\n",
              "          await google.colab.output.renderOutput(dataTable, element);\n",
              "          const docLink = document.createElement('div');\n",
              "          docLink.innerHTML = docLinkHtml;\n",
              "          element.appendChild(docLink);\n",
              "        }\n",
              "      </script>\n",
              "    </div>\n",
              "  </div>\n",
              "  "
            ]
          },
          "metadata": {},
          "execution_count": 3
        }
      ]
    },
    {
      "cell_type": "code",
      "source": [
        "forest.shape"
      ],
      "metadata": {
        "colab": {
          "base_uri": "https://localhost:8080/"
        },
        "id": "0QMHNyhmBWTU",
        "outputId": "307a6a5b-35d9-4ef1-e8dd-5e663800a183"
      },
      "execution_count": 4,
      "outputs": [
        {
          "output_type": "execute_result",
          "data": {
            "text/plain": [
              "(517, 31)"
            ]
          },
          "metadata": {},
          "execution_count": 4
        }
      ]
    },
    {
      "cell_type": "code",
      "source": [
        "forest.columns"
      ],
      "metadata": {
        "colab": {
          "base_uri": "https://localhost:8080/"
        },
        "id": "0nQaVev6CLNJ",
        "outputId": "b3c9d6df-d28f-4bbd-8b00-e87a70cdfb2e"
      },
      "execution_count": 5,
      "outputs": [
        {
          "output_type": "execute_result",
          "data": {
            "text/plain": [
              "Index(['month', 'day', 'FFMC', 'DMC', 'DC', 'ISI', 'temp', 'RH', 'wind',\n",
              "       'rain', 'area', 'dayfri', 'daymon', 'daysat', 'daysun', 'daythu',\n",
              "       'daytue', 'daywed', 'monthapr', 'monthaug', 'monthdec', 'monthfeb',\n",
              "       'monthjan', 'monthjul', 'monthjun', 'monthmar', 'monthmay', 'monthnov',\n",
              "       'monthoct', 'monthsep', 'size_category'],\n",
              "      dtype='object')"
            ]
          },
          "metadata": {},
          "execution_count": 5
        }
      ]
    },
    {
      "cell_type": "code",
      "source": [
        "forest1=forest.drop(['month','day'],axis=1)\n",
        "forest2=forest.drop(['dayfri', 'daymon', 'daysat', 'daysun', 'daythu',\n",
        "       'daytue', 'daywed', 'monthapr', 'monthaug', 'monthdec', 'monthfeb',\n",
        "       'monthjan', 'monthjul', 'monthjun', 'monthmar', 'monthmay', 'monthnov',\n",
        "       'monthoct', 'monthsep'],axis=1)"
      ],
      "metadata": {
        "id": "5y-tNoRLBn_I"
      },
      "execution_count": 6,
      "outputs": []
    },
    {
      "cell_type": "code",
      "source": [
        "forest_new=forest.drop(['dayfri', 'daymon', 'daysat', 'daysun', 'daythu',\n",
        "       'daytue', 'daywed', 'monthapr', 'monthaug', 'monthdec', 'monthfeb',\n",
        "       'monthjan', 'monthjul', 'monthjun', 'monthmar', 'monthmay', 'monthnov',\n",
        "       'monthoct', 'monthsep'],axis=1)"
      ],
      "metadata": {
        "id": "VWv8dgfh27sQ"
      },
      "execution_count": 7,
      "outputs": []
    },
    {
      "cell_type": "code",
      "source": [
        "forest2.head()"
      ],
      "metadata": {
        "colab": {
          "base_uri": "https://localhost:8080/",
          "height": 206
        },
        "id": "DdNV1fqNCoGc",
        "outputId": "b23b7b79-a7a6-4793-a07a-a357e98ca661"
      },
      "execution_count": 8,
      "outputs": [
        {
          "output_type": "execute_result",
          "data": {
            "text/plain": [
              "  month  day  FFMC   DMC     DC  ISI  temp  RH  wind  rain  area size_category\n",
              "0   mar  fri  86.2  26.2   94.3  5.1   8.2  51   6.7   0.0   0.0         small\n",
              "1   oct  tue  90.6  35.4  669.1  6.7  18.0  33   0.9   0.0   0.0         small\n",
              "2   oct  sat  90.6  43.7  686.9  6.7  14.6  33   1.3   0.0   0.0         small\n",
              "3   mar  fri  91.7  33.3   77.5  9.0   8.3  97   4.0   0.2   0.0         small\n",
              "4   mar  sun  89.3  51.3  102.2  9.6  11.4  99   1.8   0.0   0.0         small"
            ],
            "text/html": [
              "\n",
              "  <div id=\"df-7270e592-46ac-4b15-bb7a-31f8f36136c4\">\n",
              "    <div class=\"colab-df-container\">\n",
              "      <div>\n",
              "<style scoped>\n",
              "    .dataframe tbody tr th:only-of-type {\n",
              "        vertical-align: middle;\n",
              "    }\n",
              "\n",
              "    .dataframe tbody tr th {\n",
              "        vertical-align: top;\n",
              "    }\n",
              "\n",
              "    .dataframe thead th {\n",
              "        text-align: right;\n",
              "    }\n",
              "</style>\n",
              "<table border=\"1\" class=\"dataframe\">\n",
              "  <thead>\n",
              "    <tr style=\"text-align: right;\">\n",
              "      <th></th>\n",
              "      <th>month</th>\n",
              "      <th>day</th>\n",
              "      <th>FFMC</th>\n",
              "      <th>DMC</th>\n",
              "      <th>DC</th>\n",
              "      <th>ISI</th>\n",
              "      <th>temp</th>\n",
              "      <th>RH</th>\n",
              "      <th>wind</th>\n",
              "      <th>rain</th>\n",
              "      <th>area</th>\n",
              "      <th>size_category</th>\n",
              "    </tr>\n",
              "  </thead>\n",
              "  <tbody>\n",
              "    <tr>\n",
              "      <th>0</th>\n",
              "      <td>mar</td>\n",
              "      <td>fri</td>\n",
              "      <td>86.2</td>\n",
              "      <td>26.2</td>\n",
              "      <td>94.3</td>\n",
              "      <td>5.1</td>\n",
              "      <td>8.2</td>\n",
              "      <td>51</td>\n",
              "      <td>6.7</td>\n",
              "      <td>0.0</td>\n",
              "      <td>0.0</td>\n",
              "      <td>small</td>\n",
              "    </tr>\n",
              "    <tr>\n",
              "      <th>1</th>\n",
              "      <td>oct</td>\n",
              "      <td>tue</td>\n",
              "      <td>90.6</td>\n",
              "      <td>35.4</td>\n",
              "      <td>669.1</td>\n",
              "      <td>6.7</td>\n",
              "      <td>18.0</td>\n",
              "      <td>33</td>\n",
              "      <td>0.9</td>\n",
              "      <td>0.0</td>\n",
              "      <td>0.0</td>\n",
              "      <td>small</td>\n",
              "    </tr>\n",
              "    <tr>\n",
              "      <th>2</th>\n",
              "      <td>oct</td>\n",
              "      <td>sat</td>\n",
              "      <td>90.6</td>\n",
              "      <td>43.7</td>\n",
              "      <td>686.9</td>\n",
              "      <td>6.7</td>\n",
              "      <td>14.6</td>\n",
              "      <td>33</td>\n",
              "      <td>1.3</td>\n",
              "      <td>0.0</td>\n",
              "      <td>0.0</td>\n",
              "      <td>small</td>\n",
              "    </tr>\n",
              "    <tr>\n",
              "      <th>3</th>\n",
              "      <td>mar</td>\n",
              "      <td>fri</td>\n",
              "      <td>91.7</td>\n",
              "      <td>33.3</td>\n",
              "      <td>77.5</td>\n",
              "      <td>9.0</td>\n",
              "      <td>8.3</td>\n",
              "      <td>97</td>\n",
              "      <td>4.0</td>\n",
              "      <td>0.2</td>\n",
              "      <td>0.0</td>\n",
              "      <td>small</td>\n",
              "    </tr>\n",
              "    <tr>\n",
              "      <th>4</th>\n",
              "      <td>mar</td>\n",
              "      <td>sun</td>\n",
              "      <td>89.3</td>\n",
              "      <td>51.3</td>\n",
              "      <td>102.2</td>\n",
              "      <td>9.6</td>\n",
              "      <td>11.4</td>\n",
              "      <td>99</td>\n",
              "      <td>1.8</td>\n",
              "      <td>0.0</td>\n",
              "      <td>0.0</td>\n",
              "      <td>small</td>\n",
              "    </tr>\n",
              "  </tbody>\n",
              "</table>\n",
              "</div>\n",
              "      <button class=\"colab-df-convert\" onclick=\"convertToInteractive('df-7270e592-46ac-4b15-bb7a-31f8f36136c4')\"\n",
              "              title=\"Convert this dataframe to an interactive table.\"\n",
              "              style=\"display:none;\">\n",
              "        \n",
              "  <svg xmlns=\"http://www.w3.org/2000/svg\" height=\"24px\"viewBox=\"0 0 24 24\"\n",
              "       width=\"24px\">\n",
              "    <path d=\"M0 0h24v24H0V0z\" fill=\"none\"/>\n",
              "    <path d=\"M18.56 5.44l.94 2.06.94-2.06 2.06-.94-2.06-.94-.94-2.06-.94 2.06-2.06.94zm-11 1L8.5 8.5l.94-2.06 2.06-.94-2.06-.94L8.5 2.5l-.94 2.06-2.06.94zm10 10l.94 2.06.94-2.06 2.06-.94-2.06-.94-.94-2.06-.94 2.06-2.06.94z\"/><path d=\"M17.41 7.96l-1.37-1.37c-.4-.4-.92-.59-1.43-.59-.52 0-1.04.2-1.43.59L10.3 9.45l-7.72 7.72c-.78.78-.78 2.05 0 2.83L4 21.41c.39.39.9.59 1.41.59.51 0 1.02-.2 1.41-.59l7.78-7.78 2.81-2.81c.8-.78.8-2.07 0-2.86zM5.41 20L4 18.59l7.72-7.72 1.47 1.35L5.41 20z\"/>\n",
              "  </svg>\n",
              "      </button>\n",
              "      \n",
              "  <style>\n",
              "    .colab-df-container {\n",
              "      display:flex;\n",
              "      flex-wrap:wrap;\n",
              "      gap: 12px;\n",
              "    }\n",
              "\n",
              "    .colab-df-convert {\n",
              "      background-color: #E8F0FE;\n",
              "      border: none;\n",
              "      border-radius: 50%;\n",
              "      cursor: pointer;\n",
              "      display: none;\n",
              "      fill: #1967D2;\n",
              "      height: 32px;\n",
              "      padding: 0 0 0 0;\n",
              "      width: 32px;\n",
              "    }\n",
              "\n",
              "    .colab-df-convert:hover {\n",
              "      background-color: #E2EBFA;\n",
              "      box-shadow: 0px 1px 2px rgba(60, 64, 67, 0.3), 0px 1px 3px 1px rgba(60, 64, 67, 0.15);\n",
              "      fill: #174EA6;\n",
              "    }\n",
              "\n",
              "    [theme=dark] .colab-df-convert {\n",
              "      background-color: #3B4455;\n",
              "      fill: #D2E3FC;\n",
              "    }\n",
              "\n",
              "    [theme=dark] .colab-df-convert:hover {\n",
              "      background-color: #434B5C;\n",
              "      box-shadow: 0px 1px 3px 1px rgba(0, 0, 0, 0.15);\n",
              "      filter: drop-shadow(0px 1px 2px rgba(0, 0, 0, 0.3));\n",
              "      fill: #FFFFFF;\n",
              "    }\n",
              "  </style>\n",
              "\n",
              "      <script>\n",
              "        const buttonEl =\n",
              "          document.querySelector('#df-7270e592-46ac-4b15-bb7a-31f8f36136c4 button.colab-df-convert');\n",
              "        buttonEl.style.display =\n",
              "          google.colab.kernel.accessAllowed ? 'block' : 'none';\n",
              "\n",
              "        async function convertToInteractive(key) {\n",
              "          const element = document.querySelector('#df-7270e592-46ac-4b15-bb7a-31f8f36136c4');\n",
              "          const dataTable =\n",
              "            await google.colab.kernel.invokeFunction('convertToInteractive',\n",
              "                                                     [key], {});\n",
              "          if (!dataTable) return;\n",
              "\n",
              "          const docLinkHtml = 'Like what you see? Visit the ' +\n",
              "            '<a target=\"_blank\" href=https://colab.research.google.com/notebooks/data_table.ipynb>data table notebook</a>'\n",
              "            + ' to learn more about interactive tables.';\n",
              "          element.innerHTML = '';\n",
              "          dataTable['output_type'] = 'display_data';\n",
              "          await google.colab.output.renderOutput(dataTable, element);\n",
              "          const docLink = document.createElement('div');\n",
              "          docLink.innerHTML = docLinkHtml;\n",
              "          element.appendChild(docLink);\n",
              "        }\n",
              "      </script>\n",
              "    </div>\n",
              "  </div>\n",
              "  "
            ]
          },
          "metadata": {},
          "execution_count": 8
        }
      ]
    },
    {
      "cell_type": "code",
      "source": [
        "forest2.info()"
      ],
      "metadata": {
        "colab": {
          "base_uri": "https://localhost:8080/"
        },
        "id": "dD3P-jqHCr85",
        "outputId": "fbc0e41f-4d96-4224-ce1b-c8b6179bdea1"
      },
      "execution_count": 9,
      "outputs": [
        {
          "output_type": "stream",
          "name": "stdout",
          "text": [
            "<class 'pandas.core.frame.DataFrame'>\n",
            "RangeIndex: 517 entries, 0 to 516\n",
            "Data columns (total 12 columns):\n",
            " #   Column         Non-Null Count  Dtype  \n",
            "---  ------         --------------  -----  \n",
            " 0   month          517 non-null    object \n",
            " 1   day            517 non-null    object \n",
            " 2   FFMC           517 non-null    float64\n",
            " 3   DMC            517 non-null    float64\n",
            " 4   DC             517 non-null    float64\n",
            " 5   ISI            517 non-null    float64\n",
            " 6   temp           517 non-null    float64\n",
            " 7   RH             517 non-null    int64  \n",
            " 8   wind           517 non-null    float64\n",
            " 9   rain           517 non-null    float64\n",
            " 10  area           517 non-null    float64\n",
            " 11  size_category  517 non-null    object \n",
            "dtypes: float64(8), int64(1), object(3)\n",
            "memory usage: 48.6+ KB\n"
          ]
        }
      ]
    },
    {
      "cell_type": "code",
      "source": [
        "print(forest2['month'].value_counts())\n",
        "print(forest2['day'].value_counts())"
      ],
      "metadata": {
        "colab": {
          "base_uri": "https://localhost:8080/"
        },
        "id": "WvHLjC91Dtlm",
        "outputId": "f6153555-c656-4c08-a33c-e88cb7fef98a"
      },
      "execution_count": 10,
      "outputs": [
        {
          "output_type": "stream",
          "name": "stdout",
          "text": [
            "aug    184\n",
            "sep    172\n",
            "mar     54\n",
            "jul     32\n",
            "feb     20\n",
            "jun     17\n",
            "oct     15\n",
            "apr      9\n",
            "dec      9\n",
            "jan      2\n",
            "may      2\n",
            "nov      1\n",
            "Name: month, dtype: int64\n",
            "sun    95\n",
            "fri    85\n",
            "sat    84\n",
            "mon    74\n",
            "tue    64\n",
            "thu    61\n",
            "wed    54\n",
            "Name: day, dtype: int64\n"
          ]
        }
      ]
    },
    {
      "cell_type": "code",
      "source": [
        "forest2['month']=LabelEncoder().fit_transform(forest2['month'])\n",
        "forest2['day']=LabelEncoder().fit_transform(forest2['day'])\n"
      ],
      "metadata": {
        "id": "V4W8TVGBDA11"
      },
      "execution_count": 11,
      "outputs": []
    },
    {
      "cell_type": "code",
      "source": [
        "forest2.head()"
      ],
      "metadata": {
        "colab": {
          "base_uri": "https://localhost:8080/",
          "height": 206
        },
        "id": "j0BkTQnTDnyF",
        "outputId": "0f8420cf-a9aa-4360-c950-46b93e2ed0de"
      },
      "execution_count": 12,
      "outputs": [
        {
          "output_type": "execute_result",
          "data": {
            "text/plain": [
              "   month  day  FFMC   DMC     DC  ISI  temp  RH  wind  rain  area  \\\n",
              "0      7    0  86.2  26.2   94.3  5.1   8.2  51   6.7   0.0   0.0   \n",
              "1     10    5  90.6  35.4  669.1  6.7  18.0  33   0.9   0.0   0.0   \n",
              "2     10    2  90.6  43.7  686.9  6.7  14.6  33   1.3   0.0   0.0   \n",
              "3      7    0  91.7  33.3   77.5  9.0   8.3  97   4.0   0.2   0.0   \n",
              "4      7    3  89.3  51.3  102.2  9.6  11.4  99   1.8   0.0   0.0   \n",
              "\n",
              "  size_category  \n",
              "0         small  \n",
              "1         small  \n",
              "2         small  \n",
              "3         small  \n",
              "4         small  "
            ],
            "text/html": [
              "\n",
              "  <div id=\"df-f5c7120d-b3f6-468e-a95f-5663bdfe3cfb\">\n",
              "    <div class=\"colab-df-container\">\n",
              "      <div>\n",
              "<style scoped>\n",
              "    .dataframe tbody tr th:only-of-type {\n",
              "        vertical-align: middle;\n",
              "    }\n",
              "\n",
              "    .dataframe tbody tr th {\n",
              "        vertical-align: top;\n",
              "    }\n",
              "\n",
              "    .dataframe thead th {\n",
              "        text-align: right;\n",
              "    }\n",
              "</style>\n",
              "<table border=\"1\" class=\"dataframe\">\n",
              "  <thead>\n",
              "    <tr style=\"text-align: right;\">\n",
              "      <th></th>\n",
              "      <th>month</th>\n",
              "      <th>day</th>\n",
              "      <th>FFMC</th>\n",
              "      <th>DMC</th>\n",
              "      <th>DC</th>\n",
              "      <th>ISI</th>\n",
              "      <th>temp</th>\n",
              "      <th>RH</th>\n",
              "      <th>wind</th>\n",
              "      <th>rain</th>\n",
              "      <th>area</th>\n",
              "      <th>size_category</th>\n",
              "    </tr>\n",
              "  </thead>\n",
              "  <tbody>\n",
              "    <tr>\n",
              "      <th>0</th>\n",
              "      <td>7</td>\n",
              "      <td>0</td>\n",
              "      <td>86.2</td>\n",
              "      <td>26.2</td>\n",
              "      <td>94.3</td>\n",
              "      <td>5.1</td>\n",
              "      <td>8.2</td>\n",
              "      <td>51</td>\n",
              "      <td>6.7</td>\n",
              "      <td>0.0</td>\n",
              "      <td>0.0</td>\n",
              "      <td>small</td>\n",
              "    </tr>\n",
              "    <tr>\n",
              "      <th>1</th>\n",
              "      <td>10</td>\n",
              "      <td>5</td>\n",
              "      <td>90.6</td>\n",
              "      <td>35.4</td>\n",
              "      <td>669.1</td>\n",
              "      <td>6.7</td>\n",
              "      <td>18.0</td>\n",
              "      <td>33</td>\n",
              "      <td>0.9</td>\n",
              "      <td>0.0</td>\n",
              "      <td>0.0</td>\n",
              "      <td>small</td>\n",
              "    </tr>\n",
              "    <tr>\n",
              "      <th>2</th>\n",
              "      <td>10</td>\n",
              "      <td>2</td>\n",
              "      <td>90.6</td>\n",
              "      <td>43.7</td>\n",
              "      <td>686.9</td>\n",
              "      <td>6.7</td>\n",
              "      <td>14.6</td>\n",
              "      <td>33</td>\n",
              "      <td>1.3</td>\n",
              "      <td>0.0</td>\n",
              "      <td>0.0</td>\n",
              "      <td>small</td>\n",
              "    </tr>\n",
              "    <tr>\n",
              "      <th>3</th>\n",
              "      <td>7</td>\n",
              "      <td>0</td>\n",
              "      <td>91.7</td>\n",
              "      <td>33.3</td>\n",
              "      <td>77.5</td>\n",
              "      <td>9.0</td>\n",
              "      <td>8.3</td>\n",
              "      <td>97</td>\n",
              "      <td>4.0</td>\n",
              "      <td>0.2</td>\n",
              "      <td>0.0</td>\n",
              "      <td>small</td>\n",
              "    </tr>\n",
              "    <tr>\n",
              "      <th>4</th>\n",
              "      <td>7</td>\n",
              "      <td>3</td>\n",
              "      <td>89.3</td>\n",
              "      <td>51.3</td>\n",
              "      <td>102.2</td>\n",
              "      <td>9.6</td>\n",
              "      <td>11.4</td>\n",
              "      <td>99</td>\n",
              "      <td>1.8</td>\n",
              "      <td>0.0</td>\n",
              "      <td>0.0</td>\n",
              "      <td>small</td>\n",
              "    </tr>\n",
              "  </tbody>\n",
              "</table>\n",
              "</div>\n",
              "      <button class=\"colab-df-convert\" onclick=\"convertToInteractive('df-f5c7120d-b3f6-468e-a95f-5663bdfe3cfb')\"\n",
              "              title=\"Convert this dataframe to an interactive table.\"\n",
              "              style=\"display:none;\">\n",
              "        \n",
              "  <svg xmlns=\"http://www.w3.org/2000/svg\" height=\"24px\"viewBox=\"0 0 24 24\"\n",
              "       width=\"24px\">\n",
              "    <path d=\"M0 0h24v24H0V0z\" fill=\"none\"/>\n",
              "    <path d=\"M18.56 5.44l.94 2.06.94-2.06 2.06-.94-2.06-.94-.94-2.06-.94 2.06-2.06.94zm-11 1L8.5 8.5l.94-2.06 2.06-.94-2.06-.94L8.5 2.5l-.94 2.06-2.06.94zm10 10l.94 2.06.94-2.06 2.06-.94-2.06-.94-.94-2.06-.94 2.06-2.06.94z\"/><path d=\"M17.41 7.96l-1.37-1.37c-.4-.4-.92-.59-1.43-.59-.52 0-1.04.2-1.43.59L10.3 9.45l-7.72 7.72c-.78.78-.78 2.05 0 2.83L4 21.41c.39.39.9.59 1.41.59.51 0 1.02-.2 1.41-.59l7.78-7.78 2.81-2.81c.8-.78.8-2.07 0-2.86zM5.41 20L4 18.59l7.72-7.72 1.47 1.35L5.41 20z\"/>\n",
              "  </svg>\n",
              "      </button>\n",
              "      \n",
              "  <style>\n",
              "    .colab-df-container {\n",
              "      display:flex;\n",
              "      flex-wrap:wrap;\n",
              "      gap: 12px;\n",
              "    }\n",
              "\n",
              "    .colab-df-convert {\n",
              "      background-color: #E8F0FE;\n",
              "      border: none;\n",
              "      border-radius: 50%;\n",
              "      cursor: pointer;\n",
              "      display: none;\n",
              "      fill: #1967D2;\n",
              "      height: 32px;\n",
              "      padding: 0 0 0 0;\n",
              "      width: 32px;\n",
              "    }\n",
              "\n",
              "    .colab-df-convert:hover {\n",
              "      background-color: #E2EBFA;\n",
              "      box-shadow: 0px 1px 2px rgba(60, 64, 67, 0.3), 0px 1px 3px 1px rgba(60, 64, 67, 0.15);\n",
              "      fill: #174EA6;\n",
              "    }\n",
              "\n",
              "    [theme=dark] .colab-df-convert {\n",
              "      background-color: #3B4455;\n",
              "      fill: #D2E3FC;\n",
              "    }\n",
              "\n",
              "    [theme=dark] .colab-df-convert:hover {\n",
              "      background-color: #434B5C;\n",
              "      box-shadow: 0px 1px 3px 1px rgba(0, 0, 0, 0.15);\n",
              "      filter: drop-shadow(0px 1px 2px rgba(0, 0, 0, 0.3));\n",
              "      fill: #FFFFFF;\n",
              "    }\n",
              "  </style>\n",
              "\n",
              "      <script>\n",
              "        const buttonEl =\n",
              "          document.querySelector('#df-f5c7120d-b3f6-468e-a95f-5663bdfe3cfb button.colab-df-convert');\n",
              "        buttonEl.style.display =\n",
              "          google.colab.kernel.accessAllowed ? 'block' : 'none';\n",
              "\n",
              "        async function convertToInteractive(key) {\n",
              "          const element = document.querySelector('#df-f5c7120d-b3f6-468e-a95f-5663bdfe3cfb');\n",
              "          const dataTable =\n",
              "            await google.colab.kernel.invokeFunction('convertToInteractive',\n",
              "                                                     [key], {});\n",
              "          if (!dataTable) return;\n",
              "\n",
              "          const docLinkHtml = 'Like what you see? Visit the ' +\n",
              "            '<a target=\"_blank\" href=https://colab.research.google.com/notebooks/data_table.ipynb>data table notebook</a>'\n",
              "            + ' to learn more about interactive tables.';\n",
              "          element.innerHTML = '';\n",
              "          dataTable['output_type'] = 'display_data';\n",
              "          await google.colab.output.renderOutput(dataTable, element);\n",
              "          const docLink = document.createElement('div');\n",
              "          docLink.innerHTML = docLinkHtml;\n",
              "          element.appendChild(docLink);\n",
              "        }\n",
              "      </script>\n",
              "    </div>\n",
              "  </div>\n",
              "  "
            ]
          },
          "metadata": {},
          "execution_count": 12
        }
      ]
    },
    {
      "cell_type": "code",
      "source": [
        "forest2.describe().T"
      ],
      "metadata": {
        "colab": {
          "base_uri": "https://localhost:8080/",
          "height": 394
        },
        "id": "U18GxsZAFGNd",
        "outputId": "59b92cf6-81d4-4d4f-ecb5-40563571822e"
      },
      "execution_count": 13,
      "outputs": [
        {
          "output_type": "execute_result",
          "data": {
            "text/plain": [
              "       count        mean         std   min    25%     50%     75%      max\n",
              "month  517.0    5.758221    4.373275   0.0    1.0    6.00   11.00    11.00\n",
              "day    517.0    2.736944    1.925061   0.0    1.0    3.00    4.00     6.00\n",
              "FFMC   517.0   90.644681    5.520111  18.7   90.2   91.60   92.90    96.20\n",
              "DMC    517.0  110.872340   64.046482   1.1   68.6  108.30  142.40   291.30\n",
              "DC     517.0  547.940039  248.066192   7.9  437.7  664.20  713.90   860.60\n",
              "ISI    517.0    9.021663    4.559477   0.0    6.5    8.40   10.80    56.10\n",
              "temp   517.0   18.889168    5.806625   2.2   15.5   19.30   22.80    33.30\n",
              "RH     517.0   44.288201   16.317469  15.0   33.0   42.00   53.00   100.00\n",
              "wind   517.0    4.017602    1.791653   0.4    2.7    4.00    4.90     9.40\n",
              "rain   517.0    0.021663    0.295959   0.0    0.0    0.00    0.00     6.40\n",
              "area   517.0   12.847292   63.655818   0.0    0.0    0.52    6.57  1090.84"
            ],
            "text/html": [
              "\n",
              "  <div id=\"df-ea776345-b08f-40b8-b350-ff959b48b1b0\">\n",
              "    <div class=\"colab-df-container\">\n",
              "      <div>\n",
              "<style scoped>\n",
              "    .dataframe tbody tr th:only-of-type {\n",
              "        vertical-align: middle;\n",
              "    }\n",
              "\n",
              "    .dataframe tbody tr th {\n",
              "        vertical-align: top;\n",
              "    }\n",
              "\n",
              "    .dataframe thead th {\n",
              "        text-align: right;\n",
              "    }\n",
              "</style>\n",
              "<table border=\"1\" class=\"dataframe\">\n",
              "  <thead>\n",
              "    <tr style=\"text-align: right;\">\n",
              "      <th></th>\n",
              "      <th>count</th>\n",
              "      <th>mean</th>\n",
              "      <th>std</th>\n",
              "      <th>min</th>\n",
              "      <th>25%</th>\n",
              "      <th>50%</th>\n",
              "      <th>75%</th>\n",
              "      <th>max</th>\n",
              "    </tr>\n",
              "  </thead>\n",
              "  <tbody>\n",
              "    <tr>\n",
              "      <th>month</th>\n",
              "      <td>517.0</td>\n",
              "      <td>5.758221</td>\n",
              "      <td>4.373275</td>\n",
              "      <td>0.0</td>\n",
              "      <td>1.0</td>\n",
              "      <td>6.00</td>\n",
              "      <td>11.00</td>\n",
              "      <td>11.00</td>\n",
              "    </tr>\n",
              "    <tr>\n",
              "      <th>day</th>\n",
              "      <td>517.0</td>\n",
              "      <td>2.736944</td>\n",
              "      <td>1.925061</td>\n",
              "      <td>0.0</td>\n",
              "      <td>1.0</td>\n",
              "      <td>3.00</td>\n",
              "      <td>4.00</td>\n",
              "      <td>6.00</td>\n",
              "    </tr>\n",
              "    <tr>\n",
              "      <th>FFMC</th>\n",
              "      <td>517.0</td>\n",
              "      <td>90.644681</td>\n",
              "      <td>5.520111</td>\n",
              "      <td>18.7</td>\n",
              "      <td>90.2</td>\n",
              "      <td>91.60</td>\n",
              "      <td>92.90</td>\n",
              "      <td>96.20</td>\n",
              "    </tr>\n",
              "    <tr>\n",
              "      <th>DMC</th>\n",
              "      <td>517.0</td>\n",
              "      <td>110.872340</td>\n",
              "      <td>64.046482</td>\n",
              "      <td>1.1</td>\n",
              "      <td>68.6</td>\n",
              "      <td>108.30</td>\n",
              "      <td>142.40</td>\n",
              "      <td>291.30</td>\n",
              "    </tr>\n",
              "    <tr>\n",
              "      <th>DC</th>\n",
              "      <td>517.0</td>\n",
              "      <td>547.940039</td>\n",
              "      <td>248.066192</td>\n",
              "      <td>7.9</td>\n",
              "      <td>437.7</td>\n",
              "      <td>664.20</td>\n",
              "      <td>713.90</td>\n",
              "      <td>860.60</td>\n",
              "    </tr>\n",
              "    <tr>\n",
              "      <th>ISI</th>\n",
              "      <td>517.0</td>\n",
              "      <td>9.021663</td>\n",
              "      <td>4.559477</td>\n",
              "      <td>0.0</td>\n",
              "      <td>6.5</td>\n",
              "      <td>8.40</td>\n",
              "      <td>10.80</td>\n",
              "      <td>56.10</td>\n",
              "    </tr>\n",
              "    <tr>\n",
              "      <th>temp</th>\n",
              "      <td>517.0</td>\n",
              "      <td>18.889168</td>\n",
              "      <td>5.806625</td>\n",
              "      <td>2.2</td>\n",
              "      <td>15.5</td>\n",
              "      <td>19.30</td>\n",
              "      <td>22.80</td>\n",
              "      <td>33.30</td>\n",
              "    </tr>\n",
              "    <tr>\n",
              "      <th>RH</th>\n",
              "      <td>517.0</td>\n",
              "      <td>44.288201</td>\n",
              "      <td>16.317469</td>\n",
              "      <td>15.0</td>\n",
              "      <td>33.0</td>\n",
              "      <td>42.00</td>\n",
              "      <td>53.00</td>\n",
              "      <td>100.00</td>\n",
              "    </tr>\n",
              "    <tr>\n",
              "      <th>wind</th>\n",
              "      <td>517.0</td>\n",
              "      <td>4.017602</td>\n",
              "      <td>1.791653</td>\n",
              "      <td>0.4</td>\n",
              "      <td>2.7</td>\n",
              "      <td>4.00</td>\n",
              "      <td>4.90</td>\n",
              "      <td>9.40</td>\n",
              "    </tr>\n",
              "    <tr>\n",
              "      <th>rain</th>\n",
              "      <td>517.0</td>\n",
              "      <td>0.021663</td>\n",
              "      <td>0.295959</td>\n",
              "      <td>0.0</td>\n",
              "      <td>0.0</td>\n",
              "      <td>0.00</td>\n",
              "      <td>0.00</td>\n",
              "      <td>6.40</td>\n",
              "    </tr>\n",
              "    <tr>\n",
              "      <th>area</th>\n",
              "      <td>517.0</td>\n",
              "      <td>12.847292</td>\n",
              "      <td>63.655818</td>\n",
              "      <td>0.0</td>\n",
              "      <td>0.0</td>\n",
              "      <td>0.52</td>\n",
              "      <td>6.57</td>\n",
              "      <td>1090.84</td>\n",
              "    </tr>\n",
              "  </tbody>\n",
              "</table>\n",
              "</div>\n",
              "      <button class=\"colab-df-convert\" onclick=\"convertToInteractive('df-ea776345-b08f-40b8-b350-ff959b48b1b0')\"\n",
              "              title=\"Convert this dataframe to an interactive table.\"\n",
              "              style=\"display:none;\">\n",
              "        \n",
              "  <svg xmlns=\"http://www.w3.org/2000/svg\" height=\"24px\"viewBox=\"0 0 24 24\"\n",
              "       width=\"24px\">\n",
              "    <path d=\"M0 0h24v24H0V0z\" fill=\"none\"/>\n",
              "    <path d=\"M18.56 5.44l.94 2.06.94-2.06 2.06-.94-2.06-.94-.94-2.06-.94 2.06-2.06.94zm-11 1L8.5 8.5l.94-2.06 2.06-.94-2.06-.94L8.5 2.5l-.94 2.06-2.06.94zm10 10l.94 2.06.94-2.06 2.06-.94-2.06-.94-.94-2.06-.94 2.06-2.06.94z\"/><path d=\"M17.41 7.96l-1.37-1.37c-.4-.4-.92-.59-1.43-.59-.52 0-1.04.2-1.43.59L10.3 9.45l-7.72 7.72c-.78.78-.78 2.05 0 2.83L4 21.41c.39.39.9.59 1.41.59.51 0 1.02-.2 1.41-.59l7.78-7.78 2.81-2.81c.8-.78.8-2.07 0-2.86zM5.41 20L4 18.59l7.72-7.72 1.47 1.35L5.41 20z\"/>\n",
              "  </svg>\n",
              "      </button>\n",
              "      \n",
              "  <style>\n",
              "    .colab-df-container {\n",
              "      display:flex;\n",
              "      flex-wrap:wrap;\n",
              "      gap: 12px;\n",
              "    }\n",
              "\n",
              "    .colab-df-convert {\n",
              "      background-color: #E8F0FE;\n",
              "      border: none;\n",
              "      border-radius: 50%;\n",
              "      cursor: pointer;\n",
              "      display: none;\n",
              "      fill: #1967D2;\n",
              "      height: 32px;\n",
              "      padding: 0 0 0 0;\n",
              "      width: 32px;\n",
              "    }\n",
              "\n",
              "    .colab-df-convert:hover {\n",
              "      background-color: #E2EBFA;\n",
              "      box-shadow: 0px 1px 2px rgba(60, 64, 67, 0.3), 0px 1px 3px 1px rgba(60, 64, 67, 0.15);\n",
              "      fill: #174EA6;\n",
              "    }\n",
              "\n",
              "    [theme=dark] .colab-df-convert {\n",
              "      background-color: #3B4455;\n",
              "      fill: #D2E3FC;\n",
              "    }\n",
              "\n",
              "    [theme=dark] .colab-df-convert:hover {\n",
              "      background-color: #434B5C;\n",
              "      box-shadow: 0px 1px 3px 1px rgba(0, 0, 0, 0.15);\n",
              "      filter: drop-shadow(0px 1px 2px rgba(0, 0, 0, 0.3));\n",
              "      fill: #FFFFFF;\n",
              "    }\n",
              "  </style>\n",
              "\n",
              "      <script>\n",
              "        const buttonEl =\n",
              "          document.querySelector('#df-ea776345-b08f-40b8-b350-ff959b48b1b0 button.colab-df-convert');\n",
              "        buttonEl.style.display =\n",
              "          google.colab.kernel.accessAllowed ? 'block' : 'none';\n",
              "\n",
              "        async function convertToInteractive(key) {\n",
              "          const element = document.querySelector('#df-ea776345-b08f-40b8-b350-ff959b48b1b0');\n",
              "          const dataTable =\n",
              "            await google.colab.kernel.invokeFunction('convertToInteractive',\n",
              "                                                     [key], {});\n",
              "          if (!dataTable) return;\n",
              "\n",
              "          const docLinkHtml = 'Like what you see? Visit the ' +\n",
              "            '<a target=\"_blank\" href=https://colab.research.google.com/notebooks/data_table.ipynb>data table notebook</a>'\n",
              "            + ' to learn more about interactive tables.';\n",
              "          element.innerHTML = '';\n",
              "          dataTable['output_type'] = 'display_data';\n",
              "          await google.colab.output.renderOutput(dataTable, element);\n",
              "          const docLink = document.createElement('div');\n",
              "          docLink.innerHTML = docLinkHtml;\n",
              "          element.appendChild(docLink);\n",
              "        }\n",
              "      </script>\n",
              "    </div>\n",
              "  </div>\n",
              "  "
            ]
          },
          "metadata": {},
          "execution_count": 13
        }
      ]
    },
    {
      "cell_type": "code",
      "source": [
        "for data in forest2.columns:\n",
        "  if forest2[data].dtype!='object':\n",
        "    print(\"**************{}*************\".format(data))\n",
        "    sns.distplot(forest2[data])\n",
        "    plt.show()"
      ],
      "metadata": {
        "colab": {
          "base_uri": "https://localhost:8080/",
          "height": 1000
        },
        "id": "esnn6khDFKbn",
        "outputId": "59d4330e-6d82-48c5-a19a-12d89001506f"
      },
      "execution_count": 14,
      "outputs": [
        {
          "output_type": "stream",
          "name": "stdout",
          "text": [
            "**************month*************\n"
          ]
        },
        {
          "output_type": "display_data",
          "data": {
            "text/plain": [
              "<Figure size 640x480 with 1 Axes>"
            ],
            "image/png": "[encoded data removed]"
          },
          "metadata": {}
        },
        {
          "output_type": "stream",
          "name": "stdout",
          "text": [
            "**************day*************\n"
          ]
        },
        {
          "output_type": "display_data",
          "data": {
            "text/plain": [
              "<Figure size 640x480 with 1 Axes>"
            ],
            "image/png": "[encoded data removed]"
          },
          "metadata": {}
        },
        {
          "output_type": "stream",
          "name": "stdout",
          "text": [
            "**************FFMC*************\n"
          ]
        },
        {
          "output_type": "display_data",
          "data": {
            "text/plain": [
              "<Figure size 640x480 with 1 Axes>"
            ],
            "image/png": "[encoded data removed]"
          },
          "metadata": {}
        },
        {
          "output_type": "stream",
          "name": "stdout",
          "text": [
            "**************DMC*************\n"
          ]
        },
        {
          "output_type": "display_data",
          "data": {
            "text/plain": [
              "<Figure size 640x480 with 1 Axes>"
            ],
            "image/png": "[encoded data removed]"
          },
          "metadata": {}
        },
        {
          "output_type": "stream",
          "name": "stdout",
          "text": [
            "**************DC*************\n"
          ]
        },
        {
          "output_type": "display_data",
          "data": {
            "text/plain": [
              "<Figure size 640x480 with 1 Axes>"
            ],
            "image/png": "[encoded data removed]"
          },
          "metadata": {}
        },
        {
          "output_type": "stream",
          "name": "stdout",
          "text": [
            "**************ISI*************\n"
          ]
        },
        {
          "output_type": "display_data",
          "data": {
            "text/plain": [
              "<Figure size 640x480 with 1 Axes>"
            ],
            "image/png": "[encoded data removed]"
          },
          "metadata": {}
        },
        {
          "output_type": "stream",
          "name": "stdout",
          "text": [
            "**************temp*************\n"
          ]
        },
        {
          "output_type": "display_data",
          "data": {
            "text/plain": [
              "<Figure size 640x480 with 1 Axes>"
            ],
            "image/png": "[encoded data removed]"
          },
          "metadata": {}
        },
        {
          "output_type": "stream",
          "name": "stdout",
          "text": [
            "**************RH*************\n"
          ]
        },
        {
          "output_type": "display_data",
          "data": {
            "text/plain": [
              "<Figure size 640x480 with 1 Axes>"
            ],
            "image/png": "[encoded data removed]"
          },
          "metadata": {}
        },
        {
          "output_type": "stream",
          "name": "stdout",
          "text": [
            "**************wind*************\n"
          ]
        },
        {
          "output_type": "display_data",
          "data": {
            "text/plain": [
              "<Figure size 640x480 with 1 Axes>"
            ],
            "image/png": "[encoded data removed]"
          },
          "metadata": {}
        },
        {
          "output_type": "stream",
          "name": "stdout",
          "text": [
            "**************rain*************\n"
          ]
        },
        {
          "output_type": "display_data",
          "data": {
            "text/plain": [
              "<Figure size 640x480 with 1 Axes>"
            ],
            "image/png": "[encoded data removed]"
          },
          "metadata": {}
        },
        {
          "output_type": "stream",
          "name": "stdout",
          "text": [
            "**************area*************\n"
          ]
        },
        {
          "output_type": "display_data",
          "data": {
            "text/plain": [
              "<Figure size 640x480 with 1 Axes>"
            ],
            "image/png": "[encoded data removed]"
          },
          "metadata": {}
        }
      ]
    },
    {
      "cell_type": "code",
      "source": [
        "plt.figure(figsize=(12,8))\n",
        "sns.heatmap(forest2.corr(),vmin=-1,vmax=1,annot=True)\n",
        "plt.show()"
      ],
      "metadata": {
        "colab": {
          "base_uri": "https://localhost:8080/",
          "height": 682
        },
        "id": "dQfiB5x_FbQj",
        "outputId": "e9bc092c-84c8-4874-d387-f5cf17b61186"
      },
      "execution_count": 15,
      "outputs": [
        {
          "output_type": "display_data",
          "data": {
            "text/plain": [
              "<Figure size 1200x800 with 2 Axes>"
            ],
            "image/png": "[encoded data removed]"
          },
          "metadata": {}
        }
      ]
    },
    {
      "cell_type": "code",
      "source": [
        "forest2['area'].describe().T"
      ],
      "metadata": {
        "colab": {
          "base_uri": "https://localhost:8080/"
        },
        "id": "AB6Svk0nwz7M",
        "outputId": "f199fc42-a7ca-476f-9a5f-1087a48200d1"
      },
      "execution_count": 16,
      "outputs": [
        {
          "output_type": "execute_result",
          "data": {
            "text/plain": [
              "count     517.000000\n",
              "mean       12.847292\n",
              "std        63.655818\n",
              "min         0.000000\n",
              "25%         0.000000\n",
              "50%         0.520000\n",
              "75%         6.570000\n",
              "max      1090.840000\n",
              "Name: area, dtype: float64"
            ]
          },
          "metadata": {},
          "execution_count": 16
        }
      ]
    },
    {
      "cell_type": "code",
      "source": [
        "def area_cat(area):\n",
        "  if area == 0.0:\n",
        "      return \"No damage\"\n",
        "  elif area <= 1:\n",
        "      return \"low\"\n",
        "  elif area <= 25:\n",
        "      return \"moderate\"\n",
        "  elif area <= 100:\n",
        "      return \"high\"\n",
        "  else:\n",
        "      return \"very high\"\n",
        "\n",
        "forest_new['damage_severity']=forest_new['area'].apply(area_cat)\n"
      ],
      "metadata": {
        "id": "NVi2mYQDz8hu"
      },
      "execution_count": 17,
      "outputs": []
    },
    {
      "cell_type": "code",
      "source": [
        "forest_new.head()"
      ],
      "metadata": {
        "colab": {
          "base_uri": "https://localhost:8080/",
          "height": 206
        },
        "id": "s9ijuCuC2lJC",
        "outputId": "31173d05-55b7-4761-dbd4-685e673f6733"
      },
      "execution_count": 18,
      "outputs": [
        {
          "output_type": "execute_result",
          "data": {
            "text/plain": [
              "  month  day  FFMC   DMC     DC  ISI  temp  RH  wind  rain  area  \\\n",
              "0   mar  fri  86.2  26.2   94.3  5.1   8.2  51   6.7   0.0   0.0   \n",
              "1   oct  tue  90.6  35.4  669.1  6.7  18.0  33   0.9   0.0   0.0   \n",
              "2   oct  sat  90.6  43.7  686.9  6.7  14.6  33   1.3   0.0   0.0   \n",
              "3   mar  fri  91.7  33.3   77.5  9.0   8.3  97   4.0   0.2   0.0   \n",
              "4   mar  sun  89.3  51.3  102.2  9.6  11.4  99   1.8   0.0   0.0   \n",
              "\n",
              "  size_category damage_severity  \n",
              "0         small       No damage  \n",
              "1         small       No damage  \n",
              "2         small       No damage  \n",
              "3         small       No damage  \n",
              "4         small       No damage  "
            ],
            "text/html": [
              "\n",
              "  <div id=\"df-f7359462-946c-43f8-bbe1-4e0fe0e4f24f\">\n",
              "    <div class=\"colab-df-container\">\n",
              "      <div>\n",
              "<style scoped>\n",
              "    .dataframe tbody tr th:only-of-type {\n",
              "        vertical-align: middle;\n",
              "    }\n",
              "\n",
              "    .dataframe tbody tr th {\n",
              "        vertical-align: top;\n",
              "    }\n",
              "\n",
              "    .dataframe thead th {\n",
              "        text-align: right;\n",
              "    }\n",
              "</style>\n",
              "<table border=\"1\" class=\"dataframe\">\n",
              "  <thead>\n",
              "    <tr style=\"text-align: right;\">\n",
              "      <th></th>\n",
              "      <th>month</th>\n",
              "      <th>day</th>\n",
              "      <th>FFMC</th>\n",
              "      <th>DMC</th>\n",
              "      <th>DC</th>\n",
              "      <th>ISI</th>\n",
              "      <th>temp</th>\n",
              "      <th>RH</th>\n",
              "      <th>wind</th>\n",
              "      <th>rain</th>\n",
              "      <th>area</th>\n",
              "      <th>size_category</th>\n",
              "      <th>damage_severity</th>\n",
              "    </tr>\n",
              "  </thead>\n",
              "  <tbody>\n",
              "    <tr>\n",
              "      <th>0</th>\n",
              "      <td>mar</td>\n",
              "      <td>fri</td>\n",
              "      <td>86.2</td>\n",
              "      <td>26.2</td>\n",
              "      <td>94.3</td>\n",
              "      <td>5.1</td>\n",
              "      <td>8.2</td>\n",
              "      <td>51</td>\n",
              "      <td>6.7</td>\n",
              "      <td>0.0</td>\n",
              "      <td>0.0</td>\n",
              "      <td>small</td>\n",
              "      <td>No damage</td>\n",
              "    </tr>\n",
              "    <tr>\n",
              "      <th>1</th>\n",
              "      <td>oct</td>\n",
              "      <td>tue</td>\n",
              "      <td>90.6</td>\n",
              "      <td>35.4</td>\n",
              "      <td>669.1</td>\n",
              "      <td>6.7</td>\n",
              "      <td>18.0</td>\n",
              "      <td>33</td>\n",
              "      <td>0.9</td>\n",
              "      <td>0.0</td>\n",
              "      <td>0.0</td>\n",
              "      <td>small</td>\n",
              "      <td>No damage</td>\n",
              "    </tr>\n",
              "    <tr>\n",
              "      <th>2</th>\n",
              "      <td>oct</td>\n",
              "      <td>sat</td>\n",
              "      <td>90.6</td>\n",
              "      <td>43.7</td>\n",
              "      <td>686.9</td>\n",
              "      <td>6.7</td>\n",
              "      <td>14.6</td>\n",
              "      <td>33</td>\n",
              "      <td>1.3</td>\n",
              "      <td>0.0</td>\n",
              "      <td>0.0</td>\n",
              "      <td>small</td>\n",
              "      <td>No damage</td>\n",
              "    </tr>\n",
              "    <tr>\n",
              "      <th>3</th>\n",
              "      <td>mar</td>\n",
              "      <td>fri</td>\n",
              "      <td>91.7</td>\n",
              "      <td>33.3</td>\n",
              "      <td>77.5</td>\n",
              "      <td>9.0</td>\n",
              "      <td>8.3</td>\n",
              "      <td>97</td>\n",
              "      <td>4.0</td>\n",
              "      <td>0.2</td>\n",
              "      <td>0.0</td>\n",
              "      <td>small</td>\n",
              "      <td>No damage</td>\n",
              "    </tr>\n",
              "    <tr>\n",
              "      <th>4</th>\n",
              "      <td>mar</td>\n",
              "      <td>sun</td>\n",
              "      <td>89.3</td>\n",
              "      <td>51.3</td>\n",
              "      <td>102.2</td>\n",
              "      <td>9.6</td>\n",
              "      <td>11.4</td>\n",
              "      <td>99</td>\n",
              "      <td>1.8</td>\n",
              "      <td>0.0</td>\n",
              "      <td>0.0</td>\n",
              "      <td>small</td>\n",
              "      <td>No damage</td>\n",
              "    </tr>\n",
              "  </tbody>\n",
              "</table>\n",
              "</div>\n",
              "      <button class=\"colab-df-convert\" onclick=\"convertToInteractive('df-f7359462-946c-43f8-bbe1-4e0fe0e4f24f')\"\n",
              "              title=\"Convert this dataframe to an interactive table.\"\n",
              "              style=\"display:none;\">\n",
              "        \n",
              "  <svg xmlns=\"http://www.w3.org/2000/svg\" height=\"24px\"viewBox=\"0 0 24 24\"\n",
              "       width=\"24px\">\n",
              "    <path d=\"M0 0h24v24H0V0z\" fill=\"none\"/>\n",
              "    <path d=\"M18.56 5.44l.94 2.06.94-2.06 2.06-.94-2.06-.94-.94-2.06-.94 2.06-2.06.94zm-11 1L8.5 8.5l.94-2.06 2.06-.94-2.06-.94L8.5 2.5l-.94 2.06-2.06.94zm10 10l.94 2.06.94-2.06 2.06-.94-2.06-.94-.94-2.06-.94 2.06-2.06.94z\"/><path d=\"M17.41 7.96l-1.37-1.37c-.4-.4-.92-.59-1.43-.59-.52 0-1.04.2-1.43.59L10.3 9.45l-7.72 7.72c-.78.78-.78 2.05 0 2.83L4 21.41c.39.39.9.59 1.41.59.51 0 1.02-.2 1.41-.59l7.78-7.78 2.81-2.81c.8-.78.8-2.07 0-2.86zM5.41 20L4 18.59l7.72-7.72 1.47 1.35L5.41 20z\"/>\n",
              "  </svg>\n",
              "      </button>\n",
              "      \n",
              "  <style>\n",
              "    .colab-df-container {\n",
              "      display:flex;\n",
              "      flex-wrap:wrap;\n",
              "      gap: 12px;\n",
              "    }\n",
              "\n",
              "    .colab-df-convert {\n",
              "      background-color: #E8F0FE;\n",
              "      border: none;\n",
              "      border-radius: 50%;\n",
              "      cursor: pointer;\n",
              "      display: none;\n",
              "      fill: #1967D2;\n",
              "      height: 32px;\n",
              "      padding: 0 0 0 0;\n",
              "      width: 32px;\n",
              "    }\n",
              "\n",
              "    .colab-df-convert:hover {\n",
              "      background-color: #E2EBFA;\n",
              "      box-shadow: 0px 1px 2px rgba(60, 64, 67, 0.3), 0px 1px 3px 1px rgba(60, 64, 67, 0.15);\n",
              "      fill: #174EA6;\n",
              "    }\n",
              "\n",
              "    [theme=dark] .colab-df-convert {\n",
              "      background-color: #3B4455;\n",
              "      fill: #D2E3FC;\n",
              "    }\n",
              "\n",
              "    [theme=dark] .colab-df-convert:hover {\n",
              "      background-color: #434B5C;\n",
              "      box-shadow: 0px 1px 3px 1px rgba(0, 0, 0, 0.15);\n",
              "      filter: drop-shadow(0px 1px 2px rgba(0, 0, 0, 0.3));\n",
              "      fill: #FFFFFF;\n",
              "    }\n",
              "  </style>\n",
              "\n",
              "      <script>\n",
              "        const buttonEl =\n",
              "          document.querySelector('#df-f7359462-946c-43f8-bbe1-4e0fe0e4f24f button.colab-df-convert');\n",
              "        buttonEl.style.display =\n",
              "          google.colab.kernel.accessAllowed ? 'block' : 'none';\n",
              "\n",
              "        async function convertToInteractive(key) {\n",
              "          const element = document.querySelector('#df-f7359462-946c-43f8-bbe1-4e0fe0e4f24f');\n",
              "          const dataTable =\n",
              "            await google.colab.kernel.invokeFunction('convertToInteractive',\n",
              "                                                     [key], {});\n",
              "          if (!dataTable) return;\n",
              "\n",
              "          const docLinkHtml = 'Like what you see? Visit the ' +\n",
              "            '<a target=\"_blank\" href=https://colab.research.google.com/notebooks/data_table.ipynb>data table notebook</a>'\n",
              "            + ' to learn more about interactive tables.';\n",
              "          element.innerHTML = '';\n",
              "          dataTable['output_type'] = 'display_data';\n",
              "          await google.colab.output.renderOutput(dataTable, element);\n",
              "          const docLink = document.createElement('div');\n",
              "          docLink.innerHTML = docLinkHtml;\n",
              "          element.appendChild(docLink);\n",
              "        }\n",
              "      </script>\n",
              "    </div>\n",
              "  </div>\n",
              "  "
            ]
          },
          "metadata": {},
          "execution_count": 18
        }
      ]
    },
    {
      "cell_type": "code",
      "source": [
        "cat_col=['month','day']"
      ],
      "metadata": {
        "id": "TwAVLpDm3fkr"
      },
      "execution_count": 19,
      "outputs": []
    },
    {
      "cell_type": "code",
      "source": [
        "for cat in cat_col:\n",
        "  cross=pd.crosstab(index=forest_new['damage_severity'],columns=forest_new[cat],normalize='index')\n",
        "  cross.plot.barh(stacked=True,rot=40,cmap='hot',figsize=(12,5))\n",
        "  plt.xlabel('% distribution per category')\n",
        "  plt.xticks(np.arange(0,1.1,0.1))\n",
        "  plt.title(\"Forestfire damage each {}\".format(cat))\n",
        "plt.show()\n",
        "\n"
      ],
      "metadata": {
        "colab": {
          "base_uri": "https://localhost:8080/",
          "height": 957
        },
        "id": "4PxopGJ02m-D",
        "outputId": "14bae7ae-4828-47df-f6cb-6b830c17465a"
      },
      "execution_count": 20,
      "outputs": [
        {
          "output_type": "display_data",
          "data": {
            "text/plain": [
              "<Figure size 1200x500 with 1 Axes>"
            ],
            "image/png": "[encoded data removed]"
          },
          "metadata": {}
        },
        {
          "output_type": "display_data",
          "data": {
            "text/plain": [
              "<Figure size 1200x500 with 1 Axes>"
            ],
            "image/png": "[encoded data removed]"
          },
          "metadata": {}
        }
      ]
    },
    {
      "cell_type": "markdown",
      "source": [
        "MODEL BUILDING"
      ],
      "metadata": {
        "id": "0lQr3fKsk6Wa"
      }
    },
    {
      "cell_type": "code",
      "source": [
        "forest2.head()"
      ],
      "metadata": {
        "colab": {
          "base_uri": "https://localhost:8080/",
          "height": 206
        },
        "id": "hIuABd6r4m9c",
        "outputId": "7cceebfd-97f7-4160-94de-b630b731f797"
      },
      "execution_count": 21,
      "outputs": [
        {
          "output_type": "execute_result",
          "data": {
            "text/plain": [
              "   month  day  FFMC   DMC     DC  ISI  temp  RH  wind  rain  area  \\\n",
              "0      7    0  86.2  26.2   94.3  5.1   8.2  51   6.7   0.0   0.0   \n",
              "1     10    5  90.6  35.4  669.1  6.7  18.0  33   0.9   0.0   0.0   \n",
              "2     10    2  90.6  43.7  686.9  6.7  14.6  33   1.3   0.0   0.0   \n",
              "3      7    0  91.7  33.3   77.5  9.0   8.3  97   4.0   0.2   0.0   \n",
              "4      7    3  89.3  51.3  102.2  9.6  11.4  99   1.8   0.0   0.0   \n",
              "\n",
              "  size_category  \n",
              "0         small  \n",
              "1         small  \n",
              "2         small  \n",
              "3         small  \n",
              "4         small  "
            ],
            "text/html": [
              "\n",
              "  <div id=\"df-7dcd72a7-6570-4a75-8ffa-9ac11ab47b6f\">\n",
              "    <div class=\"colab-df-container\">\n",
              "      <div>\n",
              "<style scoped>\n",
              "    .dataframe tbody tr th:only-of-type {\n",
              "        vertical-align: middle;\n",
              "    }\n",
              "\n",
              "    .dataframe tbody tr th {\n",
              "        vertical-align: top;\n",
              "    }\n",
              "\n",
              "    .dataframe thead th {\n",
              "        text-align: right;\n",
              "    }\n",
              "</style>\n",
              "<table border=\"1\" class=\"dataframe\">\n",
              "  <thead>\n",
              "    <tr style=\"text-align: right;\">\n",
              "      <th></th>\n",
              "      <th>month</th>\n",
              "      <th>day</th>\n",
              "      <th>FFMC</th>\n",
              "      <th>DMC</th>\n",
              "      <th>DC</th>\n",
              "      <th>ISI</th>\n",
              "      <th>temp</th>\n",
              "      <th>RH</th>\n",
              "      <th>wind</th>\n",
              "      <th>rain</th>\n",
              "      <th>area</th>\n",
              "      <th>size_category</th>\n",
              "    </tr>\n",
              "  </thead>\n",
              "  <tbody>\n",
              "    <tr>\n",
              "      <th>0</th>\n",
              "      <td>7</td>\n",
              "      <td>0</td>\n",
              "      <td>86.2</td>\n",
              "      <td>26.2</td>\n",
              "      <td>94.3</td>\n",
              "      <td>5.1</td>\n",
              "      <td>8.2</td>\n",
              "      <td>51</td>\n",
              "      <td>6.7</td>\n",
              "      <td>0.0</td>\n",
              "      <td>0.0</td>\n",
              "      <td>small</td>\n",
              "    </tr>\n",
              "    <tr>\n",
              "      <th>1</th>\n",
              "      <td>10</td>\n",
              "      <td>5</td>\n",
              "      <td>90.6</td>\n",
              "      <td>35.4</td>\n",
              "      <td>669.1</td>\n",
              "      <td>6.7</td>\n",
              "      <td>18.0</td>\n",
              "      <td>33</td>\n",
              "      <td>0.9</td>\n",
              "      <td>0.0</td>\n",
              "      <td>0.0</td>\n",
              "      <td>small</td>\n",
              "    </tr>\n",
              "    <tr>\n",
              "      <th>2</th>\n",
              "      <td>10</td>\n",
              "      <td>2</td>\n",
              "      <td>90.6</td>\n",
              "      <td>43.7</td>\n",
              "      <td>686.9</td>\n",
              "      <td>6.7</td>\n",
              "      <td>14.6</td>\n",
              "      <td>33</td>\n",
              "      <td>1.3</td>\n",
              "      <td>0.0</td>\n",
              "      <td>0.0</td>\n",
              "      <td>small</td>\n",
              "    </tr>\n",
              "    <tr>\n",
              "      <th>3</th>\n",
              "      <td>7</td>\n",
              "      <td>0</td>\n",
              "      <td>91.7</td>\n",
              "      <td>33.3</td>\n",
              "      <td>77.5</td>\n",
              "      <td>9.0</td>\n",
              "      <td>8.3</td>\n",
              "      <td>97</td>\n",
              "      <td>4.0</td>\n",
              "      <td>0.2</td>\n",
              "      <td>0.0</td>\n",
              "      <td>small</td>\n",
              "    </tr>\n",
              "    <tr>\n",
              "      <th>4</th>\n",
              "      <td>7</td>\n",
              "      <td>3</td>\n",
              "      <td>89.3</td>\n",
              "      <td>51.3</td>\n",
              "      <td>102.2</td>\n",
              "      <td>9.6</td>\n",
              "      <td>11.4</td>\n",
              "      <td>99</td>\n",
              "      <td>1.8</td>\n",
              "      <td>0.0</td>\n",
              "      <td>0.0</td>\n",
              "      <td>small</td>\n",
              "    </tr>\n",
              "  </tbody>\n",
              "</table>\n",
              "</div>\n",
              "      <button class=\"colab-df-convert\" onclick=\"convertToInteractive('df-7dcd72a7-6570-4a75-8ffa-9ac11ab47b6f')\"\n",
              "              title=\"Convert this dataframe to an interactive table.\"\n",
              "              style=\"display:none;\">\n",
              "        \n",
              "  <svg xmlns=\"http://www.w3.org/2000/svg\" height=\"24px\"viewBox=\"0 0 24 24\"\n",
              "       width=\"24px\">\n",
              "    <path d=\"M0 0h24v24H0V0z\" fill=\"none\"/>\n",
              "    <path d=\"M18.56 5.44l.94 2.06.94-2.06 2.06-.94-2.06-.94-.94-2.06-.94 2.06-2.06.94zm-11 1L8.5 8.5l.94-2.06 2.06-.94-2.06-.94L8.5 2.5l-.94 2.06-2.06.94zm10 10l.94 2.06.94-2.06 2.06-.94-2.06-.94-.94-2.06-.94 2.06-2.06.94z\"/><path d=\"M17.41 7.96l-1.37-1.37c-.4-.4-.92-.59-1.43-.59-.52 0-1.04.2-1.43.59L10.3 9.45l-7.72 7.72c-.78.78-.78 2.05 0 2.83L4 21.41c.39.39.9.59 1.41.59.51 0 1.02-.2 1.41-.59l7.78-7.78 2.81-2.81c.8-.78.8-2.07 0-2.86zM5.41 20L4 18.59l7.72-7.72 1.47 1.35L5.41 20z\"/>\n",
              "  </svg>\n",
              "      </button>\n",
              "      \n",
              "  <style>\n",
              "    .colab-df-container {\n",
              "      display:flex;\n",
              "      flex-wrap:wrap;\n",
              "      gap: 12px;\n",
              "    }\n",
              "\n",
              "    .colab-df-convert {\n",
              "      background-color: #E8F0FE;\n",
              "      border: none;\n",
              "      border-radius: 50%;\n",
              "      cursor: pointer;\n",
              "      display: none;\n",
              "      fill: #1967D2;\n",
              "      height: 32px;\n",
              "      padding: 0 0 0 0;\n",
              "      width: 32px;\n",
              "    }\n",
              "\n",
              "    .colab-df-convert:hover {\n",
              "      background-color: #E2EBFA;\n",
              "      box-shadow: 0px 1px 2px rgba(60, 64, 67, 0.3), 0px 1px 3px 1px rgba(60, 64, 67, 0.15);\n",
              "      fill: #174EA6;\n",
              "    }\n",
              "\n",
              "    [theme=dark] .colab-df-convert {\n",
              "      background-color: #3B4455;\n",
              "      fill: #D2E3FC;\n",
              "    }\n",
              "\n",
              "    [theme=dark] .colab-df-convert:hover {\n",
              "      background-color: #434B5C;\n",
              "      box-shadow: 0px 1px 3px 1px rgba(0, 0, 0, 0.15);\n",
              "      filter: drop-shadow(0px 1px 2px rgba(0, 0, 0, 0.3));\n",
              "      fill: #FFFFFF;\n",
              "    }\n",
              "  </style>\n",
              "\n",
              "      <script>\n",
              "        const buttonEl =\n",
              "          document.querySelector('#df-7dcd72a7-6570-4a75-8ffa-9ac11ab47b6f button.colab-df-convert');\n",
              "        buttonEl.style.display =\n",
              "          google.colab.kernel.accessAllowed ? 'block' : 'none';\n",
              "\n",
              "        async function convertToInteractive(key) {\n",
              "          const element = document.querySelector('#df-7dcd72a7-6570-4a75-8ffa-9ac11ab47b6f');\n",
              "          const dataTable =\n",
              "            await google.colab.kernel.invokeFunction('convertToInteractive',\n",
              "                                                     [key], {});\n",
              "          if (!dataTable) return;\n",
              "\n",
              "          const docLinkHtml = 'Like what you see? Visit the ' +\n",
              "            '<a target=\"_blank\" href=https://colab.research.google.com/notebooks/data_table.ipynb>data table notebook</a>'\n",
              "            + ' to learn more about interactive tables.';\n",
              "          element.innerHTML = '';\n",
              "          dataTable['output_type'] = 'display_data';\n",
              "          await google.colab.output.renderOutput(dataTable, element);\n",
              "          const docLink = document.createElement('div');\n",
              "          docLink.innerHTML = docLinkHtml;\n",
              "          element.appendChild(docLink);\n",
              "        }\n",
              "      </script>\n",
              "    </div>\n",
              "  </div>\n",
              "  "
            ]
          },
          "metadata": {},
          "execution_count": 21
        }
      ]
    },
    {
      "cell_type": "code",
      "source": [
        "forest2['size_category']=np.where((forest['size_category']=='small'),0,1)\n",
        "#np.where(df['size_category'].str.contains(\"large\"), 1, 0)\n",
        "y=forest2[['size_category']]\n",
        "x=forest2.drop('size_category',axis=1)\n",
        "x_train,x_test,y_train,y_test=train_test_split(x,y,stratify=y,test_size=0.33,random_state=42)\n",
        "sc=MinMaxScaler()\n",
        "x_train=sc.fit_transform(x_train)"
      ],
      "metadata": {
        "id": "9A_JHV7mlWgh"
      },
      "execution_count": 22,
      "outputs": []
    },
    {
      "cell_type": "code",
      "source": [
        "x"
      ],
      "metadata": {
        "colab": {
          "base_uri": "https://localhost:8080/",
          "height": 423
        },
        "id": "MAfPG7tgllMM",
        "outputId": "6a2ce2dc-fcb1-4586-ecea-d8a1e82b7353"
      },
      "execution_count": 23,
      "outputs": [
        {
          "output_type": "execute_result",
          "data": {
            "text/plain": [
              "     month  day  FFMC    DMC     DC   ISI  temp  RH  wind  rain   area\n",
              "0        7    0  86.2   26.2   94.3   5.1   8.2  51   6.7   0.0   0.00\n",
              "1       10    5  90.6   35.4  669.1   6.7  18.0  33   0.9   0.0   0.00\n",
              "2       10    2  90.6   43.7  686.9   6.7  14.6  33   1.3   0.0   0.00\n",
              "3        7    0  91.7   33.3   77.5   9.0   8.3  97   4.0   0.2   0.00\n",
              "4        7    3  89.3   51.3  102.2   9.6  11.4  99   1.8   0.0   0.00\n",
              "..     ...  ...   ...    ...    ...   ...   ...  ..   ...   ...    ...\n",
              "512      1    3  81.6   56.7  665.6   1.9  27.8  32   2.7   0.0   6.44\n",
              "513      1    3  81.6   56.7  665.6   1.9  21.9  71   5.8   0.0  54.29\n",
              "514      1    3  81.6   56.7  665.6   1.9  21.2  70   6.7   0.0  11.16\n",
              "515      1    2  94.4  146.0  614.7  11.3  25.6  42   4.0   0.0   0.00\n",
              "516      9    5  79.5    3.0  106.7   1.1  11.8  31   4.5   0.0   0.00\n",
              "\n",
              "[517 rows x 11 columns]"
            ],
            "text/html": [
              "\n",
              "  <div id=\"df-683e37a0-37db-4c27-b7a5-927360b8ee4d\">\n",
              "    <div class=\"colab-df-container\">\n",
              "      <div>\n",
              "<style scoped>\n",
              "    .dataframe tbody tr th:only-of-type {\n",
              "        vertical-align: middle;\n",
              "    }\n",
              "\n",
              "    .dataframe tbody tr th {\n",
              "        vertical-align: top;\n",
              "    }\n",
              "\n",
              "    .dataframe thead th {\n",
              "        text-align: right;\n",
              "    }\n",
              "</style>\n",
              "<table border=\"1\" class=\"dataframe\">\n",
              "  <thead>\n",
              "    <tr style=\"text-align: right;\">\n",
              "      <th></th>\n",
              "      <th>month</th>\n",
              "      <th>day</th>\n",
              "      <th>FFMC</th>\n",
              "      <th>DMC</th>\n",
              "      <th>DC</th>\n",
              "      <th>ISI</th>\n",
              "      <th>temp</th>\n",
              "      <th>RH</th>\n",
              "      <th>wind</th>\n",
              "      <th>rain</th>\n",
              "      <th>area</th>\n",
              "    </tr>\n",
              "  </thead>\n",
              "  <tbody>\n",
              "    <tr>\n",
              "      <th>0</th>\n",
              "      <td>7</td>\n",
              "      <td>0</td>\n",
              "      <td>86.2</td>\n",
              "      <td>26.2</td>\n",
              "      <td>94.3</td>\n",
              "      <td>5.1</td>\n",
              "      <td>8.2</td>\n",
              "      <td>51</td>\n",
              "      <td>6.7</td>\n",
              "      <td>0.0</td>\n",
              "      <td>0.00</td>\n",
              "    </tr>\n",
              "    <tr>\n",
              "      <th>1</th>\n",
              "      <td>10</td>\n",
              "      <td>5</td>\n",
              "      <td>90.6</td>\n",
              "      <td>35.4</td>\n",
              "      <td>669.1</td>\n",
              "      <td>6.7</td>\n",
              "      <td>18.0</td>\n",
              "      <td>33</td>\n",
              "      <td>0.9</td>\n",
              "      <td>0.0</td>\n",
              "      <td>0.00</td>\n",
              "    </tr>\n",
              "    <tr>\n",
              "      <th>2</th>\n",
              "      <td>10</td>\n",
              "      <td>2</td>\n",
              "      <td>90.6</td>\n",
              "      <td>43.7</td>\n",
              "      <td>686.9</td>\n",
              "      <td>6.7</td>\n",
              "      <td>14.6</td>\n",
              "      <td>33</td>\n",
              "      <td>1.3</td>\n",
              "      <td>0.0</td>\n",
              "      <td>0.00</td>\n",
              "    </tr>\n",
              "    <tr>\n",
              "      <th>3</th>\n",
              "      <td>7</td>\n",
              "      <td>0</td>\n",
              "      <td>91.7</td>\n",
              "      <td>33.3</td>\n",
              "      <td>77.5</td>\n",
              "      <td>9.0</td>\n",
              "      <td>8.3</td>\n",
              "      <td>97</td>\n",
              "      <td>4.0</td>\n",
              "      <td>0.2</td>\n",
              "      <td>0.00</td>\n",
              "    </tr>\n",
              "    <tr>\n",
              "      <th>4</th>\n",
              "      <td>7</td>\n",
              "      <td>3</td>\n",
              "      <td>89.3</td>\n",
              "      <td>51.3</td>\n",
              "      <td>102.2</td>\n",
              "      <td>9.6</td>\n",
              "      <td>11.4</td>\n",
              "      <td>99</td>\n",
              "      <td>1.8</td>\n",
              "      <td>0.0</td>\n",
              "      <td>0.00</td>\n",
              "    </tr>\n",
              "    <tr>\n",
              "      <th>...</th>\n",
              "      <td>...</td>\n",
              "      <td>...</td>\n",
              "      <td>...</td>\n",
              "      <td>...</td>\n",
              "      <td>...</td>\n",
              "      <td>...</td>\n",
              "      <td>...</td>\n",
              "      <td>...</td>\n",
              "      <td>...</td>\n",
              "      <td>...</td>\n",
              "      <td>...</td>\n",
              "    </tr>\n",
              "    <tr>\n",
              "      <th>512</th>\n",
              "      <td>1</td>\n",
              "      <td>3</td>\n",
              "      <td>81.6</td>\n",
              "      <td>56.7</td>\n",
              "      <td>665.6</td>\n",
              "      <td>1.9</td>\n",
              "      <td>27.8</td>\n",
              "      <td>32</td>\n",
              "      <td>2.7</td>\n",
              "      <td>0.0</td>\n",
              "      <td>6.44</td>\n",
              "    </tr>\n",
              "    <tr>\n",
              "      <th>513</th>\n",
              "      <td>1</td>\n",
              "      <td>3</td>\n",
              "      <td>81.6</td>\n",
              "      <td>56.7</td>\n",
              "      <td>665.6</td>\n",
              "      <td>1.9</td>\n",
              "      <td>21.9</td>\n",
              "      <td>71</td>\n",
              "      <td>5.8</td>\n",
              "      <td>0.0</td>\n",
              "      <td>54.29</td>\n",
              "    </tr>\n",
              "    <tr>\n",
              "      <th>514</th>\n",
              "      <td>1</td>\n",
              "      <td>3</td>\n",
              "      <td>81.6</td>\n",
              "      <td>56.7</td>\n",
              "      <td>665.6</td>\n",
              "      <td>1.9</td>\n",
              "      <td>21.2</td>\n",
              "      <td>70</td>\n",
              "      <td>6.7</td>\n",
              "      <td>0.0</td>\n",
              "      <td>11.16</td>\n",
              "    </tr>\n",
              "    <tr>\n",
              "      <th>515</th>\n",
              "      <td>1</td>\n",
              "      <td>2</td>\n",
              "      <td>94.4</td>\n",
              "      <td>146.0</td>\n",
              "      <td>614.7</td>\n",
              "      <td>11.3</td>\n",
              "      <td>25.6</td>\n",
              "      <td>42</td>\n",
              "      <td>4.0</td>\n",
              "      <td>0.0</td>\n",
              "      <td>0.00</td>\n",
              "    </tr>\n",
              "    <tr>\n",
              "      <th>516</th>\n",
              "      <td>9</td>\n",
              "      <td>5</td>\n",
              "      <td>79.5</td>\n",
              "      <td>3.0</td>\n",
              "      <td>106.7</td>\n",
              "      <td>1.1</td>\n",
              "      <td>11.8</td>\n",
              "      <td>31</td>\n",
              "      <td>4.5</td>\n",
              "      <td>0.0</td>\n",
              "      <td>0.00</td>\n",
              "    </tr>\n",
              "  </tbody>\n",
              "</table>\n",
              "<p>517 rows × 11 columns</p>\n",
              "</div>\n",
              "      <button class=\"colab-df-convert\" onclick=\"convertToInteractive('df-683e37a0-37db-4c27-b7a5-927360b8ee4d')\"\n",
              "              title=\"Convert this dataframe to an interactive table.\"\n",
              "              style=\"display:none;\">\n",
              "        \n",
              "  <svg xmlns=\"http://www.w3.org/2000/svg\" height=\"24px\"viewBox=\"0 0 24 24\"\n",
              "       width=\"24px\">\n",
              "    <path d=\"M0 0h24v24H0V0z\" fill=\"none\"/>\n",
              "    <path d=\"M18.56 5.44l.94 2.06.94-2.06 2.06-.94-2.06-.94-.94-2.06-.94 2.06-2.06.94zm-11 1L8.5 8.5l.94-2.06 2.06-.94-2.06-.94L8.5 2.5l-.94 2.06-2.06.94zm10 10l.94 2.06.94-2.06 2.06-.94-2.06-.94-.94-2.06-.94 2.06-2.06.94z\"/><path d=\"M17.41 7.96l-1.37-1.37c-.4-.4-.92-.59-1.43-.59-.52 0-1.04.2-1.43.59L10.3 9.45l-7.72 7.72c-.78.78-.78 2.05 0 2.83L4 21.41c.39.39.9.59 1.41.59.51 0 1.02-.2 1.41-.59l7.78-7.78 2.81-2.81c.8-.78.8-2.07 0-2.86zM5.41 20L4 18.59l7.72-7.72 1.47 1.35L5.41 20z\"/>\n",
              "  </svg>\n",
              "      </button>\n",
              "      \n",
              "  <style>\n",
              "    .colab-df-container {\n",
              "      display:flex;\n",
              "      flex-wrap:wrap;\n",
              "      gap: 12px;\n",
              "    }\n",
              "\n",
              "    .colab-df-convert {\n",
              "      background-color: #E8F0FE;\n",
              "      border: none;\n",
              "      border-radius: 50%;\n",
              "      cursor: pointer;\n",
              "      display: none;\n",
              "      fill: #1967D2;\n",
              "      height: 32px;\n",
              "      padding: 0 0 0 0;\n",
              "      width: 32px;\n",
              "    }\n",
              "\n",
              "    .colab-df-convert:hover {\n",
              "      background-color: #E2EBFA;\n",
              "      box-shadow: 0px 1px 2px rgba(60, 64, 67, 0.3), 0px 1px 3px 1px rgba(60, 64, 67, 0.15);\n",
              "      fill: #174EA6;\n",
              "    }\n",
              "\n",
              "    [theme=dark] .colab-df-convert {\n",
              "      background-color: #3B4455;\n",
              "      fill: #D2E3FC;\n",
              "    }\n",
              "\n",
              "    [theme=dark] .colab-df-convert:hover {\n",
              "      background-color: #434B5C;\n",
              "      box-shadow: 0px 1px 3px 1px rgba(0, 0, 0, 0.15);\n",
              "      filter: drop-shadow(0px 1px 2px rgba(0, 0, 0, 0.3));\n",
              "      fill: #FFFFFF;\n",
              "    }\n",
              "  </style>\n",
              "\n",
              "      <script>\n",
              "        const buttonEl =\n",
              "          document.querySelector('#df-683e37a0-37db-4c27-b7a5-927360b8ee4d button.colab-df-convert');\n",
              "        buttonEl.style.display =\n",
              "          google.colab.kernel.accessAllowed ? 'block' : 'none';\n",
              "\n",
              "        async function convertToInteractive(key) {\n",
              "          const element = document.querySelector('#df-683e37a0-37db-4c27-b7a5-927360b8ee4d');\n",
              "          const dataTable =\n",
              "            await google.colab.kernel.invokeFunction('convertToInteractive',\n",
              "                                                     [key], {});\n",
              "          if (!dataTable) return;\n",
              "\n",
              "          const docLinkHtml = 'Like what you see? Visit the ' +\n",
              "            '<a target=\"_blank\" href=https://colab.research.google.com/notebooks/data_table.ipynb>data table notebook</a>'\n",
              "            + ' to learn more about interactive tables.';\n",
              "          element.innerHTML = '';\n",
              "          dataTable['output_type'] = 'display_data';\n",
              "          await google.colab.output.renderOutput(dataTable, element);\n",
              "          const docLink = document.createElement('div');\n",
              "          docLink.innerHTML = docLinkHtml;\n",
              "          element.appendChild(docLink);\n",
              "        }\n",
              "      </script>\n",
              "    </div>\n",
              "  </div>\n",
              "  "
            ]
          },
          "metadata": {},
          "execution_count": 23
        }
      ]
    },
    {
      "cell_type": "code",
      "source": [
        "x.shape"
      ],
      "metadata": {
        "colab": {
          "base_uri": "https://localhost:8080/"
        },
        "id": "eepauH-xAivS",
        "outputId": "7b422442-0ed4-4b43-8196-d398418b88d2"
      },
      "execution_count": 24,
      "outputs": [
        {
          "output_type": "execute_result",
          "data": {
            "text/plain": [
              "(517, 11)"
            ]
          },
          "metadata": {},
          "execution_count": 24
        }
      ]
    },
    {
      "cell_type": "code",
      "source": [
        "y"
      ],
      "metadata": {
        "colab": {
          "base_uri": "https://localhost:8080/",
          "height": 423
        },
        "id": "pgfbz2tDn4my",
        "outputId": "118f16f4-5e91-48ca-8659-49c235e41deb"
      },
      "execution_count": 25,
      "outputs": [
        {
          "output_type": "execute_result",
          "data": {
            "text/plain": [
              "     size_category\n",
              "0                0\n",
              "1                0\n",
              "2                0\n",
              "3                0\n",
              "4                0\n",
              "..             ...\n",
              "512              1\n",
              "513              1\n",
              "514              1\n",
              "515              0\n",
              "516              0\n",
              "\n",
              "[517 rows x 1 columns]"
            ],
            "text/html": [
              "\n",
              "  <div id=\"df-8b42f7f7-a4bf-446b-a004-28f544625988\">\n",
              "    <div class=\"colab-df-container\">\n",
              "      <div>\n",
              "<style scoped>\n",
              "    .dataframe tbody tr th:only-of-type {\n",
              "        vertical-align: middle;\n",
              "    }\n",
              "\n",
              "    .dataframe tbody tr th {\n",
              "        vertical-align: top;\n",
              "    }\n",
              "\n",
              "    .dataframe thead th {\n",
              "        text-align: right;\n",
              "    }\n",
              "</style>\n",
              "<table border=\"1\" class=\"dataframe\">\n",
              "  <thead>\n",
              "    <tr style=\"text-align: right;\">\n",
              "      <th></th>\n",
              "      <th>size_category</th>\n",
              "    </tr>\n",
              "  </thead>\n",
              "  <tbody>\n",
              "    <tr>\n",
              "      <th>0</th>\n",
              "      <td>0</td>\n",
              "    </tr>\n",
              "    <tr>\n",
              "      <th>1</th>\n",
              "      <td>0</td>\n",
              "    </tr>\n",
              "    <tr>\n",
              "      <th>2</th>\n",
              "      <td>0</td>\n",
              "    </tr>\n",
              "    <tr>\n",
              "      <th>3</th>\n",
              "      <td>0</td>\n",
              "    </tr>\n",
              "    <tr>\n",
              "      <th>4</th>\n",
              "      <td>0</td>\n",
              "    </tr>\n",
              "    <tr>\n",
              "      <th>...</th>\n",
              "      <td>...</td>\n",
              "    </tr>\n",
              "    <tr>\n",
              "      <th>512</th>\n",
              "      <td>1</td>\n",
              "    </tr>\n",
              "    <tr>\n",
              "      <th>513</th>\n",
              "      <td>1</td>\n",
              "    </tr>\n",
              "    <tr>\n",
              "      <th>514</th>\n",
              "      <td>1</td>\n",
              "    </tr>\n",
              "    <tr>\n",
              "      <th>515</th>\n",
              "      <td>0</td>\n",
              "    </tr>\n",
              "    <tr>\n",
              "      <th>516</th>\n",
              "      <td>0</td>\n",
              "    </tr>\n",
              "  </tbody>\n",
              "</table>\n",
              "<p>517 rows × 1 columns</p>\n",
              "</div>\n",
              "      <button class=\"colab-df-convert\" onclick=\"convertToInteractive('df-8b42f7f7-a4bf-446b-a004-28f544625988')\"\n",
              "              title=\"Convert this dataframe to an interactive table.\"\n",
              "              style=\"display:none;\">\n",
              "        \n",
              "  <svg xmlns=\"http://www.w3.org/2000/svg\" height=\"24px\"viewBox=\"0 0 24 24\"\n",
              "       width=\"24px\">\n",
              "    <path d=\"M0 0h24v24H0V0z\" fill=\"none\"/>\n",
              "    <path d=\"M18.56 5.44l.94 2.06.94-2.06 2.06-.94-2.06-.94-.94-2.06-.94 2.06-2.06.94zm-11 1L8.5 8.5l.94-2.06 2.06-.94-2.06-.94L8.5 2.5l-.94 2.06-2.06.94zm10 10l.94 2.06.94-2.06 2.06-.94-2.06-.94-.94-2.06-.94 2.06-2.06.94z\"/><path d=\"M17.41 7.96l-1.37-1.37c-.4-.4-.92-.59-1.43-.59-.52 0-1.04.2-1.43.59L10.3 9.45l-7.72 7.72c-.78.78-.78 2.05 0 2.83L4 21.41c.39.39.9.59 1.41.59.51 0 1.02-.2 1.41-.59l7.78-7.78 2.81-2.81c.8-.78.8-2.07 0-2.86zM5.41 20L4 18.59l7.72-7.72 1.47 1.35L5.41 20z\"/>\n",
              "  </svg>\n",
              "      </button>\n",
              "      \n",
              "  <style>\n",
              "    .colab-df-container {\n",
              "      display:flex;\n",
              "      flex-wrap:wrap;\n",
              "      gap: 12px;\n",
              "    }\n",
              "\n",
              "    .colab-df-convert {\n",
              "      background-color: #E8F0FE;\n",
              "      border: none;\n",
              "      border-radius: 50%;\n",
              "      cursor: pointer;\n",
              "      display: none;\n",
              "      fill: #1967D2;\n",
              "      height: 32px;\n",
              "      padding: 0 0 0 0;\n",
              "      width: 32px;\n",
              "    }\n",
              "\n",
              "    .colab-df-convert:hover {\n",
              "      background-color: #E2EBFA;\n",
              "      box-shadow: 0px 1px 2px rgba(60, 64, 67, 0.3), 0px 1px 3px 1px rgba(60, 64, 67, 0.15);\n",
              "      fill: #174EA6;\n",
              "    }\n",
              "\n",
              "    [theme=dark] .colab-df-convert {\n",
              "      background-color: #3B4455;\n",
              "      fill: #D2E3FC;\n",
              "    }\n",
              "\n",
              "    [theme=dark] .colab-df-convert:hover {\n",
              "      background-color: #434B5C;\n",
              "      box-shadow: 0px 1px 3px 1px rgba(0, 0, 0, 0.15);\n",
              "      filter: drop-shadow(0px 1px 2px rgba(0, 0, 0, 0.3));\n",
              "      fill: #FFFFFF;\n",
              "    }\n",
              "  </style>\n",
              "\n",
              "      <script>\n",
              "        const buttonEl =\n",
              "          document.querySelector('#df-8b42f7f7-a4bf-446b-a004-28f544625988 button.colab-df-convert');\n",
              "        buttonEl.style.display =\n",
              "          google.colab.kernel.accessAllowed ? 'block' : 'none';\n",
              "\n",
              "        async function convertToInteractive(key) {\n",
              "          const element = document.querySelector('#df-8b42f7f7-a4bf-446b-a004-28f544625988');\n",
              "          const dataTable =\n",
              "            await google.colab.kernel.invokeFunction('convertToInteractive',\n",
              "                                                     [key], {});\n",
              "          if (!dataTable) return;\n",
              "\n",
              "          const docLinkHtml = 'Like what you see? Visit the ' +\n",
              "            '<a target=\"_blank\" href=https://colab.research.google.com/notebooks/data_table.ipynb>data table notebook</a>'\n",
              "            + ' to learn more about interactive tables.';\n",
              "          element.innerHTML = '';\n",
              "          dataTable['output_type'] = 'display_data';\n",
              "          await google.colab.output.renderOutput(dataTable, element);\n",
              "          const docLink = document.createElement('div');\n",
              "          docLink.innerHTML = docLinkHtml;\n",
              "          element.appendChild(docLink);\n",
              "        }\n",
              "      </script>\n",
              "    </div>\n",
              "  </div>\n",
              "  "
            ]
          },
          "metadata": {},
          "execution_count": 25
        }
      ]
    },
    {
      "cell_type": "code",
      "source": [
        "model=Sequential()\n",
        "model.add(Dense(12,input_dim=11,kernel_initializer='normal',activation='softplus'))\n",
        "model.add(Dense(8,activation='sigmoid'))\n",
        "model.add(Dense(1,activation='sigmoid'))\n",
        "model.compile(loss='mean_squared_error',optimizer='adam',metrics=['accuracy'])"
      ],
      "metadata": {
        "id": "VooDIJMnoe_W"
      },
      "execution_count": 26,
      "outputs": []
    },
    {
      "cell_type": "code",
      "source": [
        "history=model.fit(x_train,y_train,validation_split=0.33,epochs=200,batch_size=20)"
      ],
      "metadata": {
        "colab": {
          "base_uri": "https://localhost:8080/"
        },
        "id": "nDHSRx-NBYsE",
        "outputId": "35a19c15-de9d-412e-d087-39b5b46e45de"
      },
      "execution_count": 27,
      "outputs": [
        {
          "output_type": "stream",
          "name": "stdout",
          "text": [
            "Epoch 1/200\n",
            "12/12 [==============================] - 1s 23ms/step - loss: 0.2813 - accuracy: 0.2944 - val_loss: 0.2745 - val_accuracy: 0.2174\n",
            "Epoch 2/200\n",
            "12/12 [==============================] - 0s 5ms/step - loss: 0.2590 - accuracy: 0.3377 - val_loss: 0.2477 - val_accuracy: 0.6870\n",
            "Epoch 3/200\n",
            "12/12 [==============================] - 0s 7ms/step - loss: 0.2416 - accuracy: 0.7013 - val_loss: 0.2288 - val_accuracy: 0.7826\n",
            "Epoch 4/200\n",
            "12/12 [==============================] - 0s 5ms/step - loss: 0.2313 - accuracy: 0.7056 - val_loss: 0.2139 - val_accuracy: 0.7826\n",
            "Epoch 5/200\n",
            "12/12 [==============================] - 0s 6ms/step - loss: 0.2222 - accuracy: 0.7056 - val_loss: 0.2049 - val_accuracy: 0.7826\n",
            "Epoch 6/200\n",
            "12/12 [==============================] - 0s 5ms/step - loss: 0.2177 - accuracy: 0.7056 - val_loss: 0.1967 - val_accuracy: 0.7826\n",
            "Epoch 7/200\n",
            "12/12 [==============================] - 0s 5ms/step - loss: 0.2140 - accuracy: 0.7056 - val_loss: 0.1910 - val_accuracy: 0.7826\n",
            "Epoch 8/200\n",
            "12/12 [==============================] - 0s 6ms/step - loss: 0.2113 - accuracy: 0.7056 - val_loss: 0.1876 - val_accuracy: 0.7826\n",
            "Epoch 9/200\n",
            "12/12 [==============================] - 0s 5ms/step - loss: 0.2104 - accuracy: 0.7056 - val_loss: 0.1843 - val_accuracy: 0.7826\n",
            "Epoch 10/200\n",
            "12/12 [==============================] - 0s 5ms/step - loss: 0.2091 - accuracy: 0.7056 - val_loss: 0.1824 - val_accuracy: 0.7826\n",
            "Epoch 11/200\n",
            "12/12 [==============================] - 0s 5ms/step - loss: 0.2088 - accuracy: 0.7056 - val_loss: 0.1807 - val_accuracy: 0.7826\n",
            "Epoch 12/200\n",
            "12/12 [==============================] - 0s 6ms/step - loss: 0.2084 - accuracy: 0.7056 - val_loss: 0.1796 - val_accuracy: 0.7826\n",
            "Epoch 13/200\n",
            "12/12 [==============================] - 0s 6ms/step - loss: 0.2081 - accuracy: 0.7056 - val_loss: 0.1791 - val_accuracy: 0.7826\n",
            "Epoch 14/200\n",
            "12/12 [==============================] - 0s 5ms/step - loss: 0.2080 - accuracy: 0.7056 - val_loss: 0.1785 - val_accuracy: 0.7826\n",
            "Epoch 15/200\n",
            "12/12 [==============================] - 0s 6ms/step - loss: 0.2078 - accuracy: 0.7056 - val_loss: 0.1778 - val_accuracy: 0.7826\n",
            "Epoch 16/200\n",
            "12/12 [==============================] - 0s 5ms/step - loss: 0.2077 - accuracy: 0.7056 - val_loss: 0.1773 - val_accuracy: 0.7826\n",
            "Epoch 17/200\n",
            "12/12 [==============================] - 0s 7ms/step - loss: 0.2077 - accuracy: 0.7056 - val_loss: 0.1774 - val_accuracy: 0.7826\n",
            "Epoch 18/200\n",
            "12/12 [==============================] - 0s 5ms/step - loss: 0.2076 - accuracy: 0.7056 - val_loss: 0.1769 - val_accuracy: 0.7826\n",
            "Epoch 19/200\n",
            "12/12 [==============================] - 0s 8ms/step - loss: 0.2076 - accuracy: 0.7056 - val_loss: 0.1765 - val_accuracy: 0.7826\n",
            "Epoch 20/200\n",
            "12/12 [==============================] - 0s 6ms/step - loss: 0.2075 - accuracy: 0.7056 - val_loss: 0.1766 - val_accuracy: 0.7826\n",
            "Epoch 21/200\n",
            "12/12 [==============================] - 0s 5ms/step - loss: 0.2075 - accuracy: 0.7056 - val_loss: 0.1762 - val_accuracy: 0.7826\n",
            "Epoch 22/200\n",
            "12/12 [==============================] - 0s 6ms/step - loss: 0.2074 - accuracy: 0.7056 - val_loss: 0.1762 - val_accuracy: 0.7826\n",
            "Epoch 23/200\n",
            "12/12 [==============================] - 0s 5ms/step - loss: 0.2074 - accuracy: 0.7056 - val_loss: 0.1759 - val_accuracy: 0.7826\n",
            "Epoch 24/200\n",
            "12/12 [==============================] - 0s 6ms/step - loss: 0.2074 - accuracy: 0.7056 - val_loss: 0.1759 - val_accuracy: 0.7826\n",
            "Epoch 25/200\n",
            "12/12 [==============================] - 0s 6ms/step - loss: 0.2073 - accuracy: 0.7056 - val_loss: 0.1760 - val_accuracy: 0.7826\n",
            "Epoch 26/200\n",
            "12/12 [==============================] - 0s 6ms/step - loss: 0.2073 - accuracy: 0.7056 - val_loss: 0.1756 - val_accuracy: 0.7826\n",
            "Epoch 27/200\n",
            "12/12 [==============================] - 0s 6ms/step - loss: 0.2073 - accuracy: 0.7056 - val_loss: 0.1756 - val_accuracy: 0.7826\n",
            "Epoch 28/200\n",
            "12/12 [==============================] - 0s 5ms/step - loss: 0.2072 - accuracy: 0.7056 - val_loss: 0.1758 - val_accuracy: 0.7826\n",
            "Epoch 29/200\n",
            "12/12 [==============================] - 0s 6ms/step - loss: 0.2072 - accuracy: 0.7056 - val_loss: 0.1757 - val_accuracy: 0.7826\n",
            "Epoch 30/200\n",
            "12/12 [==============================] - 0s 7ms/step - loss: 0.2072 - accuracy: 0.7056 - val_loss: 0.1759 - val_accuracy: 0.7826\n",
            "Epoch 31/200\n",
            "12/12 [==============================] - 0s 6ms/step - loss: 0.2071 - accuracy: 0.7056 - val_loss: 0.1759 - val_accuracy: 0.7826\n",
            "Epoch 32/200\n",
            "12/12 [==============================] - 0s 5ms/step - loss: 0.2071 - accuracy: 0.7056 - val_loss: 0.1759 - val_accuracy: 0.7826\n",
            "Epoch 33/200\n",
            "12/12 [==============================] - 0s 7ms/step - loss: 0.2071 - accuracy: 0.7056 - val_loss: 0.1762 - val_accuracy: 0.7826\n",
            "Epoch 34/200\n",
            "12/12 [==============================] - 0s 6ms/step - loss: 0.2072 - accuracy: 0.7056 - val_loss: 0.1755 - val_accuracy: 0.7826\n",
            "Epoch 35/200\n",
            "12/12 [==============================] - 0s 6ms/step - loss: 0.2070 - accuracy: 0.7056 - val_loss: 0.1756 - val_accuracy: 0.7826\n",
            "Epoch 36/200\n",
            "12/12 [==============================] - 0s 6ms/step - loss: 0.2069 - accuracy: 0.7056 - val_loss: 0.1759 - val_accuracy: 0.7826\n",
            "Epoch 37/200\n",
            "12/12 [==============================] - 0s 5ms/step - loss: 0.2069 - accuracy: 0.7056 - val_loss: 0.1760 - val_accuracy: 0.7826\n",
            "Epoch 38/200\n",
            "12/12 [==============================] - 0s 5ms/step - loss: 0.2069 - accuracy: 0.7056 - val_loss: 0.1760 - val_accuracy: 0.7826\n",
            "Epoch 39/200\n",
            "12/12 [==============================] - 0s 6ms/step - loss: 0.2068 - accuracy: 0.7056 - val_loss: 0.1760 - val_accuracy: 0.7826\n",
            "Epoch 40/200\n",
            "12/12 [==============================] - 0s 6ms/step - loss: 0.2068 - accuracy: 0.7056 - val_loss: 0.1760 - val_accuracy: 0.7826\n",
            "Epoch 41/200\n",
            "12/12 [==============================] - 0s 7ms/step - loss: 0.2068 - accuracy: 0.7056 - val_loss: 0.1759 - val_accuracy: 0.7826\n",
            "Epoch 42/200\n",
            "12/12 [==============================] - 0s 5ms/step - loss: 0.2070 - accuracy: 0.7056 - val_loss: 0.1764 - val_accuracy: 0.7826\n",
            "Epoch 43/200\n",
            "12/12 [==============================] - 0s 6ms/step - loss: 0.2066 - accuracy: 0.7056 - val_loss: 0.1758 - val_accuracy: 0.7826\n",
            "Epoch 44/200\n",
            "12/12 [==============================] - 0s 6ms/step - loss: 0.2066 - accuracy: 0.7056 - val_loss: 0.1755 - val_accuracy: 0.7826\n",
            "Epoch 45/200\n",
            "12/12 [==============================] - 0s 5ms/step - loss: 0.2068 - accuracy: 0.7056 - val_loss: 0.1748 - val_accuracy: 0.7826\n",
            "Epoch 46/200\n",
            "12/12 [==============================] - 0s 5ms/step - loss: 0.2066 - accuracy: 0.7056 - val_loss: 0.1748 - val_accuracy: 0.7826\n",
            "Epoch 47/200\n",
            "12/12 [==============================] - 0s 8ms/step - loss: 0.2065 - accuracy: 0.7056 - val_loss: 0.1755 - val_accuracy: 0.7826\n",
            "Epoch 48/200\n",
            "12/12 [==============================] - 0s 5ms/step - loss: 0.2065 - accuracy: 0.7056 - val_loss: 0.1757 - val_accuracy: 0.7826\n",
            "Epoch 49/200\n",
            "12/12 [==============================] - 0s 6ms/step - loss: 0.2065 - accuracy: 0.7056 - val_loss: 0.1758 - val_accuracy: 0.7826\n",
            "Epoch 50/200\n",
            "12/12 [==============================] - 0s 6ms/step - loss: 0.2064 - accuracy: 0.7056 - val_loss: 0.1756 - val_accuracy: 0.7826\n",
            "Epoch 51/200\n",
            "12/12 [==============================] - 0s 5ms/step - loss: 0.2064 - accuracy: 0.7056 - val_loss: 0.1757 - val_accuracy: 0.7826\n",
            "Epoch 52/200\n",
            "12/12 [==============================] - 0s 5ms/step - loss: 0.2063 - accuracy: 0.7056 - val_loss: 0.1753 - val_accuracy: 0.7826\n",
            "Epoch 53/200\n",
            "12/12 [==============================] - 0s 5ms/step - loss: 0.2064 - accuracy: 0.7056 - val_loss: 0.1757 - val_accuracy: 0.7826\n",
            "Epoch 54/200\n",
            "12/12 [==============================] - 0s 6ms/step - loss: 0.2062 - accuracy: 0.7056 - val_loss: 0.1755 - val_accuracy: 0.7826\n",
            "Epoch 55/200\n",
            "12/12 [==============================] - 0s 5ms/step - loss: 0.2062 - accuracy: 0.7056 - val_loss: 0.1755 - val_accuracy: 0.7826\n",
            "Epoch 56/200\n",
            "12/12 [==============================] - 0s 6ms/step - loss: 0.2061 - accuracy: 0.7056 - val_loss: 0.1754 - val_accuracy: 0.7826\n",
            "Epoch 57/200\n",
            "12/12 [==============================] - 0s 6ms/step - loss: 0.2062 - accuracy: 0.7056 - val_loss: 0.1757 - val_accuracy: 0.7826\n",
            "Epoch 58/200\n",
            "12/12 [==============================] - 0s 5ms/step - loss: 0.2060 - accuracy: 0.7056 - val_loss: 0.1755 - val_accuracy: 0.7826\n",
            "Epoch 59/200\n",
            "12/12 [==============================] - 0s 5ms/step - loss: 0.2060 - accuracy: 0.7056 - val_loss: 0.1752 - val_accuracy: 0.7826\n",
            "Epoch 60/200\n",
            "12/12 [==============================] - 0s 6ms/step - loss: 0.2060 - accuracy: 0.7056 - val_loss: 0.1750 - val_accuracy: 0.7826\n",
            "Epoch 61/200\n",
            "12/12 [==============================] - 0s 5ms/step - loss: 0.2063 - accuracy: 0.7056 - val_loss: 0.1743 - val_accuracy: 0.7826\n",
            "Epoch 62/200\n",
            "12/12 [==============================] - 0s 6ms/step - loss: 0.2059 - accuracy: 0.7056 - val_loss: 0.1747 - val_accuracy: 0.7826\n",
            "Epoch 63/200\n",
            "12/12 [==============================] - 0s 6ms/step - loss: 0.2061 - accuracy: 0.7056 - val_loss: 0.1756 - val_accuracy: 0.7826\n",
            "Epoch 64/200\n",
            "12/12 [==============================] - 0s 5ms/step - loss: 0.2058 - accuracy: 0.7056 - val_loss: 0.1753 - val_accuracy: 0.7826\n",
            "Epoch 65/200\n",
            "12/12 [==============================] - 0s 6ms/step - loss: 0.2057 - accuracy: 0.7056 - val_loss: 0.1752 - val_accuracy: 0.7826\n",
            "Epoch 66/200\n",
            "12/12 [==============================] - 0s 6ms/step - loss: 0.2058 - accuracy: 0.7056 - val_loss: 0.1753 - val_accuracy: 0.7826\n",
            "Epoch 67/200\n",
            "12/12 [==============================] - 0s 5ms/step - loss: 0.2056 - accuracy: 0.7056 - val_loss: 0.1753 - val_accuracy: 0.7826\n",
            "Epoch 68/200\n",
            "12/12 [==============================] - 0s 5ms/step - loss: 0.2056 - accuracy: 0.7056 - val_loss: 0.1755 - val_accuracy: 0.7826\n",
            "Epoch 69/200\n",
            "12/12 [==============================] - 0s 7ms/step - loss: 0.2055 - accuracy: 0.7056 - val_loss: 0.1755 - val_accuracy: 0.7826\n",
            "Epoch 70/200\n",
            "12/12 [==============================] - 0s 6ms/step - loss: 0.2055 - accuracy: 0.7056 - val_loss: 0.1758 - val_accuracy: 0.7826\n",
            "Epoch 71/200\n",
            "12/12 [==============================] - 0s 5ms/step - loss: 0.2056 - accuracy: 0.7056 - val_loss: 0.1751 - val_accuracy: 0.7826\n",
            "Epoch 72/200\n",
            "12/12 [==============================] - 0s 6ms/step - loss: 0.2055 - accuracy: 0.7056 - val_loss: 0.1753 - val_accuracy: 0.7826\n",
            "Epoch 73/200\n",
            "12/12 [==============================] - 0s 5ms/step - loss: 0.2054 - accuracy: 0.7056 - val_loss: 0.1747 - val_accuracy: 0.7826\n",
            "Epoch 74/200\n",
            "12/12 [==============================] - 0s 5ms/step - loss: 0.2053 - accuracy: 0.7056 - val_loss: 0.1747 - val_accuracy: 0.7826\n",
            "Epoch 75/200\n",
            "12/12 [==============================] - 0s 6ms/step - loss: 0.2053 - accuracy: 0.7056 - val_loss: 0.1745 - val_accuracy: 0.7826\n",
            "Epoch 76/200\n",
            "12/12 [==============================] - 0s 5ms/step - loss: 0.2053 - accuracy: 0.7056 - val_loss: 0.1751 - val_accuracy: 0.7826\n",
            "Epoch 77/200\n",
            "12/12 [==============================] - 0s 7ms/step - loss: 0.2051 - accuracy: 0.7056 - val_loss: 0.1749 - val_accuracy: 0.7826\n",
            "Epoch 78/200\n",
            "12/12 [==============================] - 0s 5ms/step - loss: 0.2051 - accuracy: 0.7056 - val_loss: 0.1747 - val_accuracy: 0.7826\n",
            "Epoch 79/200\n",
            "12/12 [==============================] - 0s 7ms/step - loss: 0.2050 - accuracy: 0.7056 - val_loss: 0.1750 - val_accuracy: 0.7826\n",
            "Epoch 80/200\n",
            "12/12 [==============================] - 0s 5ms/step - loss: 0.2050 - accuracy: 0.7056 - val_loss: 0.1752 - val_accuracy: 0.7826\n",
            "Epoch 81/200\n",
            "12/12 [==============================] - 0s 5ms/step - loss: 0.2049 - accuracy: 0.7056 - val_loss: 0.1754 - val_accuracy: 0.7826\n",
            "Epoch 82/200\n",
            "12/12 [==============================] - 0s 5ms/step - loss: 0.2050 - accuracy: 0.7056 - val_loss: 0.1755 - val_accuracy: 0.7826\n",
            "Epoch 83/200\n",
            "12/12 [==============================] - 0s 6ms/step - loss: 0.2048 - accuracy: 0.7056 - val_loss: 0.1757 - val_accuracy: 0.7826\n",
            "Epoch 84/200\n",
            "12/12 [==============================] - 0s 6ms/step - loss: 0.2048 - accuracy: 0.7056 - val_loss: 0.1756 - val_accuracy: 0.7826\n",
            "Epoch 85/200\n",
            "12/12 [==============================] - 0s 5ms/step - loss: 0.2047 - accuracy: 0.7056 - val_loss: 0.1756 - val_accuracy: 0.7826\n",
            "Epoch 86/200\n",
            "12/12 [==============================] - 0s 7ms/step - loss: 0.2047 - accuracy: 0.7056 - val_loss: 0.1748 - val_accuracy: 0.7826\n",
            "Epoch 87/200\n",
            "12/12 [==============================] - 0s 5ms/step - loss: 0.2046 - accuracy: 0.7056 - val_loss: 0.1751 - val_accuracy: 0.7826\n",
            "Epoch 88/200\n",
            "12/12 [==============================] - 0s 6ms/step - loss: 0.2045 - accuracy: 0.7056 - val_loss: 0.1750 - val_accuracy: 0.7826\n",
            "Epoch 89/200\n",
            "12/12 [==============================] - 0s 5ms/step - loss: 0.2045 - accuracy: 0.7056 - val_loss: 0.1746 - val_accuracy: 0.7826\n",
            "Epoch 90/200\n",
            "12/12 [==============================] - 0s 5ms/step - loss: 0.2044 - accuracy: 0.7056 - val_loss: 0.1746 - val_accuracy: 0.7826\n",
            "Epoch 91/200\n",
            "12/12 [==============================] - 0s 6ms/step - loss: 0.2044 - accuracy: 0.7056 - val_loss: 0.1743 - val_accuracy: 0.7826\n",
            "Epoch 92/200\n",
            "12/12 [==============================] - 0s 5ms/step - loss: 0.2043 - accuracy: 0.7056 - val_loss: 0.1748 - val_accuracy: 0.7826\n",
            "Epoch 93/200\n",
            "12/12 [==============================] - 0s 5ms/step - loss: 0.2043 - accuracy: 0.7056 - val_loss: 0.1745 - val_accuracy: 0.7826\n",
            "Epoch 94/200\n",
            "12/12 [==============================] - 0s 6ms/step - loss: 0.2041 - accuracy: 0.7056 - val_loss: 0.1747 - val_accuracy: 0.7826\n",
            "Epoch 95/200\n",
            "12/12 [==============================] - 0s 6ms/step - loss: 0.2041 - accuracy: 0.7056 - val_loss: 0.1744 - val_accuracy: 0.7826\n",
            "Epoch 96/200\n",
            "12/12 [==============================] - 0s 6ms/step - loss: 0.2040 - accuracy: 0.7056 - val_loss: 0.1746 - val_accuracy: 0.7826\n",
            "Epoch 97/200\n",
            "12/12 [==============================] - 0s 7ms/step - loss: 0.2039 - accuracy: 0.7056 - val_loss: 0.1746 - val_accuracy: 0.7826\n",
            "Epoch 98/200\n",
            "12/12 [==============================] - 0s 5ms/step - loss: 0.2038 - accuracy: 0.7056 - val_loss: 0.1745 - val_accuracy: 0.7826\n",
            "Epoch 99/200\n",
            "12/12 [==============================] - 0s 6ms/step - loss: 0.2037 - accuracy: 0.7056 - val_loss: 0.1748 - val_accuracy: 0.7913\n",
            "Epoch 100/200\n",
            "12/12 [==============================] - 0s 6ms/step - loss: 0.2037 - accuracy: 0.7056 - val_loss: 0.1748 - val_accuracy: 0.7913\n",
            "Epoch 101/200\n",
            "12/12 [==============================] - 0s 7ms/step - loss: 0.2036 - accuracy: 0.7056 - val_loss: 0.1748 - val_accuracy: 0.7913\n",
            "Epoch 102/200\n",
            "12/12 [==============================] - 0s 6ms/step - loss: 0.2036 - accuracy: 0.7056 - val_loss: 0.1748 - val_accuracy: 0.7913\n",
            "Epoch 103/200\n",
            "12/12 [==============================] - 0s 8ms/step - loss: 0.2036 - accuracy: 0.7056 - val_loss: 0.1755 - val_accuracy: 0.7913\n",
            "Epoch 104/200\n",
            "12/12 [==============================] - 0s 8ms/step - loss: 0.2035 - accuracy: 0.7056 - val_loss: 0.1749 - val_accuracy: 0.7913\n",
            "Epoch 105/200\n",
            "12/12 [==============================] - 0s 8ms/step - loss: 0.2033 - accuracy: 0.7056 - val_loss: 0.1745 - val_accuracy: 0.7913\n",
            "Epoch 106/200\n",
            "12/12 [==============================] - 0s 8ms/step - loss: 0.2033 - accuracy: 0.7056 - val_loss: 0.1745 - val_accuracy: 0.7913\n",
            "Epoch 107/200\n",
            "12/12 [==============================] - 0s 7ms/step - loss: 0.2031 - accuracy: 0.7056 - val_loss: 0.1746 - val_accuracy: 0.7913\n",
            "Epoch 108/200\n",
            "12/12 [==============================] - 0s 8ms/step - loss: 0.2031 - accuracy: 0.7056 - val_loss: 0.1747 - val_accuracy: 0.7913\n",
            "Epoch 109/200\n",
            "12/12 [==============================] - 0s 9ms/step - loss: 0.2030 - accuracy: 0.7056 - val_loss: 0.1739 - val_accuracy: 0.7913\n",
            "Epoch 110/200\n",
            "12/12 [==============================] - 0s 7ms/step - loss: 0.2030 - accuracy: 0.7056 - val_loss: 0.1738 - val_accuracy: 0.7913\n",
            "Epoch 111/200\n",
            "12/12 [==============================] - 0s 7ms/step - loss: 0.2029 - accuracy: 0.7056 - val_loss: 0.1749 - val_accuracy: 0.7913\n",
            "Epoch 112/200\n",
            "12/12 [==============================] - 0s 7ms/step - loss: 0.2027 - accuracy: 0.7056 - val_loss: 0.1749 - val_accuracy: 0.7913\n",
            "Epoch 113/200\n",
            "12/12 [==============================] - 0s 8ms/step - loss: 0.2027 - accuracy: 0.7056 - val_loss: 0.1742 - val_accuracy: 0.7913\n",
            "Epoch 114/200\n",
            "12/12 [==============================] - 0s 7ms/step - loss: 0.2025 - accuracy: 0.7056 - val_loss: 0.1749 - val_accuracy: 0.7913\n",
            "Epoch 115/200\n",
            "12/12 [==============================] - 0s 8ms/step - loss: 0.2025 - accuracy: 0.7056 - val_loss: 0.1743 - val_accuracy: 0.7913\n",
            "Epoch 116/200\n",
            "12/12 [==============================] - 0s 8ms/step - loss: 0.2024 - accuracy: 0.7056 - val_loss: 0.1741 - val_accuracy: 0.7913\n",
            "Epoch 117/200\n",
            "12/12 [==============================] - 0s 7ms/step - loss: 0.2022 - accuracy: 0.7056 - val_loss: 0.1750 - val_accuracy: 0.7913\n",
            "Epoch 118/200\n",
            "12/12 [==============================] - 0s 8ms/step - loss: 0.2021 - accuracy: 0.7056 - val_loss: 0.1749 - val_accuracy: 0.7913\n",
            "Epoch 119/200\n",
            "12/12 [==============================] - 0s 8ms/step - loss: 0.2020 - accuracy: 0.7056 - val_loss: 0.1750 - val_accuracy: 0.7913\n",
            "Epoch 120/200\n",
            "12/12 [==============================] - 0s 8ms/step - loss: 0.2020 - accuracy: 0.7056 - val_loss: 0.1753 - val_accuracy: 0.7913\n",
            "Epoch 121/200\n",
            "12/12 [==============================] - 0s 7ms/step - loss: 0.2018 - accuracy: 0.7056 - val_loss: 0.1748 - val_accuracy: 0.7913\n",
            "Epoch 122/200\n",
            "12/12 [==============================] - 0s 8ms/step - loss: 0.2017 - accuracy: 0.7056 - val_loss: 0.1742 - val_accuracy: 0.7913\n",
            "Epoch 123/200\n",
            "12/12 [==============================] - 0s 7ms/step - loss: 0.2016 - accuracy: 0.7056 - val_loss: 0.1741 - val_accuracy: 0.7913\n",
            "Epoch 124/200\n",
            "12/12 [==============================] - 0s 7ms/step - loss: 0.2015 - accuracy: 0.7056 - val_loss: 0.1744 - val_accuracy: 0.7913\n",
            "Epoch 125/200\n",
            "12/12 [==============================] - 0s 8ms/step - loss: 0.2014 - accuracy: 0.7056 - val_loss: 0.1748 - val_accuracy: 0.7913\n",
            "Epoch 126/200\n",
            "12/12 [==============================] - 0s 8ms/step - loss: 0.2013 - accuracy: 0.7056 - val_loss: 0.1742 - val_accuracy: 0.7913\n",
            "Epoch 127/200\n",
            "12/12 [==============================] - 0s 8ms/step - loss: 0.2011 - accuracy: 0.7056 - val_loss: 0.1745 - val_accuracy: 0.7913\n",
            "Epoch 128/200\n",
            "12/12 [==============================] - 0s 9ms/step - loss: 0.2011 - accuracy: 0.7056 - val_loss: 0.1747 - val_accuracy: 0.7913\n",
            "Epoch 129/200\n",
            "12/12 [==============================] - 0s 7ms/step - loss: 0.2009 - accuracy: 0.7056 - val_loss: 0.1742 - val_accuracy: 0.7913\n",
            "Epoch 130/200\n",
            "12/12 [==============================] - 0s 8ms/step - loss: 0.2008 - accuracy: 0.7056 - val_loss: 0.1744 - val_accuracy: 0.7913\n",
            "Epoch 131/200\n",
            "12/12 [==============================] - 0s 9ms/step - loss: 0.2007 - accuracy: 0.7056 - val_loss: 0.1749 - val_accuracy: 0.7913\n",
            "Epoch 132/200\n",
            "12/12 [==============================] - 0s 9ms/step - loss: 0.2006 - accuracy: 0.7056 - val_loss: 0.1751 - val_accuracy: 0.7913\n",
            "Epoch 133/200\n",
            "12/12 [==============================] - 0s 8ms/step - loss: 0.2005 - accuracy: 0.7056 - val_loss: 0.1744 - val_accuracy: 0.7913\n",
            "Epoch 134/200\n",
            "12/12 [==============================] - 0s 8ms/step - loss: 0.2004 - accuracy: 0.7056 - val_loss: 0.1751 - val_accuracy: 0.7913\n",
            "Epoch 135/200\n",
            "12/12 [==============================] - 0s 9ms/step - loss: 0.2003 - accuracy: 0.7056 - val_loss: 0.1752 - val_accuracy: 0.7913\n",
            "Epoch 136/200\n",
            "12/12 [==============================] - 0s 7ms/step - loss: 0.2001 - accuracy: 0.7056 - val_loss: 0.1746 - val_accuracy: 0.7913\n",
            "Epoch 137/200\n",
            "12/12 [==============================] - 0s 6ms/step - loss: 0.2001 - accuracy: 0.7056 - val_loss: 0.1740 - val_accuracy: 0.7913\n",
            "Epoch 138/200\n",
            "12/12 [==============================] - 0s 5ms/step - loss: 0.2001 - accuracy: 0.7056 - val_loss: 0.1737 - val_accuracy: 0.7913\n",
            "Epoch 139/200\n",
            "12/12 [==============================] - 0s 6ms/step - loss: 0.1996 - accuracy: 0.7056 - val_loss: 0.1749 - val_accuracy: 0.7913\n",
            "Epoch 140/200\n",
            "12/12 [==============================] - 0s 6ms/step - loss: 0.1996 - accuracy: 0.7056 - val_loss: 0.1749 - val_accuracy: 0.7913\n",
            "Epoch 141/200\n",
            "12/12 [==============================] - 0s 5ms/step - loss: 0.1995 - accuracy: 0.7056 - val_loss: 0.1751 - val_accuracy: 0.7913\n",
            "Epoch 142/200\n",
            "12/12 [==============================] - 0s 7ms/step - loss: 0.1994 - accuracy: 0.7056 - val_loss: 0.1751 - val_accuracy: 0.7913\n",
            "Epoch 143/200\n",
            "12/12 [==============================] - 0s 5ms/step - loss: 0.1991 - accuracy: 0.7056 - val_loss: 0.1745 - val_accuracy: 0.7913\n",
            "Epoch 144/200\n",
            "12/12 [==============================] - 0s 6ms/step - loss: 0.1992 - accuracy: 0.7056 - val_loss: 0.1736 - val_accuracy: 0.7913\n",
            "Epoch 145/200\n",
            "12/12 [==============================] - 0s 6ms/step - loss: 0.1990 - accuracy: 0.7056 - val_loss: 0.1739 - val_accuracy: 0.7913\n",
            "Epoch 146/200\n",
            "12/12 [==============================] - 0s 6ms/step - loss: 0.1989 - accuracy: 0.7056 - val_loss: 0.1740 - val_accuracy: 0.7913\n",
            "Epoch 147/200\n",
            "12/12 [==============================] - 0s 5ms/step - loss: 0.1987 - accuracy: 0.7056 - val_loss: 0.1742 - val_accuracy: 0.7913\n",
            "Epoch 148/200\n",
            "12/12 [==============================] - 0s 5ms/step - loss: 0.1986 - accuracy: 0.7056 - val_loss: 0.1738 - val_accuracy: 0.7913\n",
            "Epoch 149/200\n",
            "12/12 [==============================] - 0s 6ms/step - loss: 0.1985 - accuracy: 0.7056 - val_loss: 0.1734 - val_accuracy: 0.7913\n",
            "Epoch 150/200\n",
            "12/12 [==============================] - 0s 5ms/step - loss: 0.1984 - accuracy: 0.7056 - val_loss: 0.1731 - val_accuracy: 0.7913\n",
            "Epoch 151/200\n",
            "12/12 [==============================] - 0s 5ms/step - loss: 0.1983 - accuracy: 0.7056 - val_loss: 0.1738 - val_accuracy: 0.7913\n",
            "Epoch 152/200\n",
            "12/12 [==============================] - 0s 5ms/step - loss: 0.1982 - accuracy: 0.7056 - val_loss: 0.1733 - val_accuracy: 0.7913\n",
            "Epoch 153/200\n",
            "12/12 [==============================] - 0s 5ms/step - loss: 0.1979 - accuracy: 0.7056 - val_loss: 0.1740 - val_accuracy: 0.7913\n",
            "Epoch 154/200\n",
            "12/12 [==============================] - 0s 5ms/step - loss: 0.1980 - accuracy: 0.7056 - val_loss: 0.1748 - val_accuracy: 0.7913\n",
            "Epoch 155/200\n",
            "12/12 [==============================] - 0s 6ms/step - loss: 0.1978 - accuracy: 0.7056 - val_loss: 0.1743 - val_accuracy: 0.7913\n",
            "Epoch 156/200\n",
            "12/12 [==============================] - 0s 7ms/step - loss: 0.1976 - accuracy: 0.7056 - val_loss: 0.1746 - val_accuracy: 0.7913\n",
            "Epoch 157/200\n",
            "12/12 [==============================] - 0s 5ms/step - loss: 0.1975 - accuracy: 0.7056 - val_loss: 0.1747 - val_accuracy: 0.7913\n",
            "Epoch 158/200\n",
            "12/12 [==============================] - 0s 5ms/step - loss: 0.1974 - accuracy: 0.7056 - val_loss: 0.1741 - val_accuracy: 0.7913\n",
            "Epoch 159/200\n",
            "12/12 [==============================] - 0s 5ms/step - loss: 0.1973 - accuracy: 0.7056 - val_loss: 0.1730 - val_accuracy: 0.7913\n",
            "Epoch 160/200\n",
            "12/12 [==============================] - 0s 6ms/step - loss: 0.1973 - accuracy: 0.7056 - val_loss: 0.1747 - val_accuracy: 0.7913\n",
            "Epoch 161/200\n",
            "12/12 [==============================] - 0s 6ms/step - loss: 0.1971 - accuracy: 0.7056 - val_loss: 0.1737 - val_accuracy: 0.7913\n",
            "Epoch 162/200\n",
            "12/12 [==============================] - 0s 6ms/step - loss: 0.1969 - accuracy: 0.7056 - val_loss: 0.1743 - val_accuracy: 0.7913\n",
            "Epoch 163/200\n",
            "12/12 [==============================] - 0s 5ms/step - loss: 0.1968 - accuracy: 0.7056 - val_loss: 0.1737 - val_accuracy: 0.7913\n",
            "Epoch 164/200\n",
            "12/12 [==============================] - 0s 5ms/step - loss: 0.1965 - accuracy: 0.7056 - val_loss: 0.1750 - val_accuracy: 0.7913\n",
            "Epoch 165/200\n",
            "12/12 [==============================] - 0s 5ms/step - loss: 0.1965 - accuracy: 0.7056 - val_loss: 0.1755 - val_accuracy: 0.7913\n",
            "Epoch 166/200\n",
            "12/12 [==============================] - 0s 5ms/step - loss: 0.1963 - accuracy: 0.7056 - val_loss: 0.1746 - val_accuracy: 0.7913\n",
            "Epoch 167/200\n",
            "12/12 [==============================] - 0s 6ms/step - loss: 0.1962 - accuracy: 0.7056 - val_loss: 0.1751 - val_accuracy: 0.8000\n",
            "Epoch 168/200\n",
            "12/12 [==============================] - 0s 6ms/step - loss: 0.1960 - accuracy: 0.7056 - val_loss: 0.1739 - val_accuracy: 0.7913\n",
            "Epoch 169/200\n",
            "12/12 [==============================] - 0s 7ms/step - loss: 0.1965 - accuracy: 0.7056 - val_loss: 0.1720 - val_accuracy: 0.7913\n",
            "Epoch 170/200\n",
            "12/12 [==============================] - 0s 7ms/step - loss: 0.1957 - accuracy: 0.7056 - val_loss: 0.1735 - val_accuracy: 0.7913\n",
            "Epoch 171/200\n",
            "12/12 [==============================] - 0s 6ms/step - loss: 0.1957 - accuracy: 0.7056 - val_loss: 0.1750 - val_accuracy: 0.8000\n",
            "Epoch 172/200\n",
            "12/12 [==============================] - 0s 5ms/step - loss: 0.1958 - accuracy: 0.7056 - val_loss: 0.1765 - val_accuracy: 0.8000\n",
            "Epoch 173/200\n",
            "12/12 [==============================] - 0s 5ms/step - loss: 0.1955 - accuracy: 0.7056 - val_loss: 0.1747 - val_accuracy: 0.8000\n",
            "Epoch 174/200\n",
            "12/12 [==============================] - 0s 6ms/step - loss: 0.1954 - accuracy: 0.7056 - val_loss: 0.1748 - val_accuracy: 0.8000\n",
            "Epoch 175/200\n",
            "12/12 [==============================] - 0s 7ms/step - loss: 0.1952 - accuracy: 0.7056 - val_loss: 0.1729 - val_accuracy: 0.8000\n",
            "Epoch 176/200\n",
            "12/12 [==============================] - 0s 6ms/step - loss: 0.1955 - accuracy: 0.7056 - val_loss: 0.1750 - val_accuracy: 0.8000\n",
            "Epoch 177/200\n",
            "12/12 [==============================] - 0s 5ms/step - loss: 0.1948 - accuracy: 0.7056 - val_loss: 0.1743 - val_accuracy: 0.8000\n",
            "Epoch 178/200\n",
            "12/12 [==============================] - 0s 6ms/step - loss: 0.1946 - accuracy: 0.7056 - val_loss: 0.1741 - val_accuracy: 0.8000\n",
            "Epoch 179/200\n",
            "12/12 [==============================] - 0s 6ms/step - loss: 0.1946 - accuracy: 0.7056 - val_loss: 0.1746 - val_accuracy: 0.8000\n",
            "Epoch 180/200\n",
            "12/12 [==============================] - 0s 6ms/step - loss: 0.1944 - accuracy: 0.7056 - val_loss: 0.1746 - val_accuracy: 0.8000\n",
            "Epoch 181/200\n",
            "12/12 [==============================] - 0s 6ms/step - loss: 0.1946 - accuracy: 0.7056 - val_loss: 0.1728 - val_accuracy: 0.8000\n",
            "Epoch 182/200\n",
            "12/12 [==============================] - 0s 6ms/step - loss: 0.1945 - accuracy: 0.7056 - val_loss: 0.1751 - val_accuracy: 0.8000\n",
            "Epoch 183/200\n",
            "12/12 [==============================] - 0s 6ms/step - loss: 0.1940 - accuracy: 0.7056 - val_loss: 0.1740 - val_accuracy: 0.8000\n",
            "Epoch 184/200\n",
            "12/12 [==============================] - 0s 6ms/step - loss: 0.1941 - accuracy: 0.7056 - val_loss: 0.1733 - val_accuracy: 0.8000\n",
            "Epoch 185/200\n",
            "12/12 [==============================] - 0s 6ms/step - loss: 0.1937 - accuracy: 0.7056 - val_loss: 0.1737 - val_accuracy: 0.8000\n",
            "Epoch 186/200\n",
            "12/12 [==============================] - 0s 6ms/step - loss: 0.1936 - accuracy: 0.7056 - val_loss: 0.1741 - val_accuracy: 0.8000\n",
            "Epoch 187/200\n",
            "12/12 [==============================] - 0s 5ms/step - loss: 0.1936 - accuracy: 0.7056 - val_loss: 0.1741 - val_accuracy: 0.8000\n",
            "Epoch 188/200\n",
            "12/12 [==============================] - 0s 7ms/step - loss: 0.1937 - accuracy: 0.7056 - val_loss: 0.1750 - val_accuracy: 0.8000\n",
            "Epoch 189/200\n",
            "12/12 [==============================] - 0s 6ms/step - loss: 0.1932 - accuracy: 0.7100 - val_loss: 0.1738 - val_accuracy: 0.8000\n",
            "Epoch 190/200\n",
            "12/12 [==============================] - 0s 6ms/step - loss: 0.1931 - accuracy: 0.7100 - val_loss: 0.1738 - val_accuracy: 0.8000\n",
            "Epoch 191/200\n",
            "12/12 [==============================] - 0s 5ms/step - loss: 0.1933 - accuracy: 0.7100 - val_loss: 0.1748 - val_accuracy: 0.8000\n",
            "Epoch 192/200\n",
            "12/12 [==============================] - 0s 5ms/step - loss: 0.1936 - accuracy: 0.7056 - val_loss: 0.1723 - val_accuracy: 0.8000\n",
            "Epoch 193/200\n",
            "12/12 [==============================] - 0s 5ms/step - loss: 0.1928 - accuracy: 0.7056 - val_loss: 0.1724 - val_accuracy: 0.8000\n",
            "Epoch 194/200\n",
            "12/12 [==============================] - 0s 6ms/step - loss: 0.1927 - accuracy: 0.7100 - val_loss: 0.1753 - val_accuracy: 0.8000\n",
            "Epoch 195/200\n",
            "12/12 [==============================] - 0s 5ms/step - loss: 0.1927 - accuracy: 0.7100 - val_loss: 0.1743 - val_accuracy: 0.8000\n",
            "Epoch 196/200\n",
            "12/12 [==============================] - 0s 5ms/step - loss: 0.1924 - accuracy: 0.7100 - val_loss: 0.1737 - val_accuracy: 0.8000\n",
            "Epoch 197/200\n",
            "12/12 [==============================] - 0s 7ms/step - loss: 0.1928 - accuracy: 0.7100 - val_loss: 0.1759 - val_accuracy: 0.8087\n",
            "Epoch 198/200\n",
            "12/12 [==============================] - 0s 5ms/step - loss: 0.1923 - accuracy: 0.7100 - val_loss: 0.1735 - val_accuracy: 0.8000\n",
            "Epoch 199/200\n",
            "12/12 [==============================] - 0s 5ms/step - loss: 0.1921 - accuracy: 0.7100 - val_loss: 0.1740 - val_accuracy: 0.8000\n",
            "Epoch 200/200\n",
            "12/12 [==============================] - 0s 5ms/step - loss: 0.1917 - accuracy: 0.7100 - val_loss: 0.1718 - val_accuracy: 0.8000\n"
          ]
        }
      ]
    },
    {
      "cell_type": "code",
      "source": [
        "history.history.keys()"
      ],
      "metadata": {
        "colab": {
          "base_uri": "https://localhost:8080/"
        },
        "id": "s4afSLx_BitV",
        "outputId": "8f8d260e-330b-4549-a61f-1f1384454e4d"
      },
      "execution_count": 28,
      "outputs": [
        {
          "output_type": "execute_result",
          "data": {
            "text/plain": [
              "dict_keys(['loss', 'accuracy', 'val_loss', 'val_accuracy'])"
            ]
          },
          "metadata": {},
          "execution_count": 28
        }
      ]
    },
    {
      "cell_type": "code",
      "source": [
        "score=model.evaluate(x_train,y_train)"
      ],
      "metadata": {
        "colab": {
          "base_uri": "https://localhost:8080/"
        },
        "id": "Amjxfgy9NOyx",
        "outputId": "c72ac461-b486-4bf4-e09c-38cc858fcb55"
      },
      "execution_count": 29,
      "outputs": [
        {
          "output_type": "stream",
          "name": "stdout",
          "text": [
            "11/11 [==============================] - 0s 2ms/step - loss: 0.1851 - accuracy: 0.7399\n"
          ]
        }
      ]
    },
    {
      "cell_type": "code",
      "source": [
        "score=model.evaluate(x_test,y_test)"
      ],
      "metadata": {
        "colab": {
          "base_uri": "https://localhost:8080/"
        },
        "id": "5Anqgzh8KhAv",
        "outputId": "858fa516-9622-45d6-b4e7-8ed53a73df46"
      },
      "execution_count": 30,
      "outputs": [
        {
          "output_type": "stream",
          "name": "stdout",
          "text": [
            "6/6 [==============================] - 0s 3ms/step - loss: 0.3172 - accuracy: 0.4386\n"
          ]
        }
      ]
    },
    {
      "cell_type": "code",
      "source": [
        "y_pred=np.where(model.predict(x_test)>0.9,1,0)"
      ],
      "metadata": {
        "colab": {
          "base_uri": "https://localhost:8080/"
        },
        "id": "GfAjvoIQMqjj",
        "outputId": "438b2d48-1805-4809-c252-875ed2be10c8"
      },
      "execution_count": 31,
      "outputs": [
        {
          "output_type": "stream",
          "name": "stdout",
          "text": [
            "6/6 [==============================] - 0s 2ms/step\n"
          ]
        }
      ]
    },
    {
      "cell_type": "code",
      "source": [
        "print(classification_report(y_test,y_pred))\n"
      ],
      "metadata": {
        "colab": {
          "base_uri": "https://localhost:8080/"
        },
        "id": "vym0wtPXMweB",
        "outputId": "c91df8af-0e41-4fac-df5e-9f083336d3b2"
      },
      "execution_count": 32,
      "outputs": [
        {
          "output_type": "stream",
          "name": "stdout",
          "text": [
            "              precision    recall  f1-score   support\n",
            "\n",
            "           0       0.73      1.00      0.84       125\n",
            "           1       0.00      0.00      0.00        46\n",
            "\n",
            "    accuracy                           0.73       171\n",
            "   macro avg       0.37      0.50      0.42       171\n",
            "weighted avg       0.53      0.73      0.62       171\n",
            "\n"
          ]
        }
      ]
    },
    {
      "cell_type": "code",
      "source": [
        "confusion_matrix(y_test,y_pred)"
      ],
      "metadata": {
        "colab": {
          "base_uri": "https://localhost:8080/"
        },
        "id": "Jet2EvaENhqj",
        "outputId": "7b8af351-4571-472e-82b1-23892102b784"
      },
      "execution_count": 33,
      "outputs": [
        {
          "output_type": "execute_result",
          "data": {
            "text/plain": [
              "array([[125,   0],\n",
              "       [ 46,   0]])"
            ]
          },
          "metadata": {},
          "execution_count": 33
        }
      ]
    },
    {
      "cell_type": "code",
      "source": [
        "score"
      ],
      "metadata": {
        "colab": {
          "base_uri": "https://localhost:8080/"
        },
        "id": "cclP5x7RCLv0",
        "outputId": "09e43342-eb44-41e5-81a9-46765aa1aaf6"
      },
      "execution_count": 34,
      "outputs": [
        {
          "output_type": "execute_result",
          "data": {
            "text/plain": [
              "[0.317159503698349, 0.4385964870452881]"
            ]
          },
          "metadata": {},
          "execution_count": 34
        }
      ]
    },
    {
      "cell_type": "code",
      "source": [
        "plt.plot(history.history['accuracy'])\n",
        "plt.plot(history.history['val_accuracy'])\n",
        "plt.title('model accuracy')\n",
        "plt.ylabel('accuracy')\n",
        "plt.xlabel('epoch')\n",
        "plt.legend(['train', 'test'], loc='upper left')\n",
        "plt.show()\n",
        "\n",
        "plt.plot(history.history['loss'])\n",
        "plt.plot(history.history['val_loss'])\n",
        "plt.title('model loss')\n",
        "plt.ylabel('loss')\n",
        "plt.xlabel('epoch')\n",
        "plt.legend(['train', 'test'], loc='upper left')\n",
        "plt.show()"
      ],
      "metadata": {
        "colab": {
          "base_uri": "https://localhost:8080/",
          "height": 927
        },
        "id": "Riy3BboDCP2V",
        "outputId": "a445d1af-1499-4352-bfc7-ca2b9ea3c539"
      },
      "execution_count": 35,
      "outputs": [
        {
          "output_type": "display_data",
          "data": {
            "text/plain": [
              "<Figure size 640x480 with 1 Axes>"
            ],
            "image/png": "[encoded data removed]"
          },
          "metadata": {}
        },
        {
          "output_type": "display_data",
          "data": {
            "text/plain": [
              "<Figure size 640x480 with 1 Axes>"
            ],
            "image/png": "[encoded data removed]"
          },
          "metadata": {}
        }
      ]
    },
    {
      "cell_type": "markdown",
      "source": [
        "train=80 and test =90 which is not an good model lets tune the hyper parameter"
      ],
      "metadata": {
        "id": "35h7xTMKPH2q"
      }
    },
    {
      "cell_type": "markdown",
      "source": [
        "HYPER parameter tuning"
      ],
      "metadata": {
        "id": "4bc3ep8jdxlD"
      }
    },
    {
      "cell_type": "code",
      "source": [
        "forest2.head()"
      ],
      "metadata": {
        "colab": {
          "base_uri": "https://localhost:8080/",
          "height": 206
        },
        "id": "yVqy4T3t69aj",
        "outputId": "53b383f9-78c9-42db-f2dc-1f881136a61f"
      },
      "execution_count": 72,
      "outputs": [
        {
          "output_type": "execute_result",
          "data": {
            "text/plain": [
              "   month  day  FFMC   DMC     DC  ISI  temp  RH  wind  rain  area  \\\n",
              "0      7    0  86.2  26.2   94.3  5.1   8.2  51   6.7   0.0   0.0   \n",
              "1     10    5  90.6  35.4  669.1  6.7  18.0  33   0.9   0.0   0.0   \n",
              "2     10    2  90.6  43.7  686.9  6.7  14.6  33   1.3   0.0   0.0   \n",
              "3      7    0  91.7  33.3   77.5  9.0   8.3  97   4.0   0.2   0.0   \n",
              "4      7    3  89.3  51.3  102.2  9.6  11.4  99   1.8   0.0   0.0   \n",
              "\n",
              "   size_category  \n",
              "0              0  \n",
              "1              0  \n",
              "2              0  \n",
              "3              0  \n",
              "4              0  "
            ],
            "text/html": [
              "\n",
              "  <div id=\"df-6b99852e-99a1-4097-aad9-439c88c703b3\">\n",
              "    <div class=\"colab-df-container\">\n",
              "      <div>\n",
              "<style scoped>\n",
              "    .dataframe tbody tr th:only-of-type {\n",
              "        vertical-align: middle;\n",
              "    }\n",
              "\n",
              "    .dataframe tbody tr th {\n",
              "        vertical-align: top;\n",
              "    }\n",
              "\n",
              "    .dataframe thead th {\n",
              "        text-align: right;\n",
              "    }\n",
              "</style>\n",
              "<table border=\"1\" class=\"dataframe\">\n",
              "  <thead>\n",
              "    <tr style=\"text-align: right;\">\n",
              "      <th></th>\n",
              "      <th>month</th>\n",
              "      <th>day</th>\n",
              "      <th>FFMC</th>\n",
              "      <th>DMC</th>\n",
              "      <th>DC</th>\n",
              "      <th>ISI</th>\n",
              "      <th>temp</th>\n",
              "      <th>RH</th>\n",
              "      <th>wind</th>\n",
              "      <th>rain</th>\n",
              "      <th>area</th>\n",
              "      <th>size_category</th>\n",
              "    </tr>\n",
              "  </thead>\n",
              "  <tbody>\n",
              "    <tr>\n",
              "      <th>0</th>\n",
              "      <td>7</td>\n",
              "      <td>0</td>\n",
              "      <td>86.2</td>\n",
              "      <td>26.2</td>\n",
              "      <td>94.3</td>\n",
              "      <td>5.1</td>\n",
              "      <td>8.2</td>\n",
              "      <td>51</td>\n",
              "      <td>6.7</td>\n",
              "      <td>0.0</td>\n",
              "      <td>0.0</td>\n",
              "      <td>0</td>\n",
              "    </tr>\n",
              "    <tr>\n",
              "      <th>1</th>\n",
              "      <td>10</td>\n",
              "      <td>5</td>\n",
              "      <td>90.6</td>\n",
              "      <td>35.4</td>\n",
              "      <td>669.1</td>\n",
              "      <td>6.7</td>\n",
              "      <td>18.0</td>\n",
              "      <td>33</td>\n",
              "      <td>0.9</td>\n",
              "      <td>0.0</td>\n",
              "      <td>0.0</td>\n",
              "      <td>0</td>\n",
              "    </tr>\n",
              "    <tr>\n",
              "      <th>2</th>\n",
              "      <td>10</td>\n",
              "      <td>2</td>\n",
              "      <td>90.6</td>\n",
              "      <td>43.7</td>\n",
              "      <td>686.9</td>\n",
              "      <td>6.7</td>\n",
              "      <td>14.6</td>\n",
              "      <td>33</td>\n",
              "      <td>1.3</td>\n",
              "      <td>0.0</td>\n",
              "      <td>0.0</td>\n",
              "      <td>0</td>\n",
              "    </tr>\n",
              "    <tr>\n",
              "      <th>3</th>\n",
              "      <td>7</td>\n",
              "      <td>0</td>\n",
              "      <td>91.7</td>\n",
              "      <td>33.3</td>\n",
              "      <td>77.5</td>\n",
              "      <td>9.0</td>\n",
              "      <td>8.3</td>\n",
              "      <td>97</td>\n",
              "      <td>4.0</td>\n",
              "      <td>0.2</td>\n",
              "      <td>0.0</td>\n",
              "      <td>0</td>\n",
              "    </tr>\n",
              "    <tr>\n",
              "      <th>4</th>\n",
              "      <td>7</td>\n",
              "      <td>3</td>\n",
              "      <td>89.3</td>\n",
              "      <td>51.3</td>\n",
              "      <td>102.2</td>\n",
              "      <td>9.6</td>\n",
              "      <td>11.4</td>\n",
              "      <td>99</td>\n",
              "      <td>1.8</td>\n",
              "      <td>0.0</td>\n",
              "      <td>0.0</td>\n",
              "      <td>0</td>\n",
              "    </tr>\n",
              "  </tbody>\n",
              "</table>\n",
              "</div>\n",
              "      <button class=\"colab-df-convert\" onclick=\"convertToInteractive('df-6b99852e-99a1-4097-aad9-439c88c703b3')\"\n",
              "              title=\"Convert this dataframe to an interactive table.\"\n",
              "              style=\"display:none;\">\n",
              "        \n",
              "  <svg xmlns=\"http://www.w3.org/2000/svg\" height=\"24px\"viewBox=\"0 0 24 24\"\n",
              "       width=\"24px\">\n",
              "    <path d=\"M0 0h24v24H0V0z\" fill=\"none\"/>\n",
              "    <path d=\"M18.56 5.44l.94 2.06.94-2.06 2.06-.94-2.06-.94-.94-2.06-.94 2.06-2.06.94zm-11 1L8.5 8.5l.94-2.06 2.06-.94-2.06-.94L8.5 2.5l-.94 2.06-2.06.94zm10 10l.94 2.06.94-2.06 2.06-.94-2.06-.94-.94-2.06-.94 2.06-2.06.94z\"/><path d=\"M17.41 7.96l-1.37-1.37c-.4-.4-.92-.59-1.43-.59-.52 0-1.04.2-1.43.59L10.3 9.45l-7.72 7.72c-.78.78-.78 2.05 0 2.83L4 21.41c.39.39.9.59 1.41.59.51 0 1.02-.2 1.41-.59l7.78-7.78 2.81-2.81c.8-.78.8-2.07 0-2.86zM5.41 20L4 18.59l7.72-7.72 1.47 1.35L5.41 20z\"/>\n",
              "  </svg>\n",
              "      </button>\n",
              "      \n",
              "  <style>\n",
              "    .colab-df-container {\n",
              "      display:flex;\n",
              "      flex-wrap:wrap;\n",
              "      gap: 12px;\n",
              "    }\n",
              "\n",
              "    .colab-df-convert {\n",
              "      background-color: #E8F0FE;\n",
              "      border: none;\n",
              "      border-radius: 50%;\n",
              "      cursor: pointer;\n",
              "      display: none;\n",
              "      fill: #1967D2;\n",
              "      height: 32px;\n",
              "      padding: 0 0 0 0;\n",
              "      width: 32px;\n",
              "    }\n",
              "\n",
              "    .colab-df-convert:hover {\n",
              "      background-color: #E2EBFA;\n",
              "      box-shadow: 0px 1px 2px rgba(60, 64, 67, 0.3), 0px 1px 3px 1px rgba(60, 64, 67, 0.15);\n",
              "      fill: #174EA6;\n",
              "    }\n",
              "\n",
              "    [theme=dark] .colab-df-convert {\n",
              "      background-color: #3B4455;\n",
              "      fill: #D2E3FC;\n",
              "    }\n",
              "\n",
              "    [theme=dark] .colab-df-convert:hover {\n",
              "      background-color: #434B5C;\n",
              "      box-shadow: 0px 1px 3px 1px rgba(0, 0, 0, 0.15);\n",
              "      filter: drop-shadow(0px 1px 2px rgba(0, 0, 0, 0.3));\n",
              "      fill: #FFFFFF;\n",
              "    }\n",
              "  </style>\n",
              "\n",
              "      <script>\n",
              "        const buttonEl =\n",
              "          document.querySelector('#df-6b99852e-99a1-4097-aad9-439c88c703b3 button.colab-df-convert');\n",
              "        buttonEl.style.display =\n",
              "          google.colab.kernel.accessAllowed ? 'block' : 'none';\n",
              "\n",
              "        async function convertToInteractive(key) {\n",
              "          const element = document.querySelector('#df-6b99852e-99a1-4097-aad9-439c88c703b3');\n",
              "          const dataTable =\n",
              "            await google.colab.kernel.invokeFunction('convertToInteractive',\n",
              "                                                     [key], {});\n",
              "          if (!dataTable) return;\n",
              "\n",
              "          const docLinkHtml = 'Like what you see? Visit the ' +\n",
              "            '<a target=\"_blank\" href=https://colab.research.google.com/notebooks/data_table.ipynb>data table notebook</a>'\n",
              "            + ' to learn more about interactive tables.';\n",
              "          element.innerHTML = '';\n",
              "          dataTable['output_type'] = 'display_data';\n",
              "          await google.colab.output.renderOutput(dataTable, element);\n",
              "          const docLink = document.createElement('div');\n",
              "          docLink.innerHTML = docLinkHtml;\n",
              "          element.appendChild(docLink);\n",
              "        }\n",
              "      </script>\n",
              "    </div>\n",
              "  </div>\n",
              "  "
            ]
          },
          "metadata": {},
          "execution_count": 72
        }
      ]
    },
    {
      "cell_type": "code",
      "source": [
        "y=forest2[['size_category']]\n",
        "x=forest2.drop('size_category',axis=1)\n",
        "x.shape\n"
      ],
      "metadata": {
        "colab": {
          "base_uri": "https://localhost:8080/"
        },
        "id": "jti5m6kRmlkI",
        "outputId": "d55d875f-989f-4c07-f342-abc475f5d650"
      },
      "execution_count": 36,
      "outputs": [
        {
          "output_type": "execute_result",
          "data": {
            "text/plain": [
              "(517, 11)"
            ]
          },
          "metadata": {},
          "execution_count": 36
        }
      ]
    },
    {
      "cell_type": "code",
      "source": [
        "#x_train,x_test,y_train,y_test=train_test_split(x,y,stratify=y,test_size=0.33,random_state=42)\n",
        "sc=StandardScaler()\n",
        "xtran=sc.fit_transform(x)\n",
        "ytran=sc.fit_transform(y)\n",
        "xtran"
      ],
      "metadata": {
        "colab": {
          "base_uri": "https://localhost:8080/"
        },
        "id": "PShL1tOjg5v7",
        "outputId": "77b807f3-2727-4c47-8837-668757733d7f"
      },
      "execution_count": 79,
      "outputs": [
        {
          "output_type": "execute_result",
          "data": {
            "text/plain": [
              "(517, 1)"
            ]
          },
          "metadata": {},
          "execution_count": 79
        }
      ]
    },
    {
      "cell_type": "code",
      "source": [
        "def create_model():\n",
        "  model_new=Sequential()\n",
        "  model_new.add(Dense(11,input_dim=11,kernel_initializer='normal',activation='relu'))\n",
        "  model_new.add(Dense(8,kernel_initializer='normal',activation='relu'))\n",
        "  model_new.add(Dense(units=1,kernel_initializer='normal',activation='sigmoid'))\n",
        "\n",
        "\n",
        "  adam=Adam(learning_rate=0.001)\n",
        "  model_new.compile(loss='mean_squared_error',optimizer=adam,metrics=['accuracy'])\n",
        "  return model_new;"
      ],
      "metadata": {
        "id": "reeaxBb0I9Ab"
      },
      "execution_count": 38,
      "outputs": []
    },
    {
      "cell_type": "code",
      "source": [
        "model_test=KerasClassifier(build_fn=create_model,verbose=0)\n",
        "batch_size = [10,20,40]\n",
        "epochs = [10,50,100,150]\n",
        "param_grid=dict(batch_size=batch_size,epochs=epochs)\n",
        "grid=GridSearchCV(estimator=model_test,param_grid=param_grid,cv=KFold(),verbose=10)\n",
        "grid_result=grid.fit(xtran,ytran)"
      ],
      "metadata": {
        "colab": {
          "base_uri": "https://localhost:8080/"
        },
        "id": "d6tyQHqAJbS7",
        "outputId": "f2d3020b-e8d0-4e3b-f9cd-89a5d0090097"
      },
      "execution_count": 39,
      "outputs": [
        {
          "output_type": "stream",
          "name": "stdout",
          "text": [
            "Fitting 5 folds for each of 12 candidates, totalling 60 fits\n",
            "[CV 1/5; 1/12] START batch_size=10, epochs=10...................................\n",
            "[CV 1/5; 1/12] END ....batch_size=10, epochs=10;, score=1.000 total time=   1.4s\n",
            "[CV 2/5; 1/12] START batch_size=10, epochs=10...................................\n",
            "[CV 2/5; 1/12] END ....batch_size=10, epochs=10;, score=0.750 total time=   2.0s\n",
            "[CV 3/5; 1/12] START batch_size=10, epochs=10...................................\n",
            "[CV 3/5; 1/12] END ....batch_size=10, epochs=10;, score=0.660 total time=   2.1s\n",
            "[CV 4/5; 1/12] START batch_size=10, epochs=10...................................\n",
            "[CV 4/5; 1/12] END ....batch_size=10, epochs=10;, score=0.699 total time=   1.9s\n",
            "[CV 5/5; 1/12] START batch_size=10, epochs=10...................................\n",
            "[CV 5/5; 1/12] END ....batch_size=10, epochs=10;, score=0.748 total time=   1.3s\n",
            "[CV 1/5; 2/12] START batch_size=10, epochs=50...................................\n",
            "[CV 1/5; 2/12] END ....batch_size=10, epochs=50;, score=1.000 total time=   5.8s\n",
            "[CV 2/5; 2/12] START batch_size=10, epochs=50...................................\n",
            "[CV 2/5; 2/12] END ....batch_size=10, epochs=50;, score=1.000 total time=   5.8s\n",
            "[CV 3/5; 2/12] START batch_size=10, epochs=50...................................\n",
            "[CV 3/5; 2/12] END ....batch_size=10, epochs=50;, score=0.951 total time=   3.8s\n",
            "[CV 4/5; 2/12] START batch_size=10, epochs=50...................................\n",
            "[CV 4/5; 2/12] END ....batch_size=10, epochs=50;, score=0.961 total time=   5.9s\n",
            "[CV 5/5; 2/12] START batch_size=10, epochs=50...................................\n",
            "[CV 5/5; 2/12] END ....batch_size=10, epochs=50;, score=0.913 total time=   6.0s\n",
            "[CV 1/5; 3/12] START batch_size=10, epochs=100..................................\n",
            "[CV 1/5; 3/12] END ...batch_size=10, epochs=100;, score=1.000 total time=  10.9s\n",
            "[CV 2/5; 3/12] START batch_size=10, epochs=100..................................\n",
            "[CV 2/5; 3/12] END ...batch_size=10, epochs=100;, score=0.990 total time=   6.9s\n",
            "[CV 3/5; 3/12] START batch_size=10, epochs=100..................................\n",
            "[CV 3/5; 3/12] END ...batch_size=10, epochs=100;, score=1.000 total time=  11.1s\n",
            "[CV 4/5; 3/12] START batch_size=10, epochs=100..................................\n",
            "[CV 4/5; 3/12] END ...batch_size=10, epochs=100;, score=0.942 total time=   7.6s\n",
            "[CV 5/5; 3/12] START batch_size=10, epochs=100..................................\n",
            "[CV 5/5; 3/12] END ...batch_size=10, epochs=100;, score=0.942 total time=  10.9s\n",
            "[CV 1/5; 4/12] START batch_size=10, epochs=150..................................\n",
            "[CV 1/5; 4/12] END ...batch_size=10, epochs=150;, score=1.000 total time=  10.7s\n",
            "[CV 2/5; 4/12] START batch_size=10, epochs=150..................................\n",
            "[CV 2/5; 4/12] END ...batch_size=10, epochs=150;, score=1.000 total time=  10.3s\n",
            "[CV 3/5; 4/12] START batch_size=10, epochs=150..................................\n",
            "[CV 3/5; 4/12] END ...batch_size=10, epochs=150;, score=0.981 total time=  11.1s\n",
            "[CV 4/5; 4/12] START batch_size=10, epochs=150..................................\n",
            "[CV 4/5; 4/12] END ...batch_size=10, epochs=150;, score=0.971 total time=  11.0s\n",
            "[CV 5/5; 4/12] START batch_size=10, epochs=150..................................\n",
            "[CV 5/5; 4/12] END ...batch_size=10, epochs=150;, score=0.932 total time=  10.9s\n",
            "[CV 1/5; 5/12] START batch_size=20, epochs=10...................................\n",
            "[CV 1/5; 5/12] END ....batch_size=20, epochs=10;, score=1.000 total time=   1.3s\n",
            "[CV 2/5; 5/12] START batch_size=20, epochs=10...................................\n",
            "[CV 2/5; 5/12] END ....batch_size=20, epochs=10;, score=0.750 total time=   1.9s\n",
            "[CV 3/5; 5/12] START batch_size=20, epochs=10...................................\n",
            "[CV 3/5; 5/12] END ....batch_size=20, epochs=10;, score=0.524 total time=   1.4s\n",
            "[CV 4/5; 5/12] START batch_size=20, epochs=10...................................\n",
            "[CV 4/5; 5/12] END ....batch_size=20, epochs=10;, score=0.680 total time=   1.6s\n",
            "[CV 5/5; 5/12] START batch_size=20, epochs=10...................................\n",
            "[CV 5/5; 5/12] END ....batch_size=20, epochs=10;, score=0.728 total time=   1.1s\n",
            "[CV 1/5; 6/12] START batch_size=20, epochs=50...................................\n",
            "[CV 1/5; 6/12] END ....batch_size=20, epochs=50;, score=1.000 total time=   3.2s\n",
            "[CV 2/5; 6/12] START batch_size=20, epochs=50...................................\n",
            "[CV 2/5; 6/12] END ....batch_size=20, epochs=50;, score=0.923 total time=   3.2s\n",
            "[CV 3/5; 6/12] START batch_size=20, epochs=50...................................\n",
            "[CV 3/5; 6/12] END ....batch_size=20, epochs=50;, score=0.883 total time=   3.3s\n",
            "[CV 4/5; 6/12] START batch_size=20, epochs=50...................................\n",
            "[CV 4/5; 6/12] END ....batch_size=20, epochs=50;, score=0.922 total time=   2.9s\n",
            "[CV 5/5; 6/12] START batch_size=20, epochs=50...................................\n",
            "[CV 5/5; 6/12] END ....batch_size=20, epochs=50;, score=0.922 total time=   3.2s\n",
            "[CV 1/5; 7/12] START batch_size=20, epochs=100..................................\n",
            "[CV 1/5; 7/12] END ...batch_size=20, epochs=100;, score=1.000 total time=   5.9s\n",
            "[CV 2/5; 7/12] START batch_size=20, epochs=100..................................\n",
            "[CV 2/5; 7/12] END ...batch_size=20, epochs=100;, score=0.990 total time=   4.6s\n",
            "[CV 3/5; 7/12] START batch_size=20, epochs=100..................................\n",
            "[CV 3/5; 7/12] END ...batch_size=20, epochs=100;, score=0.971 total time=   5.8s\n",
            "[CV 4/5; 7/12] START batch_size=20, epochs=100..................................\n",
            "[CV 4/5; 7/12] END ...batch_size=20, epochs=100;, score=0.942 total time=   4.8s\n",
            "[CV 5/5; 7/12] START batch_size=20, epochs=100..................................\n",
            "[CV 5/5; 7/12] END ...batch_size=20, epochs=100;, score=0.913 total time=   3.9s\n",
            "[CV 1/5; 8/12] START batch_size=20, epochs=150..................................\n",
            "[CV 1/5; 8/12] END ...batch_size=20, epochs=150;, score=0.990 total time=   5.8s\n",
            "[CV 2/5; 8/12] START batch_size=20, epochs=150..................................\n",
            "[CV 2/5; 8/12] END ...batch_size=20, epochs=150;, score=0.971 total time=  11.1s\n",
            "[CV 3/5; 8/12] START batch_size=20, epochs=150..................................\n",
            "[CV 3/5; 8/12] END ...batch_size=20, epochs=150;, score=0.981 total time=  10.9s\n",
            "[CV 4/5; 8/12] START batch_size=20, epochs=150..................................\n",
            "[CV 4/5; 8/12] END ...batch_size=20, epochs=150;, score=0.981 total time=   6.4s\n",
            "[CV 5/5; 8/12] START batch_size=20, epochs=150..................................\n",
            "[CV 5/5; 8/12] END ...batch_size=20, epochs=150;, score=0.932 total time=   5.8s\n",
            "[CV 1/5; 9/12] START batch_size=40, epochs=10...................................\n",
            "[CV 1/5; 9/12] END ....batch_size=40, epochs=10;, score=1.000 total time=   1.4s\n",
            "[CV 2/5; 9/12] START batch_size=40, epochs=10...................................\n",
            "[CV 2/5; 9/12] END ....batch_size=40, epochs=10;, score=0.750 total time=   1.3s\n",
            "[CV 3/5; 9/12] START batch_size=40, epochs=10...................................\n",
            "[CV 3/5; 9/12] END ....batch_size=40, epochs=10;, score=0.534 total time=   1.4s\n",
            "[CV 4/5; 9/12] START batch_size=40, epochs=10...................................\n"
          ]
        },
        {
          "output_type": "stream",
          "name": "stderr",
          "text": [
            "WARNING:tensorflow:5 out of the last 16 calls to <function Model.make_test_function.<locals>.test_function at 0x7fa5784a3520> triggered tf.function retracing. Tracing is expensive and the excessive number of tracings could be due to (1) creating @tf.function repeatedly in a loop, (2) passing tensors with different shapes, (3) passing Python objects instead of tensors. For (1), please define your @tf.function outside of the loop. For (2), @tf.function has reduce_retracing=True option that can avoid unnecessary retracing. For (3), please refer to https://www.tensorflow.org/guide/function#controlling_retracing and https://www.tensorflow.org/api_docs/python/tf/function for  more details.\n"
          ]
        },
        {
          "output_type": "stream",
          "name": "stdout",
          "text": [
            "[CV 4/5; 9/12] END ....batch_size=40, epochs=10;, score=0.680 total time=   1.5s\n",
            "[CV 5/5; 9/12] START batch_size=40, epochs=10...................................\n"
          ]
        },
        {
          "output_type": "stream",
          "name": "stderr",
          "text": [
            "WARNING:tensorflow:5 out of the last 13 calls to <function Model.make_test_function.<locals>.test_function at 0x7fa578324040> triggered tf.function retracing. Tracing is expensive and the excessive number of tracings could be due to (1) creating @tf.function repeatedly in a loop, (2) passing tensors with different shapes, (3) passing Python objects instead of tensors. For (1), please define your @tf.function outside of the loop. For (2), @tf.function has reduce_retracing=True option that can avoid unnecessary retracing. For (3), please refer to https://www.tensorflow.org/guide/function#controlling_retracing and https://www.tensorflow.org/api_docs/python/tf/function for  more details.\n"
          ]
        },
        {
          "output_type": "stream",
          "name": "stdout",
          "text": [
            "[CV 5/5; 9/12] END ....batch_size=40, epochs=10;, score=0.699 total time=   1.3s\n",
            "[CV 1/5; 10/12] START batch_size=40, epochs=50..................................\n",
            "[CV 1/5; 10/12] END ...batch_size=40, epochs=50;, score=1.000 total time=   1.9s\n",
            "[CV 2/5; 10/12] START batch_size=40, epochs=50..................................\n",
            "[CV 2/5; 10/12] END ...batch_size=40, epochs=50;, score=0.798 total time=   1.9s\n",
            "[CV 3/5; 10/12] START batch_size=40, epochs=50..................................\n",
            "[CV 3/5; 10/12] END ...batch_size=40, epochs=50;, score=0.816 total time=   1.9s\n",
            "[CV 4/5; 10/12] START batch_size=40, epochs=50..................................\n",
            "[CV 4/5; 10/12] END ...batch_size=40, epochs=50;, score=0.806 total time=   2.0s\n",
            "[CV 5/5; 10/12] START batch_size=40, epochs=50..................................\n",
            "[CV 5/5; 10/12] END ...batch_size=40, epochs=50;, score=0.835 total time=   1.9s\n",
            "[CV 1/5; 11/12] START batch_size=40, epochs=100.................................\n",
            "[CV 1/5; 11/12] END ..batch_size=40, epochs=100;, score=1.000 total time=   3.5s\n",
            "[CV 2/5; 11/12] START batch_size=40, epochs=100.................................\n",
            "[CV 2/5; 11/12] END ..batch_size=40, epochs=100;, score=0.933 total time=   3.2s\n",
            "[CV 3/5; 11/12] START batch_size=40, epochs=100.................................\n",
            "[CV 3/5; 11/12] END ..batch_size=40, epochs=100;, score=0.942 total time=   3.2s\n",
            "[CV 4/5; 11/12] START batch_size=40, epochs=100.................................\n",
            "[CV 4/5; 11/12] END ..batch_size=40, epochs=100;, score=0.951 total time=   3.3s\n",
            "[CV 5/5; 11/12] START batch_size=40, epochs=100.................................\n",
            "[CV 5/5; 11/12] END ..batch_size=40, epochs=100;, score=0.922 total time=   3.2s\n",
            "[CV 1/5; 12/12] START batch_size=40, epochs=150.................................\n",
            "[CV 1/5; 12/12] END ..batch_size=40, epochs=150;, score=1.000 total time=   5.8s\n",
            "[CV 2/5; 12/12] START batch_size=40, epochs=150.................................\n",
            "[CV 2/5; 12/12] END ..batch_size=40, epochs=150;, score=0.981 total time=   5.8s\n",
            "[CV 3/5; 12/12] START batch_size=40, epochs=150.................................\n",
            "[CV 3/5; 12/12] END ..batch_size=40, epochs=150;, score=0.981 total time=   3.5s\n",
            "[CV 4/5; 12/12] START batch_size=40, epochs=150.................................\n",
            "[CV 4/5; 12/12] END ..batch_size=40, epochs=150;, score=0.961 total time=   5.9s\n",
            "[CV 5/5; 12/12] START batch_size=40, epochs=150.................................\n",
            "[CV 5/5; 12/12] END ..batch_size=40, epochs=150;, score=0.913 total time=   6.8s\n"
          ]
        }
      ]
    },
    {
      "cell_type": "code",
      "source": [
        "print(\"best: {}, using : {}\".format(grid_result.best_score_,grid_result.best_params_))\n",
        "means=grid_result.cv_results_[\"mean_test_score\"]\n",
        "std=grid_result.cv_results_[\"std_test_score\"]\n",
        "params=grid_result.cv_results_[\"params\"]\n",
        "for mean,std,params in zip(means,std,params):\n",
        "  print(\" {}, {}, params: {} \".format(mean,std,params))"
      ],
      "metadata": {
        "colab": {
          "base_uri": "https://localhost:8080/"
        },
        "id": "hwYNM9UZ377s",
        "outputId": "ddad979f-8d59-4eca-94de-d9736d6a0849"
      },
      "execution_count": 40,
      "outputs": [
        {
          "output_type": "stream",
          "name": "stdout",
          "text": [
            "best: 0.9766990303993225, using : {'batch_size': 10, 'epochs': 150}\n",
            " 0.7713592290878296, 0.1190696642497767, params: {'batch_size': 10, 'epochs': 10} \n",
            " 0.9650485515594482, 0.0328379245060673, params: {'batch_size': 10, 'epochs': 50} \n",
            " 0.9747759461402893, 0.02719517406905011, params: {'batch_size': 10, 'epochs': 100} \n",
            " 0.9766990303993225, 0.025017665292594235, params: {'batch_size': 10, 'epochs': 150} \n",
            " 0.7364077568054199, 0.15359763543603858, params: {'batch_size': 20, 'epochs': 10} \n",
            " 0.9302464485168457, 0.03802099797425691, params: {'batch_size': 20, 'epochs': 50} \n",
            " 0.963125467300415, 0.03215745097077955, params: {'batch_size': 20, 'epochs': 100} \n",
            " 0.9709484815597534, 0.02038330823460736, params: {'batch_size': 20, 'epochs': 150} \n",
            " 0.7325242757797241, 0.15178268966445949, params: {'batch_size': 40, 'epochs': 10} \n",
            " 0.8508775234222412, 0.07557503450975514, params: {'batch_size': 40, 'epochs': 50} \n",
            " 0.9496452450752259, 0.02696210604633905, params: {'batch_size': 40, 'epochs': 100} \n",
            " 0.9670276403427124, 0.0298467874863742, params: {'batch_size': 40, 'epochs': 150} \n"
          ]
        }
      ]
    },
    {
      "cell_type": "markdown",
      "source": [
        " 0.9766990303993225, 0.025017665292594235, params: {'batch_size': 10, 'epochs': 150}"
      ],
      "metadata": {
        "id": "_ebo_J6IBaGf"
      }
    },
    {
      "cell_type": "markdown",
      "source": [
        "**Hyper para meter : learning rate and dropout rate**"
      ],
      "metadata": {
        "id": "AYX-ryz6Dp7o"
      }
    },
    {
      "cell_type": "code",
      "source": [
        "from keras.layers import Dropout\n",
        "def create_model(learning_rate,dropout_rate):\n",
        "  model=Sequential()\n",
        "  model.add(Dense(8,input_dim=11,kernel_initializer='normal',activation='relu'))\n",
        "  model.add(Dropout(dropout_rate))\n",
        "  model.add(Dense(3,kernel_initializer='normal',activation='relu'))\n",
        "  model.add(Dropout(dropout_rate))\n",
        "  model.add(Dense(1,kernel_initializer='normal',activation='sigmoid'))\n",
        "\n",
        "\n",
        "  adam=Adam(lr=learning_rate)\n",
        "  model.compile(loss='mean_squared_error',optimizer=adam,metrics=['accuracy'])\n",
        "  return model;\n",
        "\n",
        "\n",
        "model_new=KerasClassifier(build_fn=create_model,verbose=0,batch_size=20,epochs=200)\n",
        "\n",
        "\n",
        "learning_rate = [0.001,0.01,0.1]\n",
        "dropout_rate = [0.0,0.1,0.2]\n",
        "param_grid=dict(learning_rate = learning_rate,dropout_rate = dropout_rate)\n",
        "grid=GridSearchCV(estimator=model_new,param_grid=param_grid,cv=KFold(),verbose=10)\n",
        "grid_result=grid.fit(xtran,ytran)\n",
        "\n"
      ],
      "metadata": {
        "colab": {
          "base_uri": "https://localhost:8080/"
        },
        "id": "2s82Pl6GjAx9",
        "outputId": "044662c9-d1ae-412c-b207-fac8171621d8"
      },
      "execution_count": 41,
      "outputs": [
        {
          "output_type": "stream",
          "name": "stdout",
          "text": [
            "Fitting 5 folds for each of 9 candidates, totalling 45 fits\n",
            "[CV 1/5; 1/9] START dropout_rate=0.0, learning_rate=0.001.......................\n",
            "[CV 1/5; 1/9] END dropout_rate=0.0, learning_rate=0.001;, score=1.000 total time=  11.0s\n",
            "[CV 2/5; 1/9] START dropout_rate=0.0, learning_rate=0.001.......................\n",
            "[CV 2/5; 1/9] END dropout_rate=0.0, learning_rate=0.001;, score=0.981 total time=   6.9s\n",
            "[CV 3/5; 1/9] START dropout_rate=0.0, learning_rate=0.001.......................\n",
            "[CV 3/5; 1/9] END dropout_rate=0.0, learning_rate=0.001;, score=0.981 total time=  10.9s\n",
            "[CV 4/5; 1/9] START dropout_rate=0.0, learning_rate=0.001.......................\n",
            "[CV 4/5; 1/9] END dropout_rate=0.0, learning_rate=0.001;, score=0.971 total time=  11.0s\n",
            "[CV 5/5; 1/9] START dropout_rate=0.0, learning_rate=0.001.......................\n",
            "[CV 5/5; 1/9] END dropout_rate=0.0, learning_rate=0.001;, score=0.951 total time=  10.9s\n",
            "[CV 1/5; 2/9] START dropout_rate=0.0, learning_rate=0.01........................\n",
            "[CV 1/5; 2/9] END dropout_rate=0.0, learning_rate=0.01;, score=1.000 total time=  10.9s\n",
            "[CV 2/5; 2/9] START dropout_rate=0.0, learning_rate=0.01........................\n",
            "[CV 2/5; 2/9] END dropout_rate=0.0, learning_rate=0.01;, score=0.971 total time=  10.9s\n",
            "[CV 3/5; 2/9] START dropout_rate=0.0, learning_rate=0.01........................\n",
            "[CV 3/5; 2/9] END dropout_rate=0.0, learning_rate=0.01;, score=0.524 total time=  11.0s\n",
            "[CV 4/5; 2/9] START dropout_rate=0.0, learning_rate=0.01........................\n",
            "[CV 4/5; 2/9] END dropout_rate=0.0, learning_rate=0.01;, score=0.971 total time=  10.9s\n",
            "[CV 5/5; 2/9] START dropout_rate=0.0, learning_rate=0.01........................\n",
            "[CV 5/5; 2/9] END dropout_rate=0.0, learning_rate=0.01;, score=0.942 total time=   6.8s\n",
            "[CV 1/5; 3/9] START dropout_rate=0.0, learning_rate=0.1.........................\n",
            "[CV 1/5; 3/9] END dropout_rate=0.0, learning_rate=0.1;, score=1.000 total time=   7.7s\n",
            "[CV 2/5; 3/9] START dropout_rate=0.0, learning_rate=0.1.........................\n",
            "[CV 2/5; 3/9] END dropout_rate=0.0, learning_rate=0.1;, score=0.971 total time=   6.9s\n",
            "[CV 3/5; 3/9] START dropout_rate=0.0, learning_rate=0.1.........................\n",
            "[CV 3/5; 3/9] END dropout_rate=0.0, learning_rate=0.1;, score=0.971 total time=   7.5s\n",
            "[CV 4/5; 3/9] START dropout_rate=0.0, learning_rate=0.1.........................\n",
            "[CV 4/5; 3/9] END dropout_rate=0.0, learning_rate=0.1;, score=0.942 total time=  10.9s\n",
            "[CV 5/5; 3/9] START dropout_rate=0.0, learning_rate=0.1.........................\n",
            "[CV 5/5; 3/9] END dropout_rate=0.0, learning_rate=0.1;, score=0.932 total time=  10.9s\n",
            "[CV 1/5; 4/9] START dropout_rate=0.1, learning_rate=0.001.......................\n",
            "[CV 1/5; 4/9] END dropout_rate=0.1, learning_rate=0.001;, score=1.000 total time=   7.1s\n",
            "[CV 2/5; 4/9] START dropout_rate=0.1, learning_rate=0.001.......................\n",
            "[CV 2/5; 4/9] END dropout_rate=0.1, learning_rate=0.001;, score=1.000 total time=  11.6s\n",
            "[CV 3/5; 4/9] START dropout_rate=0.1, learning_rate=0.001.......................\n",
            "[CV 3/5; 4/9] END dropout_rate=0.1, learning_rate=0.001;, score=1.000 total time=   8.0s\n",
            "[CV 4/5; 4/9] START dropout_rate=0.1, learning_rate=0.001.......................\n",
            "[CV 4/5; 4/9] END dropout_rate=0.1, learning_rate=0.001;, score=0.971 total time=   7.3s\n",
            "[CV 5/5; 4/9] START dropout_rate=0.1, learning_rate=0.001.......................\n",
            "[CV 5/5; 4/9] END dropout_rate=0.1, learning_rate=0.001;, score=0.961 total time=  11.3s\n",
            "[CV 1/5; 5/9] START dropout_rate=0.1, learning_rate=0.01........................\n",
            "[CV 1/5; 5/9] END dropout_rate=0.1, learning_rate=0.01;, score=1.000 total time=  11.0s\n",
            "[CV 2/5; 5/9] START dropout_rate=0.1, learning_rate=0.01........................\n",
            "[CV 2/5; 5/9] END dropout_rate=0.1, learning_rate=0.01;, score=0.981 total time=   7.9s\n",
            "[CV 3/5; 5/9] START dropout_rate=0.1, learning_rate=0.01........................\n",
            "[CV 3/5; 5/9] END dropout_rate=0.1, learning_rate=0.01;, score=1.000 total time=   7.2s\n",
            "[CV 4/5; 5/9] START dropout_rate=0.1, learning_rate=0.01........................\n",
            "[CV 4/5; 5/9] END dropout_rate=0.1, learning_rate=0.01;, score=0.951 total time=  11.2s\n",
            "[CV 5/5; 5/9] START dropout_rate=0.1, learning_rate=0.01........................\n",
            "[CV 5/5; 5/9] END dropout_rate=0.1, learning_rate=0.01;, score=0.922 total time=  11.0s\n",
            "[CV 1/5; 6/9] START dropout_rate=0.1, learning_rate=0.1.........................\n",
            "[CV 1/5; 6/9] END dropout_rate=0.1, learning_rate=0.1;, score=1.000 total time=   7.8s\n",
            "[CV 2/5; 6/9] START dropout_rate=0.1, learning_rate=0.1.........................\n",
            "[CV 2/5; 6/9] END dropout_rate=0.1, learning_rate=0.1;, score=0.750 total time=  11.0s\n",
            "[CV 3/5; 6/9] START dropout_rate=0.1, learning_rate=0.1.........................\n",
            "[CV 3/5; 6/9] END dropout_rate=0.1, learning_rate=0.1;, score=0.942 total time=  11.0s\n",
            "[CV 4/5; 6/9] START dropout_rate=0.1, learning_rate=0.1.........................\n",
            "[CV 4/5; 6/9] END dropout_rate=0.1, learning_rate=0.1;, score=0.951 total time=  11.0s\n",
            "[CV 5/5; 6/9] START dropout_rate=0.1, learning_rate=0.1.........................\n",
            "[CV 5/5; 6/9] END dropout_rate=0.1, learning_rate=0.1;, score=0.932 total time=   7.1s\n",
            "[CV 1/5; 7/9] START dropout_rate=0.2, learning_rate=0.001.......................\n",
            "[CV 1/5; 7/9] END dropout_rate=0.2, learning_rate=0.001;, score=1.000 total time=   7.7s\n",
            "[CV 2/5; 7/9] START dropout_rate=0.2, learning_rate=0.001.......................\n",
            "[CV 2/5; 7/9] END dropout_rate=0.2, learning_rate=0.001;, score=1.000 total time=  11.0s\n",
            "[CV 3/5; 7/9] START dropout_rate=0.2, learning_rate=0.001.......................\n",
            "[CV 3/5; 7/9] END dropout_rate=0.2, learning_rate=0.001;, score=1.000 total time=  11.0s\n",
            "[CV 4/5; 7/9] START dropout_rate=0.2, learning_rate=0.001.......................\n",
            "[CV 4/5; 7/9] END dropout_rate=0.2, learning_rate=0.001;, score=0.951 total time=  11.7s\n",
            "[CV 5/5; 7/9] START dropout_rate=0.2, learning_rate=0.001.......................\n",
            "[CV 5/5; 7/9] END dropout_rate=0.2, learning_rate=0.001;, score=0.961 total time=   7.2s\n",
            "[CV 1/5; 8/9] START dropout_rate=0.2, learning_rate=0.01........................\n",
            "[CV 1/5; 8/9] END dropout_rate=0.2, learning_rate=0.01;, score=1.000 total time=   8.8s\n",
            "[CV 2/5; 8/9] START dropout_rate=0.2, learning_rate=0.01........................\n",
            "[CV 2/5; 8/9] END dropout_rate=0.2, learning_rate=0.01;, score=1.000 total time=  11.0s\n",
            "[CV 3/5; 8/9] START dropout_rate=0.2, learning_rate=0.01........................\n",
            "[CV 3/5; 8/9] END dropout_rate=0.2, learning_rate=0.01;, score=0.961 total time=  11.0s\n",
            "[CV 4/5; 8/9] START dropout_rate=0.2, learning_rate=0.01........................\n",
            "[CV 4/5; 8/9] END dropout_rate=0.2, learning_rate=0.01;, score=0.961 total time=  11.0s\n",
            "[CV 5/5; 8/9] START dropout_rate=0.2, learning_rate=0.01........................\n",
            "[CV 5/5; 8/9] END dropout_rate=0.2, learning_rate=0.01;, score=0.951 total time=   7.3s\n",
            "[CV 1/5; 9/9] START dropout_rate=0.2, learning_rate=0.1.........................\n",
            "[CV 1/5; 9/9] END dropout_rate=0.2, learning_rate=0.1;, score=1.000 total time=  11.0s\n",
            "[CV 2/5; 9/9] START dropout_rate=0.2, learning_rate=0.1.........................\n",
            "[CV 2/5; 9/9] END dropout_rate=0.2, learning_rate=0.1;, score=0.904 total time=  11.0s\n",
            "[CV 3/5; 9/9] START dropout_rate=0.2, learning_rate=0.1.........................\n",
            "[CV 3/5; 9/9] END dropout_rate=0.2, learning_rate=0.1;, score=0.835 total time=   7.8s\n",
            "[CV 4/5; 9/9] START dropout_rate=0.2, learning_rate=0.1.........................\n",
            "[CV 4/5; 9/9] END dropout_rate=0.2, learning_rate=0.1;, score=0.854 total time=  11.1s\n",
            "[CV 5/5; 9/9] START dropout_rate=0.2, learning_rate=0.1.........................\n",
            "[CV 5/5; 9/9] END dropout_rate=0.2, learning_rate=0.1;, score=0.864 total time=  11.3s\n"
          ]
        }
      ]
    },
    {
      "cell_type": "code",
      "source": [
        "print(\"best: {}, using : {}\".format(grid_result.best_score_,grid_result.best_params_))\n",
        "means=grid_result.cv_results_[\"mean_test_score\"]\n",
        "std=grid_result.cv_results_[\"std_test_score\"]\n",
        "params=grid_result.cv_results_[\"params\"]\n",
        "for mean,std,params in zip(means,std,params):\n",
        "  print(\" {}, {}, params: {} \".format(mean,std,params))"
      ],
      "metadata": {
        "colab": {
          "base_uri": "https://localhost:8080/"
        },
        "id": "_5AmwugwIDux",
        "outputId": "a0a6ce77-411c-40f7-db99-1a714af56d09"
      },
      "execution_count": 42,
      "outputs": [
        {
          "output_type": "stream",
          "name": "stdout",
          "text": [
            "best: 0.9864077687263488, using : {'dropout_rate': 0.1, 'learning_rate': 0.001}\n",
            " 0.9767363667488098, 0.01578420021280345, params: {'dropout_rate': 0.0, 'learning_rate': 0.001} \n",
            " 0.8816094040870667, 0.17961592145973332, params: {'dropout_rate': 0.0, 'learning_rate': 0.01} \n",
            " 0.9631628036499024, 0.024114763654862103, params: {'dropout_rate': 0.0, 'learning_rate': 0.1} \n",
            " 0.9864077687263488, 0.016927758771990948, params: {'dropout_rate': 0.1, 'learning_rate': 0.001} \n",
            " 0.9709111213684082, 0.03009357059957467, params: {'dropout_rate': 0.1, 'learning_rate': 0.01} \n",
            " 0.9150485396385193, 0.08577272766902676, params: {'dropout_rate': 0.1, 'learning_rate': 0.1} \n",
            " 0.9825242757797241, 0.02162238219576884, params: {'dropout_rate': 0.2, 'learning_rate': 0.001} \n",
            " 0.9747572898864746, 0.020913256185903856, params: {'dropout_rate': 0.2, 'learning_rate': 0.01} \n",
            " 0.8914488434791565, 0.05874198072608048, params: {'dropout_rate': 0.2, 'learning_rate': 0.1} \n"
          ]
        }
      ]
    },
    {
      "cell_type": "markdown",
      "source": [
        " 0.9864077687263488, 0.016927758771990948, params: {'dropout_rate': 0.1, 'learning_rate': 0.001}"
      ],
      "metadata": {
        "id": "_bTJBbybKiwL"
      }
    },
    {
      "cell_type": "markdown",
      "source": [
        "TUNING OF ACTIVATION FUNCTION and KERNEL INITIALISER"
      ],
      "metadata": {
        "id": "_57NmJ-2IdSP"
      }
    },
    {
      "cell_type": "code",
      "source": [
        "def create_model(activation_function,init):\n",
        "  model=Sequential()\n",
        "  model.add(Dense(8,input_dim=11,kernel_initializer=init,activation=activation_function))\n",
        "  model.add(Dropout(0.1))\n",
        "  model.add(Dense(3,kernel_initializer=init,activation=activation_function))\n",
        "  model.add(Dropout(0.1))\n",
        "  model.add(Dense(1,activation='sigmoid'))\n",
        "\n",
        "  adam=Adam(learning_rate=0.001)\n",
        "  model.compile(loss=\"mean_squared_error\",optimizer=adam,metrics=['accuracy'])\n",
        "  return model\n",
        "\n",
        "\n",
        "model_new=KerasClassifier(build_fn=create_model,verbose=0,batch_size = 40,epochs = 50)\n",
        "\n",
        "activation_function = ['softmax','relu','tanh','linear']\n",
        "init = ['uniform','normal','zero']\n",
        "\n",
        "param_grid=dict(activation_function=activation_function,init=init)\n",
        "\n",
        "grid=GridSearchCV(estimator=model_new,param_grid=param_grid,cv=KFold(),verbose=10)\n",
        "grid_result=grid.fit(xtran,ytran)\n",
        "\n"
      ],
      "metadata": {
        "colab": {
          "base_uri": "https://localhost:8080/"
        },
        "id": "C2wLKJKzIilG",
        "outputId": "e2073802-a12b-4baf-abb9-7ad54b90df9f"
      },
      "execution_count": 43,
      "outputs": [
        {
          "output_type": "stream",
          "name": "stdout",
          "text": [
            "Fitting 5 folds for each of 12 candidates, totalling 60 fits\n",
            "[CV 1/5; 1/12] START activation_function=softmax, init=uniform..................\n",
            "[CV 1/5; 1/12] END activation_function=softmax, init=uniform;, score=1.000 total time=   2.1s\n",
            "[CV 2/5; 1/12] START activation_function=softmax, init=uniform..................\n",
            "[CV 2/5; 1/12] END activation_function=softmax, init=uniform;, score=0.750 total time=   2.3s\n",
            "[CV 3/5; 1/12] START activation_function=softmax, init=uniform..................\n",
            "[CV 3/5; 1/12] END activation_function=softmax, init=uniform;, score=0.524 total time=   2.1s\n",
            "[CV 4/5; 1/12] START activation_function=softmax, init=uniform..................\n",
            "[CV 4/5; 1/12] END activation_function=softmax, init=uniform;, score=0.680 total time=   2.1s\n",
            "[CV 5/5; 1/12] START activation_function=softmax, init=uniform..................\n",
            "[CV 5/5; 1/12] END activation_function=softmax, init=uniform;, score=0.699 total time=   2.0s\n",
            "[CV 1/5; 2/12] START activation_function=softmax, init=normal...................\n",
            "[CV 1/5; 2/12] END activation_function=softmax, init=normal;, score=1.000 total time=   2.4s\n",
            "[CV 2/5; 2/12] START activation_function=softmax, init=normal...................\n",
            "[CV 2/5; 2/12] END activation_function=softmax, init=normal;, score=0.750 total time=   2.2s\n",
            "[CV 3/5; 2/12] START activation_function=softmax, init=normal...................\n",
            "[CV 3/5; 2/12] END activation_function=softmax, init=normal;, score=0.524 total time=   2.2s\n",
            "[CV 4/5; 2/12] START activation_function=softmax, init=normal...................\n",
            "[CV 4/5; 2/12] END activation_function=softmax, init=normal;, score=0.680 total time=   2.1s\n",
            "[CV 5/5; 2/12] START activation_function=softmax, init=normal...................\n",
            "[CV 5/5; 2/12] END activation_function=softmax, init=normal;, score=0.699 total time=   1.7s\n",
            "[CV 1/5; 3/12] START activation_function=softmax, init=zero.....................\n",
            "[CV 1/5; 3/12] END activation_function=softmax, init=zero;, score=1.000 total time=   1.7s\n",
            "[CV 2/5; 3/12] START activation_function=softmax, init=zero.....................\n",
            "[CV 2/5; 3/12] END activation_function=softmax, init=zero;, score=0.750 total time=   2.1s\n",
            "[CV 3/5; 3/12] START activation_function=softmax, init=zero.....................\n",
            "[CV 3/5; 3/12] END activation_function=softmax, init=zero;, score=0.524 total time=   2.1s\n",
            "[CV 4/5; 3/12] START activation_function=softmax, init=zero.....................\n",
            "[CV 4/5; 3/12] END activation_function=softmax, init=zero;, score=0.680 total time=   2.3s\n",
            "[CV 5/5; 3/12] START activation_function=softmax, init=zero.....................\n",
            "[CV 5/5; 3/12] END activation_function=softmax, init=zero;, score=0.699 total time=   2.0s\n",
            "[CV 1/5; 4/12] START activation_function=relu, init=uniform.....................\n",
            "[CV 1/5; 4/12] END activation_function=relu, init=uniform;, score=1.000 total time=   1.7s\n",
            "[CV 2/5; 4/12] START activation_function=relu, init=uniform.....................\n",
            "[CV 2/5; 4/12] END activation_function=relu, init=uniform;, score=0.750 total time=   2.0s\n",
            "[CV 3/5; 4/12] START activation_function=relu, init=uniform.....................\n",
            "[CV 3/5; 4/12] END activation_function=relu, init=uniform;, score=0.806 total time=   2.0s\n",
            "[CV 4/5; 4/12] START activation_function=relu, init=uniform.....................\n",
            "[CV 4/5; 4/12] END activation_function=relu, init=uniform;, score=0.738 total time=   2.1s\n",
            "[CV 5/5; 4/12] START activation_function=relu, init=uniform.....................\n",
            "[CV 5/5; 4/12] END activation_function=relu, init=uniform;, score=0.816 total time=   2.3s\n",
            "[CV 1/5; 5/12] START activation_function=relu, init=normal......................\n",
            "[CV 1/5; 5/12] END activation_function=relu, init=normal;, score=1.000 total time=   2.0s\n",
            "[CV 2/5; 5/12] START activation_function=relu, init=normal......................\n",
            "[CV 2/5; 5/12] END activation_function=relu, init=normal;, score=0.760 total time=   1.7s\n",
            "[CV 3/5; 5/12] START activation_function=relu, init=normal......................\n",
            "[CV 3/5; 5/12] END activation_function=relu, init=normal;, score=0.524 total time=   2.4s\n",
            "[CV 4/5; 5/12] START activation_function=relu, init=normal......................\n",
            "[CV 4/5; 5/12] END activation_function=relu, init=normal;, score=0.777 total time=   2.1s\n",
            "[CV 5/5; 5/12] START activation_function=relu, init=normal......................\n",
            "[CV 5/5; 5/12] END activation_function=relu, init=normal;, score=0.699 total time=   1.8s\n",
            "[CV 1/5; 6/12] START activation_function=relu, init=zero........................\n",
            "[CV 1/5; 6/12] END activation_function=relu, init=zero;, score=1.000 total time=   2.5s\n",
            "[CV 2/5; 6/12] START activation_function=relu, init=zero........................\n",
            "[CV 2/5; 6/12] END activation_function=relu, init=zero;, score=0.750 total time=   1.8s\n",
            "[CV 3/5; 6/12] START activation_function=relu, init=zero........................\n",
            "[CV 3/5; 6/12] END activation_function=relu, init=zero;, score=0.524 total time=   1.7s\n",
            "[CV 4/5; 6/12] START activation_function=relu, init=zero........................\n",
            "[CV 4/5; 6/12] END activation_function=relu, init=zero;, score=0.680 total time=   2.0s\n",
            "[CV 5/5; 6/12] START activation_function=relu, init=zero........................\n",
            "[CV 5/5; 6/12] END activation_function=relu, init=zero;, score=0.699 total time=   2.0s\n",
            "[CV 1/5; 7/12] START activation_function=tanh, init=uniform.....................\n",
            "[CV 1/5; 7/12] END activation_function=tanh, init=uniform;, score=1.000 total time=   2.0s\n",
            "[CV 2/5; 7/12] START activation_function=tanh, init=uniform.....................\n",
            "[CV 2/5; 7/12] END activation_function=tanh, init=uniform;, score=0.769 total time=   3.4s\n",
            "[CV 3/5; 7/12] START activation_function=tanh, init=uniform.....................\n",
            "[CV 3/5; 7/12] END activation_function=tanh, init=uniform;, score=0.806 total time=   1.8s\n",
            "[CV 4/5; 7/12] START activation_function=tanh, init=uniform.....................\n",
            "[CV 4/5; 7/12] END activation_function=tanh, init=uniform;, score=0.816 total time=   1.7s\n",
            "[CV 5/5; 7/12] START activation_function=tanh, init=uniform.....................\n",
            "[CV 5/5; 7/12] END activation_function=tanh, init=uniform;, score=0.835 total time=   2.0s\n",
            "[CV 1/5; 8/12] START activation_function=tanh, init=normal......................\n",
            "[CV 1/5; 8/12] END activation_function=tanh, init=normal;, score=1.000 total time=   2.0s\n",
            "[CV 2/5; 8/12] START activation_function=tanh, init=normal......................\n",
            "[CV 2/5; 8/12] END activation_function=tanh, init=normal;, score=0.760 total time=   2.1s\n",
            "[CV 3/5; 8/12] START activation_function=tanh, init=normal......................\n",
            "[CV 3/5; 8/12] END activation_function=tanh, init=normal;, score=0.806 total time=   3.6s\n",
            "[CV 4/5; 8/12] START activation_function=tanh, init=normal......................\n",
            "[CV 4/5; 8/12] END activation_function=tanh, init=normal;, score=0.806 total time=   2.0s\n",
            "[CV 5/5; 8/12] START activation_function=tanh, init=normal......................\n",
            "[CV 5/5; 8/12] END activation_function=tanh, init=normal;, score=0.806 total time=   1.6s\n",
            "[CV 1/5; 9/12] START activation_function=tanh, init=zero........................\n",
            "[CV 1/5; 9/12] END activation_function=tanh, init=zero;, score=1.000 total time=   2.7s\n",
            "[CV 2/5; 9/12] START activation_function=tanh, init=zero........................\n",
            "[CV 2/5; 9/12] END activation_function=tanh, init=zero;, score=0.750 total time=   2.1s\n",
            "[CV 3/5; 9/12] START activation_function=tanh, init=zero........................\n",
            "[CV 3/5; 9/12] END activation_function=tanh, init=zero;, score=0.524 total time=   3.6s\n",
            "[CV 4/5; 9/12] START activation_function=tanh, init=zero........................\n",
            "[CV 4/5; 9/12] END activation_function=tanh, init=zero;, score=0.680 total time=   2.0s\n",
            "[CV 5/5; 9/12] START activation_function=tanh, init=zero........................\n",
            "[CV 5/5; 9/12] END activation_function=tanh, init=zero;, score=0.699 total time=   2.1s\n",
            "[CV 1/5; 10/12] START activation_function=linear, init=uniform..................\n",
            "[CV 1/5; 10/12] END activation_function=linear, init=uniform;, score=1.000 total time=   2.0s\n",
            "[CV 2/5; 10/12] START activation_function=linear, init=uniform..................\n",
            "[CV 2/5; 10/12] END activation_function=linear, init=uniform;, score=0.760 total time=   2.2s\n",
            "[CV 3/5; 10/12] START activation_function=linear, init=uniform..................\n",
            "[CV 3/5; 10/12] END activation_function=linear, init=uniform;, score=0.806 total time=   2.5s\n",
            "[CV 4/5; 10/12] START activation_function=linear, init=uniform..................\n",
            "[CV 4/5; 10/12] END activation_function=linear, init=uniform;, score=0.796 total time=   2.3s\n",
            "[CV 5/5; 10/12] START activation_function=linear, init=uniform..................\n",
            "[CV 5/5; 10/12] END activation_function=linear, init=uniform;, score=0.816 total time=   2.1s\n",
            "[CV 1/5; 11/12] START activation_function=linear, init=normal...................\n",
            "[CV 1/5; 11/12] END activation_function=linear, init=normal;, score=1.000 total time=   2.0s\n",
            "[CV 2/5; 11/12] START activation_function=linear, init=normal...................\n",
            "[CV 2/5; 11/12] END activation_function=linear, init=normal;, score=0.750 total time=   2.0s\n",
            "[CV 3/5; 11/12] START activation_function=linear, init=normal...................\n",
            "[CV 3/5; 11/12] END activation_function=linear, init=normal;, score=0.806 total time=   1.7s\n",
            "[CV 4/5; 11/12] START activation_function=linear, init=normal...................\n",
            "[CV 4/5; 11/12] END activation_function=linear, init=normal;, score=0.835 total time=   2.1s\n",
            "[CV 5/5; 11/12] START activation_function=linear, init=normal...................\n",
            "[CV 5/5; 11/12] END activation_function=linear, init=normal;, score=0.825 total time=   2.3s\n",
            "[CV 1/5; 12/12] START activation_function=linear, init=zero.....................\n",
            "[CV 1/5; 12/12] END activation_function=linear, init=zero;, score=1.000 total time=   2.0s\n",
            "[CV 2/5; 12/12] START activation_function=linear, init=zero.....................\n",
            "[CV 2/5; 12/12] END activation_function=linear, init=zero;, score=0.750 total time=   2.0s\n",
            "[CV 3/5; 12/12] START activation_function=linear, init=zero.....................\n",
            "[CV 3/5; 12/12] END activation_function=linear, init=zero;, score=0.524 total time=   1.7s\n",
            "[CV 4/5; 12/12] START activation_function=linear, init=zero.....................\n",
            "[CV 4/5; 12/12] END activation_function=linear, init=zero;, score=0.680 total time=   2.4s\n",
            "[CV 5/5; 12/12] START activation_function=linear, init=zero.....................\n",
            "[CV 5/5; 12/12] END activation_function=linear, init=zero;, score=0.699 total time=   2.2s\n"
          ]
        }
      ]
    },
    {
      "cell_type": "code",
      "source": [
        "print(\"best: {}, using : {}\".format(grid_result.best_score_,grid_result.best_params_))\n",
        "means=grid_result.cv_results_[\"mean_test_score\"]\n",
        "std=grid_result.cv_results_[\"std_test_score\"]\n",
        "params=grid_result.cv_results_[\"params\"]\n",
        "for mean,std,params in zip(means,std,params):\n",
        "  print(\" {}, {}, params: {} \".format(mean,std,params))"
      ],
      "metadata": {
        "colab": {
          "base_uri": "https://localhost:8080/"
        },
        "id": "kEV0rvXRLrIm",
        "outputId": "3b9dcae1-dd01-4906-c9b1-1cf5c48c4850"
      },
      "execution_count": 44,
      "outputs": [
        {
          "output_type": "stream",
          "name": "stdout",
          "text": [
            "best: 0.8451082944869995, using : {'activation_function': 'tanh', 'init': 'uniform'}\n",
            " 0.7305825233459473, 0.15435061319000673, params: {'activation_function': 'softmax', 'init': 'uniform'} \n",
            " 0.7305825233459473, 0.15435061319000673, params: {'activation_function': 'softmax', 'init': 'normal'} \n",
            " 0.7305825233459473, 0.15435061319000673, params: {'activation_function': 'softmax', 'init': 'zero'} \n",
            " 0.8218446612358093, 0.0940746141721868, params: {'activation_function': 'relu', 'init': 'uniform'} \n",
            " 0.7519230723381043, 0.15286466464029744, params: {'activation_function': 'relu', 'init': 'normal'} \n",
            " 0.7305825233459473, 0.15435061319000673, params: {'activation_function': 'relu', 'init': 'zero'} \n",
            " 0.8451082944869995, 0.08033653777016266, params: {'activation_function': 'tanh', 'init': 'uniform'} \n",
            " 0.8354182124137879, 0.08421457141494994, params: {'activation_function': 'tanh', 'init': 'normal'} \n",
            " 0.7305825233459473, 0.15435061319000673, params: {'activation_function': 'tanh', 'init': 'zero'} \n",
            " 0.8354182243347168, 0.08443812602562026, params: {'activation_function': 'linear', 'init': 'uniform'} \n",
            " 0.8432038784027099, 0.0837375139266975, params: {'activation_function': 'linear', 'init': 'normal'} \n",
            " 0.7305825233459473, 0.15435061319000673, params: {'activation_function': 'linear', 'init': 'zero'} \n"
          ]
        }
      ]
    },
    {
      "cell_type": "markdown",
      "source": [
        " 0.8451082944869995, 0.08033653777016266, params: {'activation_function': 'tanh', 'init': 'uniform'}"
      ],
      "metadata": {
        "id": "qvJBCZADaD0R"
      }
    },
    {
      "cell_type": "markdown",
      "source": [
        "TUNING OF NURON"
      ],
      "metadata": {
        "id": "0JKcia2cL0Jc"
      }
    },
    {
      "cell_type": "code",
      "source": [
        "def create_model(nuron1,nuron2):\n",
        "  model=Sequential()\n",
        "  model.add(Dense(nuron1,input_dim=11,kernel_initializer='uniform',activation='tanh'))\n",
        "  model.add(Dropout(0.1))\n",
        "  model.add(Dense(nuron2,kernel_initializer='uniform',activation='tanh'))\n",
        "  model.add(Dropout(0.1))\n",
        "  model.add(Dense(1,activation='sigmoid'))\n",
        "\n",
        "  adam=Adam(learning_rate=0.001)\n",
        "  model.compile(loss=\"mean_squared_error\",optimizer=adam,metrics=['accuracy'])\n",
        "  return model\n",
        "\n",
        "\n",
        "model_new=KerasClassifier(build_fn=create_model,verbose=0,batch_size = 10,epochs = 100)\n",
        "\n",
        "nuron1 = [4,8,16]\n",
        "nuron2 = [2,4,8]\n",
        "\n",
        "param_grid=dict(nuron1=nuron1,nuron2=nuron2)\n",
        "\n",
        "grid=GridSearchCV(estimator=model_new,param_grid=param_grid,cv=KFold(),verbose=10)\n",
        "grid_result=grid.fit(xtran,ytran)"
      ],
      "metadata": {
        "colab": {
          "base_uri": "https://localhost:8080/"
        },
        "id": "tBvPoKM4L-ef",
        "outputId": "28c02ee4-65ca-41c3-d8bc-e1eceb6f5d89"
      },
      "execution_count": 45,
      "outputs": [
        {
          "output_type": "stream",
          "name": "stdout",
          "text": [
            "Fitting 5 folds for each of 9 candidates, totalling 45 fits\n",
            "[CV 1/5; 1/9] START nuron1=4, nuron2=2..........................................\n",
            "[CV 1/5; 1/9] END ...........nuron1=4, nuron2=2;, score=1.000 total time=   6.9s\n",
            "[CV 2/5; 1/9] START nuron1=4, nuron2=2..........................................\n",
            "[CV 2/5; 1/9] END ...........nuron1=4, nuron2=2;, score=1.000 total time=   7.5s\n",
            "[CV 3/5; 1/9] START nuron1=4, nuron2=2..........................................\n",
            "[CV 3/5; 1/9] END ...........nuron1=4, nuron2=2;, score=1.000 total time=  11.0s\n",
            "[CV 4/5; 1/9] START nuron1=4, nuron2=2..........................................\n",
            "[CV 4/5; 1/9] END ...........nuron1=4, nuron2=2;, score=0.961 total time=   6.7s\n",
            "[CV 5/5; 1/9] START nuron1=4, nuron2=2..........................................\n",
            "[CV 5/5; 1/9] END ...........nuron1=4, nuron2=2;, score=0.971 total time=  11.0s\n",
            "[CV 1/5; 2/9] START nuron1=4, nuron2=4..........................................\n",
            "[CV 1/5; 2/9] END ...........nuron1=4, nuron2=4;, score=1.000 total time=  11.0s\n",
            "[CV 2/5; 2/9] START nuron1=4, nuron2=4..........................................\n",
            "[CV 2/5; 2/9] END ...........nuron1=4, nuron2=4;, score=1.000 total time=  11.0s\n",
            "[CV 3/5; 2/9] START nuron1=4, nuron2=4..........................................\n",
            "[CV 3/5; 2/9] END ...........nuron1=4, nuron2=4;, score=1.000 total time=  11.0s\n",
            "[CV 4/5; 2/9] START nuron1=4, nuron2=4..........................................\n",
            "[CV 4/5; 2/9] END ...........nuron1=4, nuron2=4;, score=0.961 total time=  11.0s\n",
            "[CV 5/5; 2/9] START nuron1=4, nuron2=4..........................................\n",
            "[CV 5/5; 2/9] END ...........nuron1=4, nuron2=4;, score=0.951 total time=   6.6s\n",
            "[CV 1/5; 3/9] START nuron1=4, nuron2=8..........................................\n",
            "[CV 1/5; 3/9] END ...........nuron1=4, nuron2=8;, score=1.000 total time=  11.0s\n",
            "[CV 2/5; 3/9] START nuron1=4, nuron2=8..........................................\n",
            "[CV 2/5; 3/9] END ...........nuron1=4, nuron2=8;, score=0.990 total time=  11.0s\n",
            "[CV 3/5; 3/9] START nuron1=4, nuron2=8..........................................\n",
            "[CV 3/5; 3/9] END ...........nuron1=4, nuron2=8;, score=1.000 total time=   7.4s\n",
            "[CV 4/5; 3/9] START nuron1=4, nuron2=8..........................................\n",
            "[CV 4/5; 3/9] END ...........nuron1=4, nuron2=8;, score=0.961 total time=   6.7s\n",
            "[CV 5/5; 3/9] START nuron1=4, nuron2=8..........................................\n",
            "[CV 5/5; 3/9] END ...........nuron1=4, nuron2=8;, score=0.942 total time=   7.3s\n",
            "[CV 1/5; 4/9] START nuron1=8, nuron2=2..........................................\n",
            "[CV 1/5; 4/9] END ...........nuron1=8, nuron2=2;, score=1.000 total time=  11.7s\n",
            "[CV 2/5; 4/9] START nuron1=8, nuron2=2..........................................\n",
            "[CV 2/5; 4/9] END ...........nuron1=8, nuron2=2;, score=1.000 total time=   6.8s\n",
            "[CV 3/5; 4/9] START nuron1=8, nuron2=2..........................................\n",
            "[CV 3/5; 4/9] END ...........nuron1=8, nuron2=2;, score=1.000 total time=  11.0s\n",
            "[CV 4/5; 4/9] START nuron1=8, nuron2=2..........................................\n",
            "[CV 4/5; 4/9] END ...........nuron1=8, nuron2=2;, score=0.951 total time=   7.6s\n",
            "[CV 5/5; 4/9] START nuron1=8, nuron2=2..........................................\n",
            "[CV 5/5; 4/9] END ...........nuron1=8, nuron2=2;, score=0.961 total time=  11.1s\n",
            "[CV 1/5; 5/9] START nuron1=8, nuron2=4..........................................\n",
            "[CV 1/5; 5/9] END ...........nuron1=8, nuron2=4;, score=1.000 total time=   6.9s\n",
            "[CV 2/5; 5/9] START nuron1=8, nuron2=4..........................................\n",
            "[CV 2/5; 5/9] END ...........nuron1=8, nuron2=4;, score=1.000 total time=   7.5s\n",
            "[CV 3/5; 5/9] START nuron1=8, nuron2=4..........................................\n",
            "[CV 3/5; 5/9] END ...........nuron1=8, nuron2=4;, score=1.000 total time=   7.0s\n",
            "[CV 4/5; 5/9] START nuron1=8, nuron2=4..........................................\n",
            "[CV 4/5; 5/9] END ...........nuron1=8, nuron2=4;, score=0.961 total time=  11.3s\n",
            "[CV 5/5; 5/9] START nuron1=8, nuron2=4..........................................\n",
            "[CV 5/5; 5/9] END ...........nuron1=8, nuron2=4;, score=0.942 total time=   7.4s\n",
            "[CV 1/5; 6/9] START nuron1=8, nuron2=8..........................................\n",
            "[CV 1/5; 6/9] END ...........nuron1=8, nuron2=8;, score=1.000 total time=  11.0s\n",
            "[CV 2/5; 6/9] START nuron1=8, nuron2=8..........................................\n",
            "[CV 2/5; 6/9] END ...........nuron1=8, nuron2=8;, score=1.000 total time=   6.9s\n",
            "[CV 3/5; 6/9] START nuron1=8, nuron2=8..........................................\n",
            "[CV 3/5; 6/9] END ...........nuron1=8, nuron2=8;, score=1.000 total time=  11.3s\n",
            "[CV 4/5; 6/9] START nuron1=8, nuron2=8..........................................\n",
            "[CV 4/5; 6/9] END ...........nuron1=8, nuron2=8;, score=0.971 total time=   7.5s\n",
            "[CV 5/5; 6/9] START nuron1=8, nuron2=8..........................................\n",
            "[CV 5/5; 6/9] END ...........nuron1=8, nuron2=8;, score=0.961 total time=   6.9s\n",
            "[CV 1/5; 7/9] START nuron1=16, nuron2=2.........................................\n",
            "[CV 1/5; 7/9] END ..........nuron1=16, nuron2=2;, score=1.000 total time=   7.3s\n",
            "[CV 2/5; 7/9] START nuron1=16, nuron2=2.........................................\n",
            "[CV 2/5; 7/9] END ..........nuron1=16, nuron2=2;, score=0.981 total time=  11.0s\n",
            "[CV 3/5; 7/9] START nuron1=16, nuron2=2.........................................\n",
            "[CV 3/5; 7/9] END ..........nuron1=16, nuron2=2;, score=1.000 total time=  11.7s\n",
            "[CV 4/5; 7/9] START nuron1=16, nuron2=2.........................................\n",
            "[CV 4/5; 7/9] END ..........nuron1=16, nuron2=2;, score=0.981 total time=  11.1s\n",
            "[CV 5/5; 7/9] START nuron1=16, nuron2=2.........................................\n",
            "[CV 5/5; 7/9] END ..........nuron1=16, nuron2=2;, score=0.942 total time=  11.1s\n",
            "[CV 1/5; 8/9] START nuron1=16, nuron2=4.........................................\n",
            "[CV 1/5; 8/9] END ..........nuron1=16, nuron2=4;, score=1.000 total time=   6.9s\n",
            "[CV 2/5; 8/9] START nuron1=16, nuron2=4.........................................\n",
            "[CV 2/5; 8/9] END ..........nuron1=16, nuron2=4;, score=1.000 total time=   7.8s\n",
            "[CV 3/5; 8/9] START nuron1=16, nuron2=4.........................................\n",
            "[CV 3/5; 8/9] END ..........nuron1=16, nuron2=4;, score=1.000 total time=  11.0s\n",
            "[CV 4/5; 8/9] START nuron1=16, nuron2=4.........................................\n",
            "[CV 4/5; 8/9] END ..........nuron1=16, nuron2=4;, score=0.971 total time=   7.1s\n",
            "[CV 5/5; 8/9] START nuron1=16, nuron2=4.........................................\n",
            "[CV 5/5; 8/9] END ..........nuron1=16, nuron2=4;, score=0.961 total time=   7.6s\n",
            "[CV 1/5; 9/9] START nuron1=16, nuron2=8.........................................\n",
            "[CV 1/5; 9/9] END ..........nuron1=16, nuron2=8;, score=1.000 total time=   7.7s\n",
            "[CV 2/5; 9/9] START nuron1=16, nuron2=8.........................................\n",
            "[CV 2/5; 9/9] END ..........nuron1=16, nuron2=8;, score=1.000 total time=   6.8s\n",
            "[CV 3/5; 9/9] START nuron1=16, nuron2=8.........................................\n",
            "[CV 3/5; 9/9] END ..........nuron1=16, nuron2=8;, score=1.000 total time=  11.0s\n",
            "[CV 4/5; 9/9] START nuron1=16, nuron2=8.........................................\n",
            "[CV 4/5; 9/9] END ..........nuron1=16, nuron2=8;, score=0.951 total time=  11.0s\n",
            "[CV 5/5; 9/9] START nuron1=16, nuron2=8.........................................\n",
            "[CV 5/5; 9/9] END ..........nuron1=16, nuron2=8;, score=0.951 total time=  11.0s\n"
          ]
        }
      ]
    },
    {
      "cell_type": "code",
      "source": [
        "print(\"best: {}, using : {}\".format(grid_result.best_score_,grid_result.best_params_))\n",
        "means=grid_result.cv_results_[\"mean_test_score\"]\n",
        "std=grid_result.cv_results_[\"std_test_score\"]\n",
        "params=grid_result.cv_results_[\"params\"]\n",
        "for mean,std,params in zip(means,std,params):\n",
        "  print(\" {}, {}, params: {} \".format(mean,std,params))"
      ],
      "metadata": {
        "colab": {
          "base_uri": "https://localhost:8080/"
        },
        "id": "gPJGj4eUN6tf",
        "outputId": "71f62f92-2977-410d-e6f1-bfcc49c8bad1"
      },
      "execution_count": 46,
      "outputs": [
        {
          "output_type": "stream",
          "name": "stdout",
          "text": [
            "best: 0.9864077687263488, using : {'nuron1': 4, 'nuron2': 2}\n",
            " 0.9864077687263488, 0.016927758771990948, params: {'nuron1': 4, 'nuron2': 2} \n",
            " 0.9825242757797241, 0.02162238219576884, params: {'nuron1': 4, 'nuron2': 4} \n",
            " 0.978659451007843, 0.0233103416742172, params: {'nuron1': 4, 'nuron2': 8} \n",
            " 0.9825242757797241, 0.02162238219576884, params: {'nuron1': 8, 'nuron2': 2} \n",
            " 0.9805825233459473, 0.024561384825713878, params: {'nuron1': 8, 'nuron2': 4} \n",
            " 0.9864077687263488, 0.016927758771990948, params: {'nuron1': 8, 'nuron2': 8} \n",
            " 0.9806198596954345, 0.021270919744903034, params: {'nuron1': 16, 'nuron2': 2} \n",
            " 0.9864077687263488, 0.016927758771990948, params: {'nuron1': 16, 'nuron2': 4} \n",
            " 0.9805825233459473, 0.023781454947417, params: {'nuron1': 16, 'nuron2': 8} \n"
          ]
        }
      ]
    },
    {
      "cell_type": "markdown",
      "source": [
        "0.9805825233459473, 0.024561384825713878, params: {'nuron1': 8, 'nuron2': 4}"
      ],
      "metadata": {
        "id": "ug3RDX9Qe_pX"
      }
    },
    {
      "cell_type": "markdown",
      "source": [
        "0.9864077687263488, 0.016927758771990948, params: {'nuron1': 4, 'nuron2': 2}"
      ],
      "metadata": {
        "id": "i7UGYIPl28BL"
      }
    },
    {
      "cell_type": "code",
      "source": [
        "def create_model():\n",
        "  model=Sequential()\n",
        "  model.add(Dense(16,input_dim=11,kernel_initializer='uniform',activation='tanh'))\n",
        "  model.add(Dropout(0.1))\n",
        "  model.add(Dense(4,kernel_initializer='uniform',activation='tanh'))\n",
        "  model.add(Dropout(0.1))\n",
        "  model.add(Dense(1,activation='sigmoid'))\n",
        "\n",
        "  adam=Adam(learning_rate=0.001)\n",
        "  model.compile(loss=\"mean_squared_error\",optimizer=adam,metrics=['accuracy'])\n",
        "  return model\n",
        "\n",
        "\n",
        "model_new=KerasClassifier(build_fn=create_model,verbose=0,batch_size = 10,epochs = 150)\n",
        "\n",
        "model_new.fit(xtran,y)\n",
        "y_pred=model_new.predict(xtran)"
      ],
      "metadata": {
        "colab": {
          "base_uri": "https://localhost:8080/"
        },
        "id": "TBrIPFAOOuvM",
        "outputId": "893f72d3-6c34-4851-c6ce-745512dc89f0"
      },
      "execution_count": 65,
      "outputs": [
        {
          "output_type": "stream",
          "name": "stdout",
          "text": [
            "17/17 [==============================] - 0s 1ms/step\n"
          ]
        }
      ]
    },
    {
      "cell_type": "code",
      "source": [
        "y_pred=model_new.predict(xtran)"
      ],
      "metadata": {
        "colab": {
          "base_uri": "https://localhost:8080/"
        },
        "id": "0SwwB2L_8bdg",
        "outputId": "f124102a-dcef-4de8-a4dd-f580a8a0fe1b"
      },
      "execution_count": 81,
      "outputs": [
        {
          "output_type": "stream",
          "name": "stdout",
          "text": [
            "17/17 [==============================] - 0s 2ms/step\n"
          ]
        }
      ]
    },
    {
      "cell_type": "markdown",
      "source": [
        "accuracy_score(np.round(ytran),np.round(y_pred))"
      ],
      "metadata": {
        "id": "XuIycijqPQui"
      }
    },
    {
      "cell_type": "code",
      "source": [
        "accuracy_score(np.round(y),np.round(y_pred))"
      ],
      "metadata": {
        "colab": {
          "base_uri": "https://localhost:8080/"
        },
        "id": "nIP3Shcr8TV3",
        "outputId": "2e72a3e1-b39f-451e-e548-47a8b825c786"
      },
      "execution_count": 82,
      "outputs": [
        {
          "output_type": "execute_result",
          "data": {
            "text/plain": [
              "0.941972920696325"
            ]
          },
          "metadata": {},
          "execution_count": 82
        }
      ]
    },
    {
      "cell_type": "code",
      "source": [
        "#train test validation\n",
        "x_train,x_test,y_train,y_test=train_test_split(xtran,y,test_size=0.2)"
      ],
      "metadata": {
        "id": "e1l2dpzqPfYS"
      },
      "execution_count": 83,
      "outputs": []
    },
    {
      "cell_type": "code",
      "source": [
        "model_new.fit(x_train,y_train)\n",
        "y_pred=model_new.predict(x_train)\n",
        "print(\"train score {}\".format(accuracy_score(np.round(y_train),np.round(y_pred))))"
      ],
      "metadata": {
        "colab": {
          "base_uri": "https://localhost:8080/"
        },
        "id": "WSoEOgN-f8mJ",
        "outputId": "620ee445-9230-477d-89a0-79b049136125"
      },
      "execution_count": 84,
      "outputs": [
        {
          "output_type": "stream",
          "name": "stdout",
          "text": [
            "13/13 [==============================] - 0s 2ms/step\n",
            "train score 0.9927360774818402\n"
          ]
        }
      ]
    },
    {
      "cell_type": "code",
      "source": [
        "model_new.fit(x_test,y_test)\n",
        "y_pred_test=model_new.predict(x_test)\n",
        "print(\"test score {}\".format(accuracy_score(np.round(y_test),np.round(y_pred_test))))"
      ],
      "metadata": {
        "colab": {
          "base_uri": "https://localhost:8080/"
        },
        "id": "nDaKdjsDgYPl",
        "outputId": "3f22c57b-ba9a-41a2-a436-525e80ccf334"
      },
      "execution_count": 85,
      "outputs": [
        {
          "output_type": "stream",
          "name": "stdout",
          "text": [
            "4/4 [==============================] - 0s 4ms/step\n",
            "test score 1.0\n"
          ]
        }
      ]
    },
    {
      "cell_type": "code",
      "source": [
        "forest2.shape"
      ],
      "metadata": {
        "colab": {
          "base_uri": "https://localhost:8080/"
        },
        "id": "WVnMdE-H8wht",
        "outputId": "170856d6-a3bd-4f3e-cff2-5b618e907793"
      },
      "execution_count": 87,
      "outputs": [
        {
          "output_type": "execute_result",
          "data": {
            "text/plain": [
              "(517, 12)"
            ]
          },
          "metadata": {},
          "execution_count": 87
        }
      ]
    },
    {
      "cell_type": "code",
      "source": [
        "forest2['pred']=model_new.predict(xtran)"
      ],
      "metadata": {
        "colab": {
          "base_uri": "https://localhost:8080/"
        },
        "id": "7rP6p07O89_Z",
        "outputId": "9416f56f-9c8e-483a-ed38-c880f425931d"
      },
      "execution_count": 88,
      "outputs": [
        {
          "output_type": "stream",
          "name": "stdout",
          "text": [
            "17/17 [==============================] - 0s 1ms/step\n"
          ]
        }
      ]
    },
    {
      "cell_type": "code",
      "source": [
        "forest2.head()"
      ],
      "metadata": {
        "colab": {
          "base_uri": "https://localhost:8080/",
          "height": 206
        },
        "id": "eegePgLm9UAx",
        "outputId": "e5de14b7-738d-462c-c183-457b339f404a"
      },
      "execution_count": 89,
      "outputs": [
        {
          "output_type": "execute_result",
          "data": {
            "text/plain": [
              "   month  day  FFMC   DMC     DC  ISI  temp  RH  wind  rain  area  \\\n",
              "0      7    0  86.2  26.2   94.3  5.1   8.2  51   6.7   0.0   0.0   \n",
              "1     10    5  90.6  35.4  669.1  6.7  18.0  33   0.9   0.0   0.0   \n",
              "2     10    2  90.6  43.7  686.9  6.7  14.6  33   1.3   0.0   0.0   \n",
              "3      7    0  91.7  33.3   77.5  9.0   8.3  97   4.0   0.2   0.0   \n",
              "4      7    3  89.3  51.3  102.2  9.6  11.4  99   1.8   0.0   0.0   \n",
              "\n",
              "   size_category  pred  \n",
              "0              0     0  \n",
              "1              0     0  \n",
              "2              0     0  \n",
              "3              0     0  \n",
              "4              0     0  "
            ],
            "text/html": [
              "\n",
              "  <div id=\"df-4c79e735-4cf8-416e-8c4b-0d0e887abe2f\">\n",
              "    <div class=\"colab-df-container\">\n",
              "      <div>\n",
              "<style scoped>\n",
              "    .dataframe tbody tr th:only-of-type {\n",
              "        vertical-align: middle;\n",
              "    }\n",
              "\n",
              "    .dataframe tbody tr th {\n",
              "        vertical-align: top;\n",
              "    }\n",
              "\n",
              "    .dataframe thead th {\n",
              "        text-align: right;\n",
              "    }\n",
              "</style>\n",
              "<table border=\"1\" class=\"dataframe\">\n",
              "  <thead>\n",
              "    <tr style=\"text-align: right;\">\n",
              "      <th></th>\n",
              "      <th>month</th>\n",
              "      <th>day</th>\n",
              "      <th>FFMC</th>\n",
              "      <th>DMC</th>\n",
              "      <th>DC</th>\n",
              "      <th>ISI</th>\n",
              "      <th>temp</th>\n",
              "      <th>RH</th>\n",
              "      <th>wind</th>\n",
              "      <th>rain</th>\n",
              "      <th>area</th>\n",
              "      <th>size_category</th>\n",
              "      <th>pred</th>\n",
              "    </tr>\n",
              "  </thead>\n",
              "  <tbody>\n",
              "    <tr>\n",
              "      <th>0</th>\n",
              "      <td>7</td>\n",
              "      <td>0</td>\n",
              "      <td>86.2</td>\n",
              "      <td>26.2</td>\n",
              "      <td>94.3</td>\n",
              "      <td>5.1</td>\n",
              "      <td>8.2</td>\n",
              "      <td>51</td>\n",
              "      <td>6.7</td>\n",
              "      <td>0.0</td>\n",
              "      <td>0.0</td>\n",
              "      <td>0</td>\n",
              "      <td>0</td>\n",
              "    </tr>\n",
              "    <tr>\n",
              "      <th>1</th>\n",
              "      <td>10</td>\n",
              "      <td>5</td>\n",
              "      <td>90.6</td>\n",
              "      <td>35.4</td>\n",
              "      <td>669.1</td>\n",
              "      <td>6.7</td>\n",
              "      <td>18.0</td>\n",
              "      <td>33</td>\n",
              "      <td>0.9</td>\n",
              "      <td>0.0</td>\n",
              "      <td>0.0</td>\n",
              "      <td>0</td>\n",
              "      <td>0</td>\n",
              "    </tr>\n",
              "    <tr>\n",
              "      <th>2</th>\n",
              "      <td>10</td>\n",
              "      <td>2</td>\n",
              "      <td>90.6</td>\n",
              "      <td>43.7</td>\n",
              "      <td>686.9</td>\n",
              "      <td>6.7</td>\n",
              "      <td>14.6</td>\n",
              "      <td>33</td>\n",
              "      <td>1.3</td>\n",
              "      <td>0.0</td>\n",
              "      <td>0.0</td>\n",
              "      <td>0</td>\n",
              "      <td>0</td>\n",
              "    </tr>\n",
              "    <tr>\n",
              "      <th>3</th>\n",
              "      <td>7</td>\n",
              "      <td>0</td>\n",
              "      <td>91.7</td>\n",
              "      <td>33.3</td>\n",
              "      <td>77.5</td>\n",
              "      <td>9.0</td>\n",
              "      <td>8.3</td>\n",
              "      <td>97</td>\n",
              "      <td>4.0</td>\n",
              "      <td>0.2</td>\n",
              "      <td>0.0</td>\n",
              "      <td>0</td>\n",
              "      <td>0</td>\n",
              "    </tr>\n",
              "    <tr>\n",
              "      <th>4</th>\n",
              "      <td>7</td>\n",
              "      <td>3</td>\n",
              "      <td>89.3</td>\n",
              "      <td>51.3</td>\n",
              "      <td>102.2</td>\n",
              "      <td>9.6</td>\n",
              "      <td>11.4</td>\n",
              "      <td>99</td>\n",
              "      <td>1.8</td>\n",
              "      <td>0.0</td>\n",
              "      <td>0.0</td>\n",
              "      <td>0</td>\n",
              "      <td>0</td>\n",
              "    </tr>\n",
              "  </tbody>\n",
              "</table>\n",
              "</div>\n",
              "      <button class=\"colab-df-convert\" onclick=\"convertToInteractive('df-4c79e735-4cf8-416e-8c4b-0d0e887abe2f')\"\n",
              "              title=\"Convert this dataframe to an interactive table.\"\n",
              "              style=\"display:none;\">\n",
              "        \n",
              "  <svg xmlns=\"http://www.w3.org/2000/svg\" height=\"24px\"viewBox=\"0 0 24 24\"\n",
              "       width=\"24px\">\n",
              "    <path d=\"M0 0h24v24H0V0z\" fill=\"none\"/>\n",
              "    <path d=\"M18.56 5.44l.94 2.06.94-2.06 2.06-.94-2.06-.94-.94-2.06-.94 2.06-2.06.94zm-11 1L8.5 8.5l.94-2.06 2.06-.94-2.06-.94L8.5 2.5l-.94 2.06-2.06.94zm10 10l.94 2.06.94-2.06 2.06-.94-2.06-.94-.94-2.06-.94 2.06-2.06.94z\"/><path d=\"M17.41 7.96l-1.37-1.37c-.4-.4-.92-.59-1.43-.59-.52 0-1.04.2-1.43.59L10.3 9.45l-7.72 7.72c-.78.78-.78 2.05 0 2.83L4 21.41c.39.39.9.59 1.41.59.51 0 1.02-.2 1.41-.59l7.78-7.78 2.81-2.81c.8-.78.8-2.07 0-2.86zM5.41 20L4 18.59l7.72-7.72 1.47 1.35L5.41 20z\"/>\n",
              "  </svg>\n",
              "      </button>\n",
              "      \n",
              "  <style>\n",
              "    .colab-df-container {\n",
              "      display:flex;\n",
              "      flex-wrap:wrap;\n",
              "      gap: 12px;\n",
              "    }\n",
              "\n",
              "    .colab-df-convert {\n",
              "      background-color: #E8F0FE;\n",
              "      border: none;\n",
              "      border-radius: 50%;\n",
              "      cursor: pointer;\n",
              "      display: none;\n",
              "      fill: #1967D2;\n",
              "      height: 32px;\n",
              "      padding: 0 0 0 0;\n",
              "      width: 32px;\n",
              "    }\n",
              "\n",
              "    .colab-df-convert:hover {\n",
              "      background-color: #E2EBFA;\n",
              "      box-shadow: 0px 1px 2px rgba(60, 64, 67, 0.3), 0px 1px 3px 1px rgba(60, 64, 67, 0.15);\n",
              "      fill: #174EA6;\n",
              "    }\n",
              "\n",
              "    [theme=dark] .colab-df-convert {\n",
              "      background-color: #3B4455;\n",
              "      fill: #D2E3FC;\n",
              "    }\n",
              "\n",
              "    [theme=dark] .colab-df-convert:hover {\n",
              "      background-color: #434B5C;\n",
              "      box-shadow: 0px 1px 3px 1px rgba(0, 0, 0, 0.15);\n",
              "      filter: drop-shadow(0px 1px 2px rgba(0, 0, 0, 0.3));\n",
              "      fill: #FFFFFF;\n",
              "    }\n",
              "  </style>\n",
              "\n",
              "      <script>\n",
              "        const buttonEl =\n",
              "          document.querySelector('#df-4c79e735-4cf8-416e-8c4b-0d0e887abe2f button.colab-df-convert');\n",
              "        buttonEl.style.display =\n",
              "          google.colab.kernel.accessAllowed ? 'block' : 'none';\n",
              "\n",
              "        async function convertToInteractive(key) {\n",
              "          const element = document.querySelector('#df-4c79e735-4cf8-416e-8c4b-0d0e887abe2f');\n",
              "          const dataTable =\n",
              "            await google.colab.kernel.invokeFunction('convertToInteractive',\n",
              "                                                     [key], {});\n",
              "          if (!dataTable) return;\n",
              "\n",
              "          const docLinkHtml = 'Like what you see? Visit the ' +\n",
              "            '<a target=\"_blank\" href=https://colab.research.google.com/notebooks/data_table.ipynb>data table notebook</a>'\n",
              "            + ' to learn more about interactive tables.';\n",
              "          element.innerHTML = '';\n",
              "          dataTable['output_type'] = 'display_data';\n",
              "          await google.colab.output.renderOutput(dataTable, element);\n",
              "          const docLink = document.createElement('div');\n",
              "          docLink.innerHTML = docLinkHtml;\n",
              "          element.appendChild(docLink);\n",
              "        }\n",
              "      </script>\n",
              "    </div>\n",
              "  </div>\n",
              "  "
            ]
          },
          "metadata": {},
          "execution_count": 89
        }
      ]
    },
    {
      "cell_type": "code",
      "source": [
        "forest2['error']=forest2.size_category-forest2.pred\n",
        "forest2.error"
      ],
      "metadata": {
        "colab": {
          "base_uri": "https://localhost:8080/"
        },
        "id": "RrzYGxip9WRo",
        "outputId": "250e67c7-b8c5-4e18-f4ed-46c9345cf484"
      },
      "execution_count": 90,
      "outputs": [
        {
          "output_type": "execute_result",
          "data": {
            "text/plain": [
              "0      0\n",
              "1      0\n",
              "2      0\n",
              "3      0\n",
              "4      0\n",
              "      ..\n",
              "512    1\n",
              "513    0\n",
              "514    0\n",
              "515    0\n",
              "516    0\n",
              "Name: error, Length: 517, dtype: int64"
            ]
          },
          "metadata": {},
          "execution_count": 90
        }
      ]
    },
    {
      "cell_type": "code",
      "source": [
        "print(classification_report(forest2['size_category'],forest2['pred']))"
      ],
      "metadata": {
        "colab": {
          "base_uri": "https://localhost:8080/"
        },
        "id": "xvE9XSdv9heq",
        "outputId": "4db95c0a-f337-4baf-fee6-361d0e346973"
      },
      "execution_count": 93,
      "outputs": [
        {
          "output_type": "stream",
          "name": "stdout",
          "text": [
            "              precision    recall  f1-score   support\n",
            "\n",
            "           0       0.95      1.00      0.98       378\n",
            "           1       0.99      0.87      0.93       139\n",
            "\n",
            "    accuracy                           0.96       517\n",
            "   macro avg       0.97      0.93      0.95       517\n",
            "weighted avg       0.96      0.96      0.96       517\n",
            "\n"
          ]
        }
      ]
    },
    {
      "cell_type": "code",
      "source": [
        "confusion_matrix(forest2['size_category'],forest2['pred'])"
      ],
      "metadata": {
        "colab": {
          "base_uri": "https://localhost:8080/"
        },
        "id": "joeeXZIs-AaI",
        "outputId": "b19c02d5-0b5a-4e52-c024-dd37111d685a"
      },
      "execution_count": 94,
      "outputs": [
        {
          "output_type": "execute_result",
          "data": {
            "text/plain": [
              "array([[377,   1],\n",
              "       [ 18, 121]])"
            ]
          },
          "metadata": {},
          "execution_count": 94
        }
      ]
    },
    {
      "cell_type": "code",
      "source": [
        "forest2.to_csv(\"forestFire_prediction.csv\")"
      ],
      "metadata": {
        "id": "BytgkKF_-kHx"
      },
      "execution_count": 96,
      "outputs": []
    }
  ]
}